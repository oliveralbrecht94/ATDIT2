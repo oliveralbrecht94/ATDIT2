{
 "cells": [
  {
   "cell_type": "markdown",
   "metadata": {},
   "source": [
    "# Aufgabe A \n",
    "######  1 ) How many distances you need to calculate if you have 60,000 samples in the trainingset for 50 samples?"
   ]
  },
  {
   "cell_type": "markdown",
   "metadata": {},
   "source": [
    "Every picture has to check with every sample so through knn the algorithm calculates the distance of every v (v = samples = 50) to all samples in M (M = dataset / trainingset = 60.000).\n",
    "\n",
    "number of distances = M * v = 60.000 * 50 =  3.000.000 "
   ]
  },
  {
   "cell_type": "code",
   "execution_count": null,
   "metadata": {},
   "outputs": [],
   "source": []
  },
  {
   "cell_type": "markdown",
   "metadata": {},
   "source": [
    "##### 2 ) How many distances do you need to calculate if you have n samples in the trainingset?"
   ]
  },
  {
   "cell_type": "markdown",
   "metadata": {},
   "source": [
    "The number of sample in the testset * the number of samples in the trainingset = total distance\n",
    "\n",
    "In this case: v * M = total distance\n",
    "              \n",
    "              50 * n = total distance \n",
    "              \n",
    "              50n = #total distances\n"
   ]
  },
  {
   "cell_type": "code",
   "execution_count": null,
   "metadata": {},
   "outputs": [],
   "source": []
  },
  {
   "cell_type": "code",
   "execution_count": null,
   "metadata": {},
   "outputs": [],
   "source": []
  }
 ],
 "metadata": {
  "kernelspec": {
   "display_name": "Python 3",
   "language": "python",
   "name": "python3"
  },
  "language_info": {
   "codemirror_mode": {
    "name": "ipython",
    "version": 3
   },
   "file_extension": ".py",
   "mimetype": "text/x-python",
   "name": "python",
   "nbconvert_exporter": "python",
   "pygments_lexer": "ipython3",
   "version": "3.7.3"
  }
 },
 "nbformat": 4,
 "nbformat_minor": 2
}

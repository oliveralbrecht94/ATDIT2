{
  "nbformat": 4,
  "nbformat_minor": 0,
  "metadata": {
    "colab": {
      "name": "Untitled7.ipynb",
      "provenance": [],
      "include_colab_link": true
    },
    "kernelspec": {
      "name": "python3",
      "display_name": "Python 3"
    }
  },
  "cells": [
    {
      "cell_type": "markdown",
      "metadata": {
        "id": "view-in-github",
        "colab_type": "text"
      },
      "source": [
        "<a href=\"https://colab.research.google.com/github/oliveralbrecht94/ATDIT2/blob/master/Task%20C.ipynb\" target=\"_parent\"><img src=\"https://colab.research.google.com/assets/colab-badge.svg\" alt=\"Open In Colab\"/></a>"
      ]
    },
    {
      "cell_type": "markdown",
      "metadata": {
        "id": "fuzyxH_OOYaU",
        "colab_type": "text"
      },
      "source": [
        "# Import needed classes"
      ]
    },
    {
      "cell_type": "code",
      "metadata": {
        "id": "wkyglWDaKYnG",
        "colab_type": "code",
        "outputId": "9e31468d-d4f5-4b9c-94ba-9e7a5135738d",
        "colab": {
          "base_uri": "https://localhost:8080/",
          "height": 34
        }
      },
      "source": [
        "import tensorflow as tf\n",
        "import numpy as np\n",
        "import matplotlib.pyplot as plt\n",
        "import seaborn as sns\n",
        "from sklearn.manifold import TSNE\n",
        "from scipy import stats\n",
        "import scipy.spatial.distance\n",
        "\n",
        "np.random.seed(1337)\n",
        "plt.set_cmap('gray')"
      ],
      "execution_count": 2,
      "outputs": [
        {
          "output_type": "display_data",
          "data": {
            "text/plain": [
              "<Figure size 432x288 with 0 Axes>"
            ]
          },
          "metadata": {
            "tags": []
          }
        }
      ]
    },
    {
      "cell_type": "markdown",
      "metadata": {
        "id": "RzUgjJpqOrLP",
        "colab_type": "text"
      },
      "source": [
        "# Load MNIST Dataset"
      ]
    },
    {
      "cell_type": "code",
      "metadata": {
        "id": "eSEYHo-rOjWU",
        "colab_type": "code",
        "outputId": "827c142c-75ed-4ef8-ba78-b52991efdbdf",
        "colab": {
          "base_uri": "https://localhost:8080/",
          "height": 52
        }
      },
      "source": [
        "train = tf.keras.datasets.mnist.load_data()[0]\n",
        "X_train, Y_train = train[0], train[1]"
      ],
      "execution_count": 3,
      "outputs": [
        {
          "output_type": "stream",
          "text": [
            "Downloading data from https://storage.googleapis.com/tensorflow/tf-keras-datasets/mnist.npz\n",
            "11493376/11490434 [==============================] - 0s 0us/step\n"
          ],
          "name": "stdout"
        }
      ]
    },
    {
      "cell_type": "code",
      "metadata": {
        "id": "cLeP1d7jOwod",
        "colab_type": "code",
        "colab": {}
      },
      "source": [
        "n = X_train.shape[0]\n",
        "m = X_train.shape[1]**2\n",
        "\n",
        "X_train = X_train.reshape([n, m])"
      ],
      "execution_count": 0,
      "outputs": []
    },
    {
      "cell_type": "markdown",
      "metadata": {
        "id": "MHmURLgXR5-V",
        "colab_type": "text"
      },
      "source": [
        "# Take subsamples"
      ]
    },
    {
      "cell_type": "code",
      "metadata": {
        "id": "XEhUAv0UPEE0",
        "colab_type": "code",
        "colab": {}
      },
      "source": [
        "n_sample = 10000\n",
        "idx = np.random.randint(n, size=n_sample)\n",
        "x_sample = X_train[idx]\n",
        "y_sample = Y_train[idx]\n",
        "\n"
      ],
      "execution_count": 0,
      "outputs": []
    },
    {
      "cell_type": "markdown",
      "metadata": {
        "id": "1Mf9lv2aZJMn",
        "colab_type": "text"
      },
      "source": [
        "# Init Centroids"
      ]
    },
    {
      "cell_type": "code",
      "metadata": {
        "id": "Y5hHUcgaPNmY",
        "colab_type": "code",
        "outputId": "a3b4b87d-97cd-4e93-82c6-30c485354d07",
        "colab": {
          "base_uri": "https://localhost:8080/",
          "height": 34
        }
      },
      "source": [
        "k = 10\n",
        "# init centroids\n",
        "idx_centroid = np.random.randint(n_sample, size=k)\n",
        "centroids = x_sample[idx_centroid]\n",
        "\n",
        "\n",
        "idx_centroid"
      ],
      "execution_count": 6,
      "outputs": [
        {
          "output_type": "execute_result",
          "data": {
            "text/plain": [
              "array([3951, 5479, 6465, 7633, 1707, 3634, 6262, 6001, 7776, 7732])"
            ]
          },
          "metadata": {
            "tags": []
          },
          "execution_count": 6
        }
      ]
    },
    {
      "cell_type": "code",
      "metadata": {
        "id": "7wsuRcJbPV9G",
        "colab_type": "code",
        "outputId": "1e30c5d4-6447-44cb-8a0e-88b9dc9fed61",
        "colab": {
          "base_uri": "https://localhost:8080/",
          "height": 34
        }
      },
      "source": [
        "# calculate distances\n",
        "dists = scipy.spatial.distance.cdist(x_sample, centroids, metric='euclid')\n",
        "dists.shape"
      ],
      "execution_count": 7,
      "outputs": [
        {
          "output_type": "execute_result",
          "data": {
            "text/plain": [
              "(10000, 10)"
            ]
          },
          "metadata": {
            "tags": []
          },
          "execution_count": 7
        }
      ]
    },
    {
      "cell_type": "code",
      "metadata": {
        "id": "jiEtvRnoPX92",
        "colab_type": "code",
        "outputId": "42231e3a-bd60-4be1-8341-525d83ee9670",
        "colab": {
          "base_uri": "https://localhost:8080/",
          "height": 34
        }
      },
      "source": [
        "#find nearest ones\n",
        "labels = np.argmin(dists, axis=1)\n",
        "labels"
      ],
      "execution_count": 8,
      "outputs": [
        {
          "output_type": "execute_result",
          "data": {
            "text/plain": [
              "array([1, 7, 5, ..., 1, 9, 3])"
            ]
          },
          "metadata": {
            "tags": []
          },
          "execution_count": 8
        }
      ]
    },
    {
      "cell_type": "code",
      "metadata": {
        "id": "UePR6_jNPZVP",
        "colab_type": "code",
        "outputId": "a8e95da9-83db-455b-81ae-d520c5033de9",
        "colab": {
          "base_uri": "https://localhost:8080/",
          "height": 34
        }
      },
      "source": [
        "np.unique(labels)"
      ],
      "execution_count": 9,
      "outputs": [
        {
          "output_type": "execute_result",
          "data": {
            "text/plain": [
              "array([0, 1, 2, 3, 4, 5, 6, 7, 8, 9])"
            ]
          },
          "metadata": {
            "tags": []
          },
          "execution_count": 9
        }
      ]
    },
    {
      "cell_type": "code",
      "metadata": {
        "id": "XONtP-RjPelv",
        "colab_type": "code",
        "colab": {}
      },
      "source": [
        "# get new centroids\n",
        "list = [x_sample[labels == i].mean(0) for i in range(k)]\n",
        "centroids = np.stack(list)"
      ],
      "execution_count": 0,
      "outputs": []
    },
    {
      "cell_type": "code",
      "metadata": {
        "id": "3wUtheECPaw6",
        "colab_type": "code",
        "colab": {}
      },
      "source": [
        "# do the iteraions of kmean\n",
        "#iteration = 10\n",
        "#iteration = 100\n",
        "iteration = 1000\n",
        "for j in range(iteration):\n",
        "    \n",
        "    # calc distances\n",
        "    dists = scipy.spatial.distance.cdist(x_sample, centroids, metric = 'euclid')\n",
        "    \n",
        "    # label according to nearest centroids\n",
        "    centroid_labels = np.argmin(dists, axis = 1)\n",
        "    \n",
        "    # get new centroids\n",
        "    centroid_list = [x_sample[centroid_labels == i].mean(0) for i in range(k)]\n",
        "    centroids = np.stack(centroid_list)"
      ],
      "execution_count": 0,
      "outputs": []
    },
    {
      "cell_type": "markdown",
      "metadata": {
        "id": "abjA7Js1Zfh1",
        "colab_type": "text"
      },
      "source": [
        "# Clustering the data points"
      ]
    },
    {
      "cell_type": "code",
      "metadata": {
        "id": "Ga7RevEmQCbk",
        "colab_type": "code",
        "colab": {}
      },
      "source": [
        "cluster_0 = x_sample[labels == 0]\n",
        "cluster_1 = x_sample[labels == 1]\n",
        "cluster_2 = x_sample[labels == 2]\n",
        "cluster_3 = x_sample[labels == 3]\n",
        "cluster_4 = x_sample[labels == 4]\n",
        "cluster_5 = x_sample[labels == 5]\n",
        "cluster_6 = x_sample[labels == 6]\n",
        "cluster_7 = x_sample[labels == 7]\n",
        "cluster_8 = x_sample[labels == 8]\n",
        "cluster_9 = x_sample[labels == 9]\n"
      ],
      "execution_count": 0,
      "outputs": []
    },
    {
      "cell_type": "code",
      "metadata": {
        "id": "Ge3P7MTCQUbw",
        "colab_type": "code",
        "colab": {}
      },
      "source": [
        "labels_cluster_0 = y_sample[centroid_labels == 0]\n",
        "labels_cluster_1 = y_sample[centroid_labels == 1]\n",
        "labels_cluster_2 = y_sample[centroid_labels == 2]\n",
        "labels_cluster_3 = y_sample[centroid_labels == 3]\n",
        "labels_cluster_4 = y_sample[centroid_labels == 4]\n",
        "labels_cluster_5 = y_sample[centroid_labels == 5]\n",
        "labels_cluster_6 = y_sample[centroid_labels == 6]\n",
        "labels_cluster_7 = y_sample[centroid_labels == 7]\n",
        "labels_cluster_8 = y_sample[centroid_labels == 8]\n",
        "labels_cluster_9 = y_sample[centroid_labels == 9]"
      ],
      "execution_count": 0,
      "outputs": []
    },
    {
      "cell_type": "code",
      "metadata": {
        "id": "Kt3_hzsVa793",
        "colab_type": "code",
        "colab": {
          "base_uri": "https://localhost:8080/",
          "height": 191
        },
        "outputId": "6ba91cc1-ae0f-4a2f-8d21-88d7c3386ff8"
      },
      "source": [
        "print(\"Numbers in Cluster 0: \"+str(np.unique(labels_cluster_0)))\n",
        "print(\"Numbers in Cluster 1: \"+str(np.unique(labels_cluster_1)))\n",
        "print(\"Numbers in Cluster 2: \"+str(np.unique(labels_cluster_2)))\n",
        "print(\"Numbers in Cluster 3: \"+str(np.unique(labels_cluster_3)))\n",
        "print(\"Numbers in Cluster 4: \"+str(np.unique(labels_cluster_4)))\n",
        "print(\"Numbers in Cluster 5: \"+str(np.unique(labels_cluster_5)))\n",
        "print(\"Numbers in Cluster 6: \"+str(np.unique(labels_cluster_6)))\n",
        "print(\"Numbers in Cluster 7: \"+str(np.unique(labels_cluster_7)))\n",
        "print(\"Numbers in Cluster 8: \"+str(np.unique(labels_cluster_8)))\n",
        "print(\"Numbers in Cluster 9: \"+str(np.unique(labels_cluster_9)))"
      ],
      "execution_count": 24,
      "outputs": [
        {
          "output_type": "stream",
          "text": [
            "Numbers in Cluster 0: [0 2 3 4 5 6 8 9]\n",
            "Numbers in Cluster 1: [2 3 4 5 7 8 9]\n",
            "Numbers in Cluster 2: [0 1 2 3 4 5 6 7 8 9]\n",
            "Numbers in Cluster 3: [0 1 2 3 4 5 6 7 8 9]\n",
            "Numbers in Cluster 4: [0 2 3 5 6 7 8 9]\n",
            "Numbers in Cluster 5: [0 1 2 3 5 6 8 9]\n",
            "Numbers in Cluster 6: [0 1 2 3 4 5 6 7 8 9]\n",
            "Numbers in Cluster 7: [0 2 3 4 5 6 8 9]\n",
            "Numbers in Cluster 8: [0 1 2 3 4 5 6 7 8]\n",
            "Numbers in Cluster 9: [0 1 2 3 4 5 6 7 8 9]\n"
          ],
          "name": "stdout"
        }
      ]
    },
    {
      "cell_type": "markdown",
      "metadata": {
        "id": "8RHmgdvaZlMY",
        "colab_type": "text"
      },
      "source": [
        "# Get the majoritiy of each class ( %)\n",
        "\n"
      ]
    },
    {
      "cell_type": "code",
      "metadata": {
        "id": "u0ZWpSd6Q9IP",
        "colab_type": "code",
        "colab": {}
      },
      "source": [
        "def percentagecalculator(labels_cluster, c):\n",
        "    cluster = stats.mode(labels_cluster)\n",
        "    per = float(cluster[1]) / float(labels_cluster.shape[0]) * 100\n",
        "    print(\"Cluster \" + str(c) + \" contains \" + str(round(per, 2)) + \" % number \" + str(cluster[0]))"
      ],
      "execution_count": 0,
      "outputs": []
    },
    {
      "cell_type": "code",
      "metadata": {
        "id": "l9vsJVTVTUhS",
        "colab_type": "code",
        "outputId": "e22d5c06-80c2-4419-d6ab-7da131cf2401",
        "colab": {
          "base_uri": "https://localhost:8080/",
          "height": 191
        }
      },
      "source": [
        "percentagecalculator(labels_cluster_0, 0)\n",
        "percentagecalculator(labels_cluster_1, 1)\n",
        "percentagecalculator(labels_cluster_2, 2)\n",
        "percentagecalculator(labels_cluster_3, 3)\n",
        "percentagecalculator(labels_cluster_4, 4)\n",
        "percentagecalculator(labels_cluster_5, 5)\n",
        "percentagecalculator(labels_cluster_6, 6)\n",
        "percentagecalculator(labels_cluster_7, 7)\n",
        "percentagecalculator(labels_cluster_8, 8)\n",
        "percentagecalculator(labels_cluster_9, 9)"
      ],
      "execution_count": 26,
      "outputs": [
        {
          "output_type": "stream",
          "text": [
            "Cluster 0 contains 90.99 % number [6]\n",
            "Cluster 1 contains 41.28 % number [7]\n",
            "Cluster 2 contains 67.82 % number [1]\n",
            "Cluster 3 contains 63.28 % number [8]\n",
            "Cluster 4 contains 93.71 % number [0]\n",
            "Cluster 5 contains 49.73 % number [3]\n",
            "Cluster 6 contains 35.05 % number [9]\n",
            "Cluster 7 contains 34.43 % number [0]\n",
            "Cluster 8 contains 91.44 % number [2]\n",
            "Cluster 9 contains 45.35 % number [4]\n"
          ],
          "name": "stdout"
        }
      ]
    },
    {
      "cell_type": "markdown",
      "metadata": {
        "id": "R8M38PFaXiY5",
        "colab_type": "text"
      },
      "source": [
        "In this overview we see the most frequently occurring numbers in each cluster for each iteration (10,100,1000)"
      ]
    },
    {
      "cell_type": "markdown",
      "metadata": {
        "id": "VUaIsn9cUy2P",
        "colab_type": "text"
      },
      "source": [
        "**Result for iterations = 10**\n",
        "\n",
        "Cluster 1 contains 88.77 % number [6]\n",
        "\n",
        "\n",
        "Cluster 2 contains 40.78 % number [7]\n",
        "\n",
        "\n",
        "Cluster 3 contains 68.25 % number [1]\n",
        "\n",
        "\n",
        "Cluster 4 contains 45.34 % number [8]\n",
        "\n",
        "\n",
        "Cluster 5 contains 94.62 % number [0]\n",
        "\n",
        "\n",
        "Cluster 6 contains 51.56 % number [3]\n",
        "\n",
        "\n",
        "Cluster 7 contains 34.77 % number [9]\n",
        "\n",
        "\n",
        "Cluster 8 contains 29.06 % number [5]\n",
        "\n",
        "\n",
        "Cluster 9 contains 92.17 % number [2]\n",
        "\n",
        "\n",
        "Cluster 10 contains 40.51 % number [4]"
      ]
    },
    {
      "cell_type": "markdown",
      "metadata": {
        "id": "QxNPMaJ7YBnh",
        "colab_type": "text"
      },
      "source": [
        "There are no cluster for number 4"
      ]
    },
    {
      "cell_type": "markdown",
      "metadata": {
        "id": "RKqdobQsVVu_",
        "colab_type": "text"
      },
      "source": [
        "**Result for iteration = 100**\n",
        "\n",
        "Cluster 1 contains 90.99 % number [6]\n",
        "\n",
        "\n",
        "Cluster 2 contains 41.28 % number [7]\n",
        "\n",
        "\n",
        "Cluster 3 contains 67.82 % number [1]\n",
        "\n",
        "\n",
        "Cluster 4 contains 63.28 % number [8]\n",
        "\n",
        "\n",
        "Cluster 5 contains 93.71 % number [0]\n",
        "\n",
        "\n",
        "Cluster 6 contains 49.73 % number [3]\n",
        "\n",
        "\n",
        "Cluster 7 contains 35.05 % number [9]\n",
        "\n",
        "\n",
        "Cluster 8 contains 34.43 % number [0]\n",
        "\n",
        "\n",
        "Cluster 9 contains 91.44 % number [2]\n",
        "\n",
        "\n",
        "Cluster 10 contains 45.35 % number [4]\n",
        "\n"
      ]
    },
    {
      "cell_type": "markdown",
      "metadata": {
        "id": "a1QhqbUAYiuz",
        "colab_type": "text"
      },
      "source": [
        "There is no cluster for number 5, but we can see number 0 twice"
      ]
    },
    {
      "cell_type": "markdown",
      "metadata": {
        "id": "taoOLe9rXN23",
        "colab_type": "text"
      },
      "source": [
        "**Result for iteration = 1000**\n",
        "\n",
        "Cluster 1 contains 90.99 % number [6]\n",
        "\n",
        "\n",
        "Cluster 2 contains 41.28 % number [7]\n",
        "\n",
        "\n",
        "Cluster 3 contains 67.82 % number [1]\n",
        "\n",
        "\n",
        "Cluster 4 contains 63.28 % number [8]\n",
        "\n",
        "\n",
        "Cluster 5 contains 93.71 % number [0]\n",
        "\n",
        "\n",
        "Cluster 6 contains 49.73 % number [3]\n",
        "\n",
        "\n",
        "Cluster 7 contains 35.05 % number [9]\n",
        "\n",
        "\n",
        "Cluster 8 contains 34.43 % number [0]\n",
        "\n",
        "\n",
        "Cluster 9 contains 91.44 % number [2]\n",
        "\n",
        "\n",
        "Cluster 10 contains 45.35 % number [4]"
      ]
    },
    {
      "cell_type": "markdown",
      "metadata": {
        "id": "ntGtVL_1Y4Dz",
        "colab_type": "text"
      },
      "source": [
        "There is no cluster for number 5, but we can see number 0 twice"
      ]
    }
  ]
}
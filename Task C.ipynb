{
  "nbformat": 4,
  "nbformat_minor": 0,
  "metadata": {
    "colab": {
      "name": "Untitled7.ipynb",
      "provenance": [],
      "include_colab_link": true
    },
    "kernelspec": {
      "name": "python3",
      "display_name": "Python 3"
    }
  },
  "cells": [
    {
      "cell_type": "markdown",
      "metadata": {
        "id": "view-in-github",
        "colab_type": "text"
      },
      "source": [
        "<a href=\"https://colab.research.google.com/github/oliveralbrecht94/ATDIT2/blob/master/Task%20C.ipynb\" target=\"_parent\"><img src=\"https://colab.research.google.com/assets/colab-badge.svg\" alt=\"Open In Colab\"/></a>"
      ]
    },
    {
      "cell_type": "markdown",
      "metadata": {
        "id": "fuzyxH_OOYaU",
        "colab_type": "text"
      },
      "source": [
        "# Import needed classes"
      ]
    },
    {
      "cell_type": "code",
      "metadata": {
        "id": "wkyglWDaKYnG",
        "colab_type": "code",
        "outputId": "e99929ee-cd21-41ba-f111-792ff50d14ba",
        "colab": {
          "base_uri": "https://localhost:8080/",
          "height": 34
        }
      },
      "source": [
        "import tensorflow as tf\n",
        "import numpy as np\n",
        "import matplotlib.pyplot as plt\n",
        "import seaborn as sns\n",
        "from sklearn.manifold import TSNE\n",
        "from scipy import stats\n",
        "import scipy.spatial.distance\n",
        "\n",
        "np.random.seed(1337)\n",
        "plt.set_cmap('gray')"
      ],
      "execution_count": 165,
      "outputs": [
        {
          "output_type": "display_data",
          "data": {
            "text/plain": [
              "<Figure size 432x288 with 0 Axes>"
            ]
          },
          "metadata": {
            "tags": []
          }
        }
      ]
    },
    {
      "cell_type": "markdown",
      "metadata": {
        "id": "RzUgjJpqOrLP",
        "colab_type": "text"
      },
      "source": [
        "# Load MNIST Dataset"
      ]
    },
    {
      "cell_type": "code",
      "metadata": {
        "id": "eSEYHo-rOjWU",
        "colab_type": "code",
        "colab": {}
      },
      "source": [
        "train = tf.keras.datasets.mnist.load_data()[0]\n",
        "X_train, Y_train = train[0], train[1]"
      ],
      "execution_count": 0,
      "outputs": []
    },
    {
      "cell_type": "code",
      "metadata": {
        "id": "cLeP1d7jOwod",
        "colab_type": "code",
        "colab": {}
      },
      "source": [
        "n = X_train.shape[0]\n",
        "m = X_train.shape[1]**2\n",
        "\n",
        "X_train = X_train.reshape([n, m])"
      ],
      "execution_count": 0,
      "outputs": []
    },
    {
      "cell_type": "markdown",
      "metadata": {
        "id": "MHmURLgXR5-V",
        "colab_type": "text"
      },
      "source": [
        "# Take subsamples"
      ]
    },
    {
      "cell_type": "code",
      "metadata": {
        "id": "XEhUAv0UPEE0",
        "colab_type": "code",
        "colab": {}
      },
      "source": [
        "n_sample = 10000\n",
        "idx = np.random.randint(n, size=n_sample)\n",
        "x_sample = X_train[idx]\n",
        "y_sample = Y_train[idx]\n",
        "\n"
      ],
      "execution_count": 0,
      "outputs": []
    },
    {
      "cell_type": "markdown",
      "metadata": {
        "id": "1Mf9lv2aZJMn",
        "colab_type": "text"
      },
      "source": [
        "# Init Centroids"
      ]
    },
    {
      "cell_type": "code",
      "metadata": {
        "id": "Y5hHUcgaPNmY",
        "colab_type": "code",
        "outputId": "2a815b93-64a7-4334-8ed3-ea2703fc87aa",
        "colab": {
          "base_uri": "https://localhost:8080/",
          "height": 34
        }
      },
      "source": [
        "k = 10\n",
        "# init centroids\n",
        "idx_centroid = np.random.randint(n_sample, size=k)\n",
        "centroids = x_sample[idx_centroid]\n",
        "\n",
        "\n",
        "idx_centroid"
      ],
      "execution_count": 169,
      "outputs": [
        {
          "output_type": "execute_result",
          "data": {
            "text/plain": [
              "array([3951, 5479, 6465, 7633, 1707, 3634, 6262, 6001, 7776, 7732])"
            ]
          },
          "metadata": {
            "tags": []
          },
          "execution_count": 169
        }
      ]
    },
    {
      "cell_type": "code",
      "metadata": {
        "id": "7wsuRcJbPV9G",
        "colab_type": "code",
        "outputId": "7d0bdb2f-d627-4b9f-a3cc-22c771a6f3a7",
        "colab": {
          "base_uri": "https://localhost:8080/",
          "height": 34
        }
      },
      "source": [
        "# calculate distances\n",
        "dists = scipy.spatial.distance.cdist(x_sample, centroids, metric='euclid')\n",
        "dists.shape"
      ],
      "execution_count": 170,
      "outputs": [
        {
          "output_type": "execute_result",
          "data": {
            "text/plain": [
              "(10000, 10)"
            ]
          },
          "metadata": {
            "tags": []
          },
          "execution_count": 170
        }
      ]
    },
    {
      "cell_type": "code",
      "metadata": {
        "id": "jiEtvRnoPX92",
        "colab_type": "code",
        "outputId": "3157733f-e685-44cb-bd13-8e2d95668994",
        "colab": {
          "base_uri": "https://localhost:8080/",
          "height": 34
        }
      },
      "source": [
        "#find nearest ones\n",
        "labels = np.argmin(dists, axis=1)\n",
        "labels"
      ],
      "execution_count": 171,
      "outputs": [
        {
          "output_type": "execute_result",
          "data": {
            "text/plain": [
              "array([1, 7, 5, ..., 1, 9, 3])"
            ]
          },
          "metadata": {
            "tags": []
          },
          "execution_count": 171
        }
      ]
    },
    {
      "cell_type": "code",
      "metadata": {
        "id": "UePR6_jNPZVP",
        "colab_type": "code",
        "outputId": "65da7ca6-57ad-45f2-8818-ad815a0dd721",
        "colab": {
          "base_uri": "https://localhost:8080/",
          "height": 34
        }
      },
      "source": [
        "np.unique(labels)"
      ],
      "execution_count": 172,
      "outputs": [
        {
          "output_type": "execute_result",
          "data": {
            "text/plain": [
              "array([0, 1, 2, 3, 4, 5, 6, 7, 8, 9])"
            ]
          },
          "metadata": {
            "tags": []
          },
          "execution_count": 172
        }
      ]
    },
    {
      "cell_type": "code",
      "metadata": {
        "id": "XONtP-RjPelv",
        "colab_type": "code",
        "colab": {}
      },
      "source": [
        "# get new centroids\n",
        "list = [x_sample[labels == i].mean(0) for i in range(k)]\n",
        "centroids = np.stack(list)"
      ],
      "execution_count": 0,
      "outputs": []
    },
    {
      "cell_type": "code",
      "metadata": {
        "id": "3wUtheECPaw6",
        "colab_type": "code",
        "colab": {}
      },
      "source": [
        "# do the iteraions of kmean\n",
        "#iteration = 10\n",
        "iteration = 100\n",
        "#iteration = 1000\n",
        "for j in range(iteration):\n",
        "    \n",
        "    # calc distances\n",
        "    dists = scipy.spatial.distance.cdist(x_sample, centroids, metric = 'euclid')\n",
        "    \n",
        "    # label according to nearest centroids\n",
        "    centroid_labels = np.argmin(dists, axis = 1)\n",
        "    \n",
        "    # get new centroids\n",
        "    centroid_list = [x_sample[centroid_labels == i].mean(0) for i in range(k)]\n",
        "    centroids = np.stack(centroid_list)"
      ],
      "execution_count": 0,
      "outputs": []
    },
    {
      "cell_type": "markdown",
      "metadata": {
        "id": "abjA7Js1Zfh1",
        "colab_type": "text"
      },
      "source": [
        "# Clustering the data points"
      ]
    },
    {
      "cell_type": "code",
      "metadata": {
        "id": "Ga7RevEmQCbk",
        "colab_type": "code",
        "colab": {}
      },
      "source": [
        "cluster_0 = x_sample[labels == 0]\n",
        "cluster_1 = x_sample[labels == 1]\n",
        "cluster_2 = x_sample[labels == 2]\n",
        "cluster_3 = x_sample[labels == 3]\n",
        "cluster_4 = x_sample[labels == 4]\n",
        "cluster_5 = x_sample[labels == 5]\n",
        "cluster_6 = x_sample[labels == 6]\n",
        "cluster_7 = x_sample[labels == 7]\n",
        "cluster_8 = x_sample[labels == 8]\n",
        "cluster_9 = x_sample[labels == 9]\n"
      ],
      "execution_count": 0,
      "outputs": []
    },
    {
      "cell_type": "code",
      "metadata": {
        "id": "Ge3P7MTCQUbw",
        "colab_type": "code",
        "colab": {}
      },
      "source": [
        "labels_cluster_0 = y_sample[centroid_labels == 0]\n",
        "labels_cluster_1 = y_sample[centroid_labels == 1]\n",
        "labels_cluster_2 = y_sample[centroid_labels == 2]\n",
        "labels_cluster_3 = y_sample[centroid_labels == 3]\n",
        "labels_cluster_4 = y_sample[centroid_labels == 4]\n",
        "labels_cluster_5 = y_sample[centroid_labels == 5]\n",
        "labels_cluster_6 = y_sample[centroid_labels == 6]\n",
        "labels_cluster_7 = y_sample[centroid_labels == 7]\n",
        "labels_cluster_8 = y_sample[centroid_labels == 8]\n",
        "labels_cluster_9 = y_sample[centroid_labels == 9]"
      ],
      "execution_count": 0,
      "outputs": []
    },
    {
      "cell_type": "code",
      "metadata": {
        "id": "Kt3_hzsVa793",
        "colab_type": "code",
        "outputId": "62648fb0-03d3-41ff-b724-57fad10ecb7d",
        "colab": {
          "base_uri": "https://localhost:8080/",
          "height": 191
        }
      },
      "source": [
        "print(\"Numbers in Cluster 0: \"+str(np.unique(labels_cluster_0)))\n",
        "print(\"Numbers in Cluster 1: \"+str(np.unique(labels_cluster_1)))\n",
        "print(\"Numbers in Cluster 2: \"+str(np.unique(labels_cluster_2)))\n",
        "print(\"Numbers in Cluster 3: \"+str(np.unique(labels_cluster_3)))\n",
        "print(\"Numbers in Cluster 4: \"+str(np.unique(labels_cluster_4)))\n",
        "print(\"Numbers in Cluster 5: \"+str(np.unique(labels_cluster_5)))\n",
        "print(\"Numbers in Cluster 6: \"+str(np.unique(labels_cluster_6)))\n",
        "print(\"Numbers in Cluster 7: \"+str(np.unique(labels_cluster_7)))\n",
        "print(\"Numbers in Cluster 8: \"+str(np.unique(labels_cluster_8)))\n",
        "print(\"Numbers in Cluster 9: \"+str(np.unique(labels_cluster_9)))"
      ],
      "execution_count": 212,
      "outputs": [
        {
          "output_type": "stream",
          "text": [
            "Numbers in Cluster 0: [0 2 3 4 5 6 8 9]\n",
            "Numbers in Cluster 1: [2 3 4 5 7 8 9]\n",
            "Numbers in Cluster 2: [0 1 2 3 4 5 6 7 8 9]\n",
            "Numbers in Cluster 3: [0 1 2 3 4 5 6 7 8 9]\n",
            "Numbers in Cluster 4: [0 2 3 5 6 7 8 9]\n",
            "Numbers in Cluster 5: [0 1 2 3 5 6 8 9]\n",
            "Numbers in Cluster 6: [0 1 2 3 4 5 6 7 8 9]\n",
            "Numbers in Cluster 7: [0 2 3 4 5 6 8 9]\n",
            "Numbers in Cluster 8: [0 1 2 3 4 5 6 7 8]\n",
            "Numbers in Cluster 9: [0 1 2 3 4 5 6 7 8 9]\n"
          ],
          "name": "stdout"
        }
      ]
    },
    {
      "cell_type": "markdown",
      "metadata": {
        "id": "8RHmgdvaZlMY",
        "colab_type": "text"
      },
      "source": [
        "# Get the majoritiy of each class ( %)\n",
        "\n"
      ]
    },
    {
      "cell_type": "code",
      "metadata": {
        "id": "u0ZWpSd6Q9IP",
        "colab_type": "code",
        "colab": {}
      },
      "source": [
        "#def percentagecalculator(labels_cluster, c):\n",
        "#   cluster = stats.mode(labels_cluster)\n",
        "# per = float(cluster[1]) / float(labels_cluster.shape[0]) * 100\n",
        "#    print(\"Cluster \" + str(c) + \" contains \" + str(round(per, 2)) + \" % number \" + str(cluster[0]))"
      ],
      "execution_count": 0,
      "outputs": []
    },
    {
      "cell_type": "code",
      "metadata": {
        "id": "9EyVmaMgAyeO",
        "colab_type": "code",
        "colab": {}
      },
      "source": [
        "names = [\"0\",\"1\",\"2\",\"3\",\"4\",\"5\",\"6\",\"7\",\"8\",\"9\"]\n",
        "def percentagecalculator(labels_cluster, names, c):\n",
        "    cluster = stats.mode(labels_cluster)\n",
        "    labels, count = np.unique(labels_cluster, return_counts=True)\n",
        "    highest_idx = 0\n",
        "    for i in range(len(labels)):\n",
        "      if count[i] > count[highest_idx]:\n",
        "        highest_idx = i\n",
        "    per = float(cluster[1]) / float(labels_cluster.shape[0]) * 100\n",
        "    print(\"Cluster \" + str(c) + \" contains \" + str(round(per, 2)) + \" %  number\" + str(labels[highest_idx]))"
      ],
      "execution_count": 0,
      "outputs": []
    },
    {
      "cell_type": "code",
      "metadata": {
        "id": "l9vsJVTVTUhS",
        "colab_type": "code",
        "outputId": "6ce8a90b-723e-4ea0-e770-a3d7edd99686",
        "colab": {
          "base_uri": "https://localhost:8080/",
          "height": 191
        }
      },
      "source": [
        "percentagecalculator(labels_cluster_0, names,0)\n",
        "percentagecalculator(labels_cluster_1, names,1)\n",
        "percentagecalculator(labels_cluster_2, names,2)\n",
        "percentagecalculator(labels_cluster_3, names,3)\n",
        "percentagecalculator(labels_cluster_4, names,4)\n",
        "percentagecalculator(labels_cluster_5, names,5)\n",
        "percentagecalculator(labels_cluster_6, names,6)\n",
        "percentagecalculator(labels_cluster_7, names,7)\n",
        "percentagecalculator(labels_cluster_8, names,8)\n",
        "percentagecalculator(labels_cluster_9, names,9)"
      ],
      "execution_count": 215,
      "outputs": [
        {
          "output_type": "stream",
          "text": [
            "Cluster 0 contains 90.99 %  number6\n",
            "Cluster 1 contains 41.28 %  number7\n",
            "Cluster 2 contains 67.82 %  number1\n",
            "Cluster 3 contains 63.28 %  number8\n",
            "Cluster 4 contains 93.71 %  number0\n",
            "Cluster 5 contains 49.73 %  number3\n",
            "Cluster 6 contains 35.05 %  number9\n",
            "Cluster 7 contains 34.43 %  number0\n",
            "Cluster 8 contains 91.44 %  number2\n",
            "Cluster 9 contains 45.35 %  number4\n"
          ],
          "name": "stdout"
        }
      ]
    },
    {
      "cell_type": "code",
      "metadata": {
        "id": "Ts-2qP9yAfR9",
        "colab_type": "code",
        "colab": {
          "base_uri": "https://localhost:8080/",
          "height": 575
        },
        "outputId": "2b512126-1e7c-4c63-92cc-d5f4a04a3da5"
      },
      "source": [
        "labels_cluster_4"
      ],
      "execution_count": 216,
      "outputs": [
        {
          "output_type": "execute_result",
          "data": {
            "text/plain": [
              "array([0, 0, 0, 0, 0, 9, 0, 0, 0, 0, 0, 0, 0, 0, 0, 0, 0, 0, 0, 0, 0, 0,\n",
              "       0, 0, 0, 0, 0, 0, 0, 0, 0, 0, 0, 0, 0, 0, 0, 0, 0, 0, 0, 0, 0, 0,\n",
              "       0, 0, 0, 0, 0, 0, 0, 0, 0, 0, 0, 0, 0, 0, 0, 0, 0, 0, 0, 0, 0, 0,\n",
              "       0, 0, 8, 0, 0, 0, 0, 0, 0, 0, 0, 0, 0, 0, 0, 0, 0, 0, 0, 0, 0, 0,\n",
              "       0, 0, 0, 0, 0, 0, 0, 0, 0, 0, 0, 0, 0, 0, 0, 0, 0, 0, 0, 0, 2, 0,\n",
              "       0, 0, 0, 0, 0, 0, 0, 0, 0, 0, 0, 0, 0, 0, 0, 0, 0, 0, 0, 0, 0, 0,\n",
              "       0, 0, 0, 0, 0, 0, 0, 0, 0, 0, 0, 0, 0, 0, 6, 0, 0, 0, 0, 0, 0, 0,\n",
              "       0, 5, 0, 0, 0, 0, 0, 0, 0, 0, 0, 0, 0, 0, 0, 0, 0, 0, 0, 0, 0, 0,\n",
              "       0, 0, 0, 0, 0, 0, 6, 0, 5, 0, 9, 0, 0, 5, 0, 0, 0, 0, 0, 0, 0, 8,\n",
              "       0, 8, 0, 0, 0, 0, 0, 0, 0, 0, 0, 0, 0, 7, 0, 6, 0, 0, 0, 0, 0, 0,\n",
              "       0, 0, 0, 0, 0, 0, 0, 0, 0, 0, 0, 0, 0, 0, 0, 0, 0, 0, 0, 0, 0, 0,\n",
              "       0, 0, 0, 0, 0, 0, 0, 6, 0, 0, 0, 0, 0, 3, 0, 0, 0, 0, 0, 0, 0, 0,\n",
              "       0, 0, 0, 0, 0, 0, 0, 0, 0, 0, 0, 0, 6, 0, 0, 0, 0, 0, 0, 0, 0, 0,\n",
              "       0, 0, 0, 0, 0, 0, 0, 3, 0, 0, 0, 0, 0, 5, 0, 0, 0, 0, 0, 0, 0, 0,\n",
              "       0, 0, 3, 0, 0, 0, 0, 0, 0, 0, 0, 0, 0, 2, 0, 0, 0, 9, 6, 0, 0, 0,\n",
              "       0, 0, 8, 0, 8, 0, 0, 0, 0, 0, 0, 0, 0, 0, 0, 0, 0, 0, 0, 0, 0, 0,\n",
              "       0, 0, 0, 0, 9, 0, 0, 0, 0, 0, 0, 0, 0, 0, 0, 0, 0, 0, 0, 0, 0, 0,\n",
              "       0, 0, 0, 0, 0, 0, 0, 0, 0, 0, 0, 0, 0, 0, 0, 0, 0, 0, 0, 0, 0, 0,\n",
              "       0, 0, 0, 0, 0, 0, 0, 0, 0, 0, 0, 5, 0, 0, 0, 0, 0, 0, 0, 0, 0, 0,\n",
              "       0, 0, 0, 0, 0, 0, 0, 0, 0, 0, 0, 0, 0, 0, 0, 0, 0, 0, 3, 0, 0, 0,\n",
              "       0, 0, 0, 0, 0, 0, 0, 0, 0, 0, 0, 0, 0, 0, 0, 0, 6, 0, 0, 0, 0, 0,\n",
              "       0, 0, 0, 0, 0, 0, 0, 0, 0, 0, 0, 0, 0, 9, 0, 0, 0, 0, 0, 0, 0, 0,\n",
              "       0, 0, 0, 0, 0, 0, 8, 0, 0, 0, 0, 0, 0, 0, 0, 0, 0, 0, 0, 0, 0, 0,\n",
              "       0, 0, 0, 0, 0, 0, 0, 0, 0, 0, 0, 0, 0, 0, 0, 0, 3, 0, 0, 0, 0, 0,\n",
              "       0, 0, 0, 0, 0, 0, 0, 0, 0, 0, 0, 0, 0, 0, 0, 0, 0, 2, 0, 0, 0, 0,\n",
              "       0, 0, 5, 0, 0, 0, 0, 0, 0, 0, 6, 0, 0, 0, 0, 0, 0, 0, 0, 0, 0, 0,\n",
              "       2, 0, 0, 0, 0, 0, 0, 2, 0, 0, 0, 0, 0, 0, 0, 0, 0, 0, 0, 3, 0, 0,\n",
              "       0, 0, 0, 0, 6, 0, 8, 0, 0, 0, 0, 0, 0, 0, 0, 0, 0, 0, 0, 0, 0, 0,\n",
              "       0, 0, 0, 0, 0, 0, 0, 0, 0, 0, 0, 0, 0, 0, 0, 0, 0, 0, 0, 0, 0, 0,\n",
              "       0, 0, 0, 0, 0, 0, 0, 0, 0, 0, 0, 0, 0, 0, 0, 0, 0, 0, 0, 0, 0, 0,\n",
              "       0, 8, 0, 0, 0, 0, 0, 6, 0, 0, 0, 0, 0, 0, 0, 0, 0, 0, 0, 0, 9, 3,\n",
              "       0, 0], dtype=uint8)"
            ]
          },
          "metadata": {
            "tags": []
          },
          "execution_count": 216
        }
      ]
    },
    {
      "cell_type": "markdown",
      "metadata": {
        "id": "R8M38PFaXiY5",
        "colab_type": "text"
      },
      "source": [
        "In this overview we see the most frequently occurring numbers in each cluster for each iteration (10,100,1000)"
      ]
    },
    {
      "cell_type": "markdown",
      "metadata": {
        "id": "VUaIsn9cUy2P",
        "colab_type": "text"
      },
      "source": [
        "**Result for iterations = 10**\n",
        "\n",
        "* Cluster 0 contains 87.47 % number 6\n",
        "* Cluster 1 contains 40.89 % number 7\n",
        "* Cluster 2 contains 66.34 % number 1\n",
        "* Cluster 3 contains 40.69 % number 8\n",
        "* Cluster 4 contains 95.14 % number 0\n",
        "* Cluster 5 contains 55.98 % number 3\n",
        "* Cluster 6 contains 34.4 % number 7\n",
        "* Cluster 7 contains 34.49 % number 8\n",
        "* Cluster 8 contains 92.09 % number 2\n",
        "* Cluster 9 contains 39.98 % number 4"
      ]
    },
    {
      "cell_type": "markdown",
      "metadata": {
        "id": "QxNPMaJ7YBnh",
        "colab_type": "text"
      },
      "source": [
        "There are no cluster for number 5 and 9 - number 7 and 8 appears twice"
      ]
    },
    {
      "cell_type": "markdown",
      "metadata": {
        "id": "RKqdobQsVVu_",
        "colab_type": "text"
      },
      "source": [
        "**Result for iteration = 100**\n",
        "\n",
        "* Cluster 0 contains 90.99 %  number 6\n",
        "* Cluster 1 contains 41.28 %  number 7\n",
        "* Cluster 2 contains 67.82 %  number 1\n",
        "* Cluster 3 contains 63.28 %  number 8\n",
        "* Cluster 4 contains 93.71 %  number 0\n",
        "* Cluster 5 contains 49.73 %  number 3\n",
        "* Cluster 6 contains 35.05 %  number 9\n",
        "* Cluster 7 contains 34.43 %  number 0\n",
        "* Cluster 8 contains 91.44 %  number 2\n",
        "* Cluster 9 contains 45.35 %  number 4\n",
        "\n"
      ]
    },
    {
      "cell_type": "markdown",
      "metadata": {
        "id": "a1QhqbUAYiuz",
        "colab_type": "text"
      },
      "source": [
        "There is no cluster for number 5, but we can see number 0 twice"
      ]
    },
    {
      "cell_type": "markdown",
      "metadata": {
        "id": "taoOLe9rXN23",
        "colab_type": "text"
      },
      "source": [
        "**Result for iteration = 1000**\n",
        "\n",
        "* Cluster 0 contains 90.99 %  number 6\n",
        "* Cluster 1 contains 41.28 %  number 7\n",
        "* Cluster 2 contains 67.82 %  number 1\n",
        "* Cluster 3 contains 63.28 %  number 8\n",
        "* Cluster 4 contains 93.71 %  number 0\n",
        "* Cluster 5 contains 49.73 %  number 3\n",
        "* Cluster 6 contains 35.05 %  number 9 \n",
        "* Cluster 7 contains 34.43 %  number 0\n",
        "* Cluster 8 contains 91.44 %  number 2\n",
        "* Cluster 9 contains 45.35 %  number 4"
      ]
    },
    {
      "cell_type": "markdown",
      "metadata": {
        "id": "ntGtVL_1Y4Dz",
        "colab_type": "text"
      },
      "source": [
        "There is no cluster for number 5, but we can see number 0 twice"
      ]
    }
  ]
}
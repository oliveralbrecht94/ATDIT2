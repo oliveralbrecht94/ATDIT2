{
  "nbformat": 4,
  "nbformat_minor": 0,
  "metadata": {
    "kernelspec": {
      "display_name": "Python 3",
      "language": "python",
      "name": "python3"
    },
    "language_info": {
      "codemirror_mode": {
        "name": "ipython",
        "version": 3
      },
      "file_extension": ".py",
      "mimetype": "text/x-python",
      "name": "python",
      "nbconvert_exporter": "python",
      "pygments_lexer": "ipython3",
      "version": "3.7.3"
    },
    "colab": {
      "name": "Abgabe Assignment 1A_B.ipynb",
      "provenance": []
    }
  },
  "cells": [
    {
      "cell_type": "markdown",
      "metadata": {
        "id": "EkWmWg6WW3gN",
        "colab_type": "text"
      },
      "source": [
        "# Aufgabe A \n",
        "######  1 ) How many distances you need to calculate if you have 60,000 samples in the trainingset for 50 samples?"
      ]
    },
    {
      "cell_type": "markdown",
      "metadata": {
        "id": "ylB7D43wW3gR",
        "colab_type": "text"
      },
      "source": [
        "Every picture has to check with every sample so through knn the algorithm calculates the distance of every v (v = samples = 50) to all samples in M (M = dataset / trainingset = 60.000).\n",
        "\n",
        "number of distances = M * v = 60.000 * 50 =  3.000.000 "
      ]
    },
    {
      "cell_type": "code",
      "metadata": {
        "id": "Fu5n4WACW3gT",
        "colab_type": "code",
        "colab": {}
      },
      "source": [
        ""
      ],
      "execution_count": 0,
      "outputs": []
    },
    {
      "cell_type": "markdown",
      "metadata": {
        "id": "ROjFKMqQW3gW",
        "colab_type": "text"
      },
      "source": [
        "##### 2 ) How many distances do you need to calculate if you have n samples in the trainingset?"
      ]
    },
    {
      "cell_type": "markdown",
      "metadata": {
        "id": "BC_i8dQnW3gX",
        "colab_type": "text"
      },
      "source": [
        "The number of sample in the testset * the number of samples in the trainingset = total distance\n",
        "\n",
        "In this case: v * M = total distance\n",
        "              \n",
        "              50 * n = total distance \n",
        "              \n",
        "              50n = #total distances\n"
      ]
    },
    {
      "cell_type": "code",
      "metadata": {
        "id": "1g-CKOvTW3gZ",
        "colab_type": "code",
        "colab": {}
      },
      "source": [
        ""
      ],
      "execution_count": 0,
      "outputs": []
    },
    {
      "cell_type": "code",
      "metadata": {
        "id": "uIftitELW3ge",
        "colab_type": "code",
        "colab": {}
      },
      "source": [
        ""
      ],
      "execution_count": 0,
      "outputs": []
    }
  ]
}
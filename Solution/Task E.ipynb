{
  "nbformat": 4,
  "nbformat_minor": 0,
  "metadata": {
    "colab": {
      "name": "Untitled9.ipynb",
      "provenance": [],
      "collapsed_sections": [],
      "include_colab_link": true
    },
    "kernelspec": {
      "name": "python3",
      "display_name": "Python 3"
    }
  },
  "cells": [
    {
      "cell_type": "markdown",
      "metadata": {
        "id": "view-in-github",
        "colab_type": "text"
      },
      "source": [
        "<a href=\"https://colab.research.google.com/github/oliveralbrecht94/ATDIT2/blob/master/Solution/Task%20E.ipynb\" target=\"_parent\"><img src=\"https://colab.research.google.com/assets/colab-badge.svg\" alt=\"Open In Colab\"/></a>"
      ]
    },
    {
      "cell_type": "code",
      "metadata": {
        "id": "qTOsvRpESgMC",
        "colab_type": "code",
        "outputId": "af943fad-af27-4540-828a-1f4487d1d420",
        "colab": {
          "base_uri": "https://localhost:8080/",
          "height": 34
        }
      },
      "source": [
        "import tensorflow as tf\n",
        "import numpy as np\n",
        "import skimage as ski\n",
        "import matplotlib.pyplot as plt\n",
        "from scipy import stats\n",
        "import scipy.spatial.distance\n",
        "\n",
        "plt.set_cmap(None)\n",
        "plt.gray()"
      ],
      "execution_count": 172,
      "outputs": [
        {
          "output_type": "display_data",
          "data": {
            "text/plain": [
              "<Figure size 432x288 with 0 Axes>"
            ]
          },
          "metadata": {
            "tags": []
          }
        }
      ]
    },
    {
      "cell_type": "code",
      "metadata": {
        "id": "blVUuilsTL2V",
        "colab_type": "code",
        "colab": {}
      },
      "source": [
        "cifar_train = tf.keras.datasets.cifar10.load_data()[0]\n",
        "train_images, train_labels = cifar_train[0], cifar_train[1]"
      ],
      "execution_count": 0,
      "outputs": []
    },
    {
      "cell_type": "code",
      "metadata": {
        "id": "flV2cQYxTO4R",
        "colab_type": "code",
        "colab": {}
      },
      "source": [
        "cifar_test = tf.keras.datasets.cifar10.load_data()[1]\n",
        "test_images, test_labels = cifar_test[0], cifar_test[1]"
      ],
      "execution_count": 0,
      "outputs": []
    },
    {
      "cell_type": "code",
      "metadata": {
        "id": "54THvSMATRng",
        "colab_type": "code",
        "colab": {}
      },
      "source": [
        "train_labels_list = []\n",
        "for i in range(train_labels.shape[0]):\n",
        "    train_labels_list.append(train_labels[i][0])"
      ],
      "execution_count": 0,
      "outputs": []
    },
    {
      "cell_type": "code",
      "metadata": {
        "id": "zc5ltX6hTQxy",
        "colab_type": "code",
        "colab": {}
      },
      "source": [
        "def rgb2gray(rgb):\n",
        "    return np.dot(rgb[...,:3], [0.299, 0.587, 0.114])"
      ],
      "execution_count": 0,
      "outputs": []
    },
    {
      "cell_type": "code",
      "metadata": {
        "id": "y-iQEvRHTSxa",
        "colab_type": "code",
        "colab": {}
      },
      "source": [
        "y_train = train_labels\n",
        "y_test = test_labels"
      ],
      "execution_count": 0,
      "outputs": []
    },
    {
      "cell_type": "markdown",
      "metadata": {
        "id": "1eNbbXQqUFSI",
        "colab_type": "text"
      },
      "source": [
        "# Images into grey"
      ]
    },
    {
      "cell_type": "code",
      "metadata": {
        "id": "CZp00U_sTUny",
        "colab_type": "code",
        "colab": {}
      },
      "source": [
        "x_train_gray = []\n",
        "\n",
        "for i in range(train_images.shape[0]):\n",
        "    x_train_gray.append(rgb2gray(train_images[i]))\n",
        "    \n",
        "x_train_gray = np.array(x_train_gray)"
      ],
      "execution_count": 0,
      "outputs": []
    },
    {
      "cell_type": "code",
      "metadata": {
        "id": "z5cM_8zUTVzf",
        "colab_type": "code",
        "colab": {}
      },
      "source": [
        "x_test_gray = []\n",
        "\n",
        "for i in range(test_images.shape[0]):\n",
        "    x_test_gray.append(rgb2gray(test_images[i]))\n",
        "    \n",
        "x_test_gray = np.array(x_test_gray)"
      ],
      "execution_count": 0,
      "outputs": []
    },
    {
      "cell_type": "code",
      "metadata": {
        "id": "xqFiVgiRW2Mf",
        "colab_type": "code",
        "outputId": "cf50c6b8-dca1-45ab-ae9d-b9d4b6c2ad31",
        "colab": {
          "base_uri": "https://localhost:8080/",
          "height": 34
        }
      },
      "source": [
        "train_images.shape"
      ],
      "execution_count": 180,
      "outputs": [
        {
          "output_type": "execute_result",
          "data": {
            "text/plain": [
              "(50000, 32, 32, 3)"
            ]
          },
          "metadata": {
            "tags": []
          },
          "execution_count": 180
        }
      ]
    },
    {
      "cell_type": "code",
      "metadata": {
        "id": "so7wrRNN2adO",
        "colab_type": "code",
        "colab": {}
      },
      "source": [
        ""
      ],
      "execution_count": 0,
      "outputs": []
    },
    {
      "cell_type": "markdown",
      "metadata": {
        "id": "weOjPcM0Va7x",
        "colab_type": "text"
      },
      "source": [
        "# Preparing Dataset"
      ]
    },
    {
      "cell_type": "code",
      "metadata": {
        "id": "i-ZgBh5BTW9P",
        "colab_type": "code",
        "outputId": "c5a3046b-5a21-4812-8f87-d45d4e1d6836",
        "colab": {
          "base_uri": "https://localhost:8080/",
          "height": 34
        }
      },
      "source": [
        "class_names = [\"airplane\", \"automobile\", \"bird\", \"cat\", \"deer\", \"dog\", \"frog\", \"horse\", \"ship\", \"truck\"]\n",
        "n_train = train_images.shape[0]\n",
        "n_test = test_images.shape[0]\n",
        "m = train_images.shape[1]**2\n",
        "\n",
        "\n",
        "# Transform to 1D vector from each matrix with the pixels of an image in order to calculate distances.\n",
        "gray_image = x_train_gray.reshape([n_train, m])\n",
        "gray_test_image = x_test_gray.reshape([n_test, m])\n",
        "gray_image.shape"
      ],
      "execution_count": 181,
      "outputs": [
        {
          "output_type": "execute_result",
          "data": {
            "text/plain": [
              "(50000, 1024)"
            ]
          },
          "metadata": {
            "tags": []
          },
          "execution_count": 181
        }
      ]
    },
    {
      "cell_type": "code",
      "metadata": {
        "id": "NdzwSZufTwjy",
        "colab_type": "code",
        "outputId": "69f51e7b-78c0-4e7c-97f3-d25c847d22a8",
        "colab": {
          "base_uri": "https://localhost:8080/",
          "height": 34
        }
      },
      "source": [
        "size_image_sample = 20000\n",
        "index = np.random.randint(n_train, size = size_image_sample) \n",
        "image_sample = gray_image[index]\n",
        "labels_sample = train_labels[index]\n",
        "image_sample.shape"
      ],
      "execution_count": 182,
      "outputs": [
        {
          "output_type": "execute_result",
          "data": {
            "text/plain": [
              "(20000, 1024)"
            ]
          },
          "metadata": {
            "tags": []
          },
          "execution_count": 182
        }
      ]
    },
    {
      "cell_type": "code",
      "metadata": {
        "id": "XPONex_qUnG-",
        "colab_type": "code",
        "colab": {}
      },
      "source": [
        "size_test_sample = 1000\n",
        "index = np.random.randint(n_test, size = size_test_sample)\n",
        "test_image_sample = gray_test_image[index]\n",
        "test_labels_sample = test_labels[index]"
      ],
      "execution_count": 0,
      "outputs": []
    },
    {
      "cell_type": "code",
      "metadata": {
        "id": "cVNncn6VUzjl",
        "colab_type": "code",
        "colab": {}
      },
      "source": [
        "labels_sample = labels_sample.reshape([size_image_sample])\n",
        "test_labels_sample = test_labels_sample.reshape([size_test_sample])"
      ],
      "execution_count": 0,
      "outputs": []
    },
    {
      "cell_type": "markdown",
      "metadata": {
        "id": "-CBKvMqzZ8Lt",
        "colab_type": "text"
      },
      "source": [
        "# KNN - Setting up K and calculate distances as in B"
      ]
    },
    {
      "cell_type": "code",
      "metadata": {
        "id": "6FbtbKcXTYHS",
        "colab_type": "code",
        "colab": {}
      },
      "source": [
        "# setting up the k value \n",
        "#k = 2 \n",
        "#k = 4\n",
        "#k = 8 \n",
        "k = 15\n",
        "# calculating the distance between each vector in dependency of k and save it in an arra\n",
        "distances = scipy.spatial.distance.cdist(image_sample, test_image_sample, metric='euclid')\n",
        "# calculates the next k points around the vector\n",
        "index_nearest = np.argpartition(distances, k, axis = 0)[:k] "
      ],
      "execution_count": 0,
      "outputs": []
    },
    {
      "cell_type": "code",
      "metadata": {
        "id": "iQxhX2IfUb5o",
        "colab_type": "code",
        "outputId": "a253b438-0837-4ed7-9e40-034eae9da6a3",
        "colab": {
          "base_uri": "https://localhost:8080/",
          "height": 139
        }
      },
      "source": [
        "# saves the neighbors of the vector in dependency of k\n",
        "knn_neighbors = labels_sample[index_nearest] \n",
        "# show the neighbors\n",
        "print(knn_neighbors)"
      ],
      "execution_count": 186,
      "outputs": [
        {
          "output_type": "stream",
          "text": [
            "[[0 6 2 ... 4 2 2]\n",
            " [0 2 2 ... 2 3 8]\n",
            " [2 6 3 ... 2 2 2]\n",
            " ...\n",
            " [0 0 6 ... 2 2 4]\n",
            " [8 2 6 ... 4 3 2]\n",
            " [0 2 6 ... 2 6 2]]\n"
          ],
          "name": "stdout"
        }
      ]
    },
    {
      "cell_type": "code",
      "metadata": {
        "id": "cBQ34j6SX5ed",
        "colab_type": "code",
        "colab": {}
      },
      "source": [
        "# is looking for the most frequent value in the array/vector\n",
        "knn_result = stats.mode(knn_neighbors)[0]\n",
        "knn_result = knn_result[0]\n",
        "# shows the most frequent value\n",
        "#knn_result"
      ],
      "execution_count": 0,
      "outputs": []
    },
    {
      "cell_type": "markdown",
      "metadata": {
        "id": "wadOvzK1aBNK",
        "colab_type": "text"
      },
      "source": [
        "# Calculating error rate as in B"
      ]
    },
    {
      "cell_type": "code",
      "metadata": {
        "id": "lehRUJyBYuRL",
        "colab_type": "code",
        "colab": {}
      },
      "source": [
        "errors = 0\n",
        "# compares the two arrays and is looking for matches of the values? Right = true / Wrong = false\n",
        "error_rate_matrix = (test_labels_sample == knn_result)\n",
        "for b in error_rate_matrix:\n",
        "    if b == False:\n",
        "        errors += 1\n"
      ],
      "execution_count": 0,
      "outputs": []
    },
    {
      "cell_type": "code",
      "metadata": {
        "id": "EGTFoNlzYvyy",
        "colab_type": "code",
        "outputId": "33d0980b-6101-46ed-9907-37996f3b82bc",
        "colab": {
          "base_uri": "https://localhost:8080/",
          "height": 52
        }
      },
      "source": [
        "np.unique(test_labels_sample, return_counts=True)"
      ],
      "execution_count": 189,
      "outputs": [
        {
          "output_type": "execute_result",
          "data": {
            "text/plain": [
              "(array([0, 1, 2, 3, 4, 5, 6, 7, 8, 9], dtype=uint8),\n",
              " array([100, 105, 108, 106,  94,  87, 103,  91,  99, 107]))"
            ]
          },
          "metadata": {
            "tags": []
          },
          "execution_count": 189
        }
      ]
    },
    {
      "cell_type": "code",
      "metadata": {
        "id": "VOYiTz9-Y0rq",
        "colab_type": "code",
        "outputId": "926d6a90-5230-4c20-ffb2-67ec4f0c3781",
        "colab": {
          "base_uri": "https://localhost:8080/",
          "height": 34
        }
      },
      "source": [
        "# Calculation of the error rate\n",
        "_rate = (errors / size_test_sample) * 100. \n",
        "print(\"Global error rate for k = \" +str(k)+\" \"+str(_rate) + \" %\")"
      ],
      "execution_count": 190,
      "outputs": [
        {
          "output_type": "stream",
          "text": [
            "Global error rate for k = 15 74.4 %\n"
          ],
          "name": "stdout"
        }
      ]
    },
    {
      "cell_type": "markdown",
      "metadata": {
        "id": "4LO8Q8BLZhgh",
        "colab_type": "text"
      },
      "source": [
        "Global error rate for k = 2 75.0 %\n",
        "\n",
        "\n",
        "Global error rate for k = 4 74.8 %\n",
        "\n",
        "Global error rate for k = 8 73.1 %"
      ]
    },
    {
      "cell_type": "markdown",
      "metadata": {
        "id": "2qLy2Z7hl3Hf",
        "colab_type": "text"
      },
      "source": [
        "# Get the individual errorrate as in B"
      ]
    },
    {
      "cell_type": "code",
      "metadata": {
        "id": "6fzoj3_il5Q_",
        "colab_type": "code",
        "colab": {}
      },
      "source": [
        "indi_error ={0:0,1:0,2:0,3:0,4:0,5:0,6:0,7:0,8:0,9:0}\n",
        "total = {0:0,1:0,2:0,3:0,4:0,5:0,6:0,7:0,8:0,9:0}\n",
        "for i in range(len(test_labels_sample)):\n",
        "  if test_labels_sample[i]!= knn_result[i]:\n",
        "    # saves the fact, that the picture was wrong\n",
        "    indi_error[test_labels_sample[i]] +=1\n",
        "    total[test_labels_sample[i]] +=1\n",
        "  else:\n",
        "      # saves the fact, that the picture was right\n",
        "    total[test_labels_sample[i]] +=1"
      ],
      "execution_count": 0,
      "outputs": []
    },
    {
      "cell_type": "code",
      "metadata": {
        "id": "rMyz2IqemGf8",
        "colab_type": "code",
        "colab": {}
      },
      "source": [
        "errorrate = {}\n",
        "for j in range(0,10):\n",
        "  errorrate[j] = (indi_error[j]/total[j]) * 100\n",
        "  #print(errorrate[j])\n"
      ],
      "execution_count": 0,
      "outputs": []
    },
    {
      "cell_type": "code",
      "metadata": {
        "id": "m00Ct33FmMsb",
        "colab_type": "code",
        "outputId": "4ada662f-4351-49ef-c914-f37f929cfa83",
        "colab": {
          "base_uri": "https://localhost:8080/",
          "height": 191
        }
      },
      "source": [
        "for i in range(len(errorrate)):\n",
        "  print(\"Error rate for \"+ str(class_names[i]) +\" is \"+ str(errorrate[i])+\"%\")"
      ],
      "execution_count": 55,
      "outputs": [
        {
          "output_type": "stream",
          "text": [
            "Error rate for airplane is 72.44897959183673%\n",
            "Error rate for automobile is 77.55102040816327%\n",
            "Error rate for bird is 64.51612903225806%\n",
            "Error rate for cat is 84.5360824742268%\n",
            "Error rate for deer is 55.04587155963303%\n",
            "Error rate for dog is 81.11111111111111%\n",
            "Error rate for frog is 82.82828282828282%\n",
            "Error rate for horse is 89.7196261682243%\n",
            "Error rate for ship is 47.61904761904761%\n",
            "Error rate for truck is 88.46153846153845%\n"
          ],
          "name": "stdout"
        }
      ]
    },
    {
      "cell_type": "markdown",
      "metadata": {
        "id": "82Ce-3zMmbHv",
        "colab_type": "text"
      },
      "source": [
        "**indiv error rate for k = 2:**\n",
        "\n",
        "* Error rate for airplane is 58.16326530612245%\n",
        "* Error rate for automobile is 77.55102040816327%\n",
        "* Error rate for bird is 63.44086021505376%\n",
        "* Error rate for cat is 76.28865979381443%\n",
        "* Error rate for deer is 68.80733944954129%\n",
        "* Error rate for dog is 87.77777777777777%\n",
        "* Error rate for frog is 91.91919191919192%\n",
        "* Error rate for horse is 91.58878504672897%\n",
        "* Error rate for ship is 65.71428571428571%\n",
        "* Error rate for truck is 94.23076923076923%"
      ]
    },
    {
      "cell_type": "markdown",
      "metadata": {
        "id": "JixjpEYsm4os",
        "colab_type": "text"
      },
      "source": [
        "**indiv error rate for k = 4**\n",
        "\n",
        "* Error rate for airplane is 64.28571428571429%\n",
        "* Error rate for automobile is 81.63265306122449%\n",
        "* Error rate for bird is 64.51612903225806%\n",
        "* Error rate for cat is 83.50515463917526%\n",
        "* Error rate for deer is 55.96330275229357%\n",
        "* Error rate for dog is 86.66666666666667%\n",
        "* Error rate for frog is 87.87878787878788%\n",
        "* Error rate for horse is 85.98130841121495%\n",
        "* Error rate for ship is 51.42857142857142%\n",
        "* Error rate for truck is 88.46153846153845%"
      ]
    },
    {
      "cell_type": "markdown",
      "metadata": {
        "id": "9hyP5oEqnItu",
        "colab_type": "text"
      },
      "source": [
        "**indiv error rate for k = 8**\n",
        "\n",
        "* Error rate for airplane is 72.44897959183673%\n",
        "* Error rate for automobile is 77.55102040816327%\n",
        "* Error rate for bird is 64.51612903225806%\n",
        "* Error rate for cat is 84.5360824742268%\n",
        "* Error rate for deer is 55.04587155963303%\n",
        "* Error rate for dog is 81.11111111111111%\n",
        "* Error rate for frog is 82.82828282828282%\n",
        "* Error rate for horse is 89.7196261682243%\n",
        "* Error rate for ship is 47.61904761904761%\n",
        "* Error rate for truck is 88.46153846153845%"
      ]
    },
    {
      "cell_type": "markdown",
      "metadata": {
        "id": "O197QO6hWISB",
        "colab_type": "text"
      },
      "source": [
        "# How does the choice of k influence the results? as in B\n",
        " \n",
        "The global error rate shows that the algorithm gets better with increasing k, at least in the range of 2,4,8. At k = 15, the global error rate is 74,4 %. This shows us that it is not the case that a high k minimizes the error rate. We simply assume that the algorithm is not suitable for this application and so k cannot improve the result in a huge way."
      ]
    },
    {
      "cell_type": "markdown",
      "metadata": {
        "id": "Zs6xUIDClLEU",
        "colab_type": "text"
      },
      "source": [
        "# **Does knn work similarly good?** \n",
        "\n",
        "Knn works at CIFAR extremely inaccurate as you can see from the high error rates. With every test, the error rate is over 73%, while with MNIST, the error rate is a few percent. See 10 wrong predictions:\n",
        "\n"
      ]
    },
    {
      "cell_type": "code",
      "metadata": {
        "id": "R1hPr0LC-gtU",
        "colab_type": "code",
        "colab": {
          "base_uri": "https://localhost:8080/",
          "height": 575
        },
        "outputId": "807f3e09-c683-47ae-fe08-bc4048939870"
      },
      "source": [
        "count = 0\n",
        "false_pictures = (test_labels_sample == knn_result)\n",
        "for i in range(0, 10):\n",
        "    if false_pictures[i] == False:\n",
        "        count += 1\n",
        "        print(\"Picture number \" + str(count))\n",
        "        print(\"Truth number: \" + str(test_labels_sample[i])+\" -> \"+str (class_names[test_labels_sample[i]]))\n",
        "        #plt.imshow(rgb2gray(train_images[i]))\n",
        "        print(\"predicted number: \" + str(knn_result[i])+\" -> \" +str (class_names[i]))\n",
        "        print(\"____________\")\n",
        "\n",
        "        \n",
        "        \n",
        "        #plt.show()\n",
        "             "
      ],
      "execution_count": 191,
      "outputs": [
        {
          "output_type": "stream",
          "text": [
            "Picture number 1\n",
            "Truth number: 2 -> bird\n",
            "predicted number: 0 -> airplane\n",
            "____________\n",
            "Picture number 2\n",
            "Truth number: 3 -> cat\n",
            "predicted number: 2 -> automobile\n",
            "____________\n",
            "Picture number 3\n",
            "Truth number: 2 -> bird\n",
            "predicted number: 6 -> bird\n",
            "____________\n",
            "Picture number 4\n",
            "Truth number: 6 -> frog\n",
            "predicted number: 3 -> cat\n",
            "____________\n",
            "Picture number 5\n",
            "Truth number: 3 -> cat\n",
            "predicted number: 4 -> dog\n",
            "____________\n",
            "Picture number 6\n",
            "Truth number: 9 -> truck\n",
            "predicted number: 8 -> frog\n",
            "____________\n",
            "Picture number 7\n",
            "Truth number: 3 -> cat\n",
            "predicted number: 2 -> horse\n",
            "____________\n",
            "Picture number 8\n",
            "Truth number: 9 -> truck\n",
            "predicted number: 8 -> truck\n",
            "____________\n"
          ],
          "name": "stdout"
        }
      ]
    },
    {
      "cell_type": "markdown",
      "metadata": {
        "id": "f6zgidiegGpC",
        "colab_type": "text"
      },
      "source": [
        "# Kmeans - Setting up k and calculating distances as in C"
      ]
    },
    {
      "cell_type": "code",
      "metadata": {
        "id": "auW1ECznhqhW",
        "colab_type": "code",
        "colab": {}
      },
      "source": [
        "class_names = [\"airplane\", \"automobile\", \"bird\", \"cat\", \"deer\", \"dog\", \"frog\", \"horse\", \"ship\", \"truck\"]\n",
        "clusters = [\"Cluster 0\", \"Cluster 1\", \"Cluster 2\", \"Cluster 3\", \"Cluster 4\", \"Cluster 5\", \"Cluster 6\", \"Cluster 7\", \"Cluster 8\", \"Cluster 9\"]"
      ],
      "execution_count": 0,
      "outputs": []
    },
    {
      "cell_type": "code",
      "metadata": {
        "id": "qpcV9Sw0Y2kA",
        "colab_type": "code",
        "outputId": "980362c0-ab72-48f7-e4d7-9a86c1fabe10",
        "colab": {
          "base_uri": "https://localhost:8080/",
          "height": 52
        }
      },
      "source": [
        "k = 10\n",
        "# init centroids\n",
        "idx_centroid = np.random.randint(size_image_sample, size=k)\n",
        "centroids = image_sample[idx_centroid]\n",
        "\n",
        "\n",
        "idx_centroid"
      ],
      "execution_count": 105,
      "outputs": [
        {
          "output_type": "execute_result",
          "data": {
            "text/plain": [
              "array([ 9381,  2754,  7228,  7163,  4089, 19421,  4575,   707, 10188,\n",
              "        8213])"
            ]
          },
          "metadata": {
            "tags": []
          },
          "execution_count": 105
        }
      ]
    },
    {
      "cell_type": "code",
      "metadata": {
        "id": "cZ20BXcqgO9W",
        "colab_type": "code",
        "outputId": "8c423b86-6779-4e0f-fb8a-2ae33a4ad077",
        "colab": {
          "base_uri": "https://localhost:8080/",
          "height": 34
        }
      },
      "source": [
        "# calculate distances\n",
        "dists = scipy.spatial.distance.cdist(image_sample, centroids, metric='euclid')\n",
        "dists.shape"
      ],
      "execution_count": 106,
      "outputs": [
        {
          "output_type": "execute_result",
          "data": {
            "text/plain": [
              "(20000, 10)"
            ]
          },
          "metadata": {
            "tags": []
          },
          "execution_count": 106
        }
      ]
    },
    {
      "cell_type": "code",
      "metadata": {
        "id": "fAiw10aEgpuI",
        "colab_type": "code",
        "outputId": "e2436e85-9f7e-4d75-db73-18d869ce3ae0",
        "colab": {
          "base_uri": "https://localhost:8080/",
          "height": 34
        }
      },
      "source": [
        "#find nearest ones\n",
        "labels = np.argmin(dists, axis=1)\n",
        "labels"
      ],
      "execution_count": 107,
      "outputs": [
        {
          "output_type": "execute_result",
          "data": {
            "text/plain": [
              "array([0, 7, 0, ..., 7, 7, 7])"
            ]
          },
          "metadata": {
            "tags": []
          },
          "execution_count": 107
        }
      ]
    },
    {
      "cell_type": "code",
      "metadata": {
        "id": "pFf3WjTCgrcX",
        "colab_type": "code",
        "outputId": "6660a0f7-89d0-4561-a533-9a06bdc5256c",
        "colab": {
          "base_uri": "https://localhost:8080/",
          "height": 34
        }
      },
      "source": [
        "np.unique(labels)"
      ],
      "execution_count": 108,
      "outputs": [
        {
          "output_type": "execute_result",
          "data": {
            "text/plain": [
              "array([0, 1, 2, 3, 4, 5, 6, 7, 8, 9])"
            ]
          },
          "metadata": {
            "tags": []
          },
          "execution_count": 108
        }
      ]
    },
    {
      "cell_type": "code",
      "metadata": {
        "id": "izG1phmjgtsj",
        "colab_type": "code",
        "colab": {}
      },
      "source": [
        "# get new centroids\n",
        "list = [image_sample[labels == i].mean(0) for i in range(k)]\n",
        "centroids = np.stack(list)"
      ],
      "execution_count": 0,
      "outputs": []
    },
    {
      "cell_type": "code",
      "metadata": {
        "id": "w0Rm6JKwgv_2",
        "colab_type": "code",
        "colab": {}
      },
      "source": [
        "# do the iteraions of kmean\n",
        "#iteration = 10\n",
        "iteration = 100\n",
        "#iteration = 1000\n",
        "for j in range(iteration):\n",
        "    \n",
        "    # calc distances\n",
        "    dists = scipy.spatial.distance.cdist(image_sample, centroids, metric = 'euclid')\n",
        "    \n",
        "    # label according to nearest centroids\n",
        "    centroid_labels = np.argmin(dists, axis = 1)\n",
        "    \n",
        "    # get new centroids\n",
        "    centroid_list = [image_sample[centroid_labels == i].mean(0) for i in range(k)]\n",
        "    centroids = np.stack(centroid_list)"
      ],
      "execution_count": 0,
      "outputs": []
    },
    {
      "cell_type": "code",
      "metadata": {
        "id": "ji-Q7IOsg6Tf",
        "colab_type": "code",
        "colab": {}
      },
      "source": [
        "# select all data in cluster_n\n",
        "cluster_0 = image_sample[labels == 0]\n",
        "cluster_1 = image_sample[labels == 1]\n",
        "cluster_2 = image_sample[labels == 2]\n",
        "cluster_3 = image_sample[labels == 3]\n",
        "cluster_4 = image_sample[labels == 4]\n",
        "cluster_5 = image_sample[labels == 5]\n",
        "cluster_6 = image_sample[labels == 6]\n",
        "cluster_7 = image_sample[labels == 7]\n",
        "cluster_8 = image_sample[labels == 8]\n",
        "cluster_9 = image_sample[labels == 9]\n",
        "\n"
      ],
      "execution_count": 0,
      "outputs": []
    },
    {
      "cell_type": "code",
      "metadata": {
        "id": "gIcgQOYDhfE9",
        "colab_type": "code",
        "colab": {}
      },
      "source": [
        "labels_cluster_0 = labels_sample[centroid_labels == 0]\n",
        "labels_cluster_1 = labels_sample[centroid_labels == 1]\n",
        "labels_cluster_2 = labels_sample[centroid_labels == 2]\n",
        "labels_cluster_3 = labels_sample[centroid_labels == 3]\n",
        "labels_cluster_4 = labels_sample[centroid_labels == 4]\n",
        "labels_cluster_5 = labels_sample[centroid_labels == 5]\n",
        "labels_cluster_6 = labels_sample[centroid_labels == 6]\n",
        "labels_cluster_7 = labels_sample[centroid_labels == 7]\n",
        "labels_cluster_8 = labels_sample[centroid_labels == 8]\n",
        "labels_cluster_9 = labels_sample[centroid_labels == 9]"
      ],
      "execution_count": 0,
      "outputs": []
    },
    {
      "cell_type": "code",
      "metadata": {
        "id": "xH4-yib1i2a8",
        "colab_type": "code",
        "outputId": "1b8f1d3f-3159-494c-bc8e-e0222cf6eecd",
        "colab": {
          "base_uri": "https://localhost:8080/",
          "height": 191
        }
      },
      "source": [
        "print(\"Numbers in Cluster 0: \"+str(np.unique(labels_cluster_0)))\n",
        "print(\"Numbers in Cluster 1: \"+str(np.unique(labels_cluster_1)))\n",
        "print(\"Numbers in Cluster 2: \"+str(np.unique(labels_cluster_2)))\n",
        "print(\"Numbers in Cluster 3: \"+str(np.unique(labels_cluster_3)))\n",
        "print(\"Numbers in Cluster 4: \"+str(np.unique(labels_cluster_4)))\n",
        "print(\"Numbers in Cluster 5: \"+str(np.unique(labels_cluster_5)))\n",
        "print(\"Numbers in Cluster 6: \"+str(np.unique(labels_cluster_6)))\n",
        "print(\"Numbers in Cluster 7: \"+str(np.unique(labels_cluster_7)))\n",
        "print(\"Numbers in Cluster 8: \"+str(np.unique(labels_cluster_8)))\n",
        "print(\"Numbers in Cluster 9: \"+str(np.unique(labels_cluster_9)))"
      ],
      "execution_count": 113,
      "outputs": [
        {
          "output_type": "stream",
          "text": [
            "Numbers in Cluster 0: [0 1 2 3 4 5 6 7 8 9]\n",
            "Numbers in Cluster 1: [0 1 2 3 4 5 6 7 8 9]\n",
            "Numbers in Cluster 2: [0 1 2 3 4 5 6 7 8 9]\n",
            "Numbers in Cluster 3: [0 1 2 3 4 5 6 7 8 9]\n",
            "Numbers in Cluster 4: [0 1 2 3 4 5 6 7 8 9]\n",
            "Numbers in Cluster 5: [0 1 2 3 4 5 6 7 8 9]\n",
            "Numbers in Cluster 6: [0 1 2 3 4 5 6 7 8 9]\n",
            "Numbers in Cluster 7: [0 1 2 3 4 5 6 7 8 9]\n",
            "Numbers in Cluster 8: [0 1 2 3 4 5 6 7 8 9]\n",
            "Numbers in Cluster 9: [0 1 2 3 4 5 6 7 8 9]\n"
          ],
          "name": "stdout"
        }
      ]
    },
    {
      "cell_type": "code",
      "metadata": {
        "id": "t1ymhfvTjC0T",
        "colab_type": "code",
        "colab": {}
      },
      "source": [
        "def percentagecalculator(labels_cluster, class_names, c):\n",
        "    cluster = stats.mode(labels_cluster)\n",
        "    labels, count = np.unique(labels_cluster, return_counts=True)\n",
        "    highest_idx = 0\n",
        "    for i in range(len(labels)):\n",
        "      if count[i] > count[highest_idx]:\n",
        "        highest_idx = i\n",
        "    per = float(cluster[1]) / float(labels_cluster.shape[0]) * 100\n",
        "    print(\"Cluster \" + str(c) + \" contains \" + str(round(per, 2)) + \" %  \" + str(labels[highest_idx]))"
      ],
      "execution_count": 0,
      "outputs": []
    },
    {
      "cell_type": "code",
      "metadata": {
        "id": "XyU5lCpUjE87",
        "colab_type": "code",
        "outputId": "f35ada80-1ba7-413f-d75e-c0d9834bc2bd",
        "colab": {
          "base_uri": "https://localhost:8080/",
          "height": 191
        }
      },
      "source": [
        "percentagecalculator(labels_cluster_0, class_names, 0)\n",
        "percentagecalculator(labels_cluster_1, class_names, 1)\n",
        "percentagecalculator(labels_cluster_2, class_names, 2)\n",
        "percentagecalculator(labels_cluster_3, class_names, 3)\n",
        "percentagecalculator(labels_cluster_4, class_names, 4)\n",
        "percentagecalculator(labels_cluster_5, class_names, 5)\n",
        "percentagecalculator(labels_cluster_6, class_names, 6)\n",
        "percentagecalculator(labels_cluster_7, class_names, 7)\n",
        "percentagecalculator(labels_cluster_8, class_names, 8)\n",
        "percentagecalculator(labels_cluster_9, class_names, 9)"
      ],
      "execution_count": 0,
      "outputs": [
        {
          "output_type": "stream",
          "text": [
            "Cluster 0 contains 19.09 %  4\n",
            "Cluster 1 contains 17.09 %  7\n",
            "Cluster 2 contains 16.32 %  1\n",
            "Cluster 3 contains 19.83 %  6\n",
            "Cluster 4 contains 28.11 %  0\n",
            "Cluster 5 contains 30.26 %  8\n",
            "Cluster 6 contains 30.57 %  9\n",
            "Cluster 7 contains 19.14 %  7\n",
            "Cluster 8 contains 14.94 %  2\n",
            "Cluster 9 contains 22.0 %  5\n"
          ],
          "name": "stdout"
        }
      ]
    },
    {
      "cell_type": "markdown",
      "metadata": {
        "id": "eeFqM0TcYuuh",
        "colab_type": "text"
      },
      "source": [
        "# Does each number have a cluster and what ist the percentage of each cluster? as in C\n"
      ]
    },
    {
      "cell_type": "markdown",
      "metadata": {
        "id": "srXitGDlkuWj",
        "colab_type": "text"
      },
      "source": [
        "**K-means for 10 iterations**\n",
        "* Cluster 0 contains 33.53 %  ships\n",
        "* Cluster 1 contains 33.27 %  airplanes\n",
        "* Cluster 2 contains 28.5 %  trucks\n",
        "* Cluster 3 contains 15.27 %  birds\n",
        "* Cluster 4 contains 17.51 %  horses\n",
        "* Cluster 5 contains 18.79 %  deers\n",
        "* Cluster 6 contains 14.2 %  dogs\n",
        "* Cluster 7 contains 19.01 %  frogs\n",
        "* Cluster 8 contains 17.25 %  dogs\n",
        "* Cluster 9 contains 17.37 %  automobiles"
      ]
    },
    {
      "cell_type": "markdown",
      "metadata": {
        "id": "1j1FNCUvOucj",
        "colab_type": "text"
      },
      "source": [
        "**Does each number have a cluster?**\n",
        "\n",
        "*cats is not assigned to any cluster and dogs is assigned twice*"
      ]
    },
    {
      "cell_type": "markdown",
      "metadata": {
        "id": "-aPI7O3Ok6zy",
        "colab_type": "text"
      },
      "source": [
        "**K-means for 100 iterations**\n",
        "\n",
        "* Cluster 0 contains 32.97 %  ships\n",
        "* Cluster 1 contains 32.46 %  airplanes\n",
        "* Cluster 2 contains 30.45 %  trucks\n",
        "* Cluster 3 contains 15.34 %  birds\n",
        "* Cluster 4 contains 18.81 %  horses\n",
        "* Cluster 5 contains 19.61 %  deers\n",
        "* Cluster 6 contains 15.34 %  dogs\n",
        "* Cluster 7 contains 19.85 %  frogs\n",
        "* Cluster 8 contains 19.54 %  dogs\n",
        "* Cluster 9 contains 14.77 %  frogs"
      ]
    },
    {
      "cell_type": "markdown",
      "metadata": {
        "id": "D9N_e_tZVkbl",
        "colab_type": "text"
      },
      "source": [
        "**Does each number have a cluster?**\n",
        "\n",
        "\n",
        "*automobiles and cats are not assigned to any cluster and dogs and frogs are assigned twice*"
      ]
    },
    {
      "cell_type": "markdown",
      "metadata": {
        "id": "Iip9sGzakLBi",
        "colab_type": "text"
      },
      "source": [
        "**K-means for 1000 iterations**\n",
        "\n",
        "\n",
        "* Cluster 0 contains 32.97 %  ships\n",
        "* Cluster 1 contains 32.46 %  airplanes\n",
        "* Cluster 2 contains 30.45 %  trucks\n",
        "* Cluster 3 contains 15.34 %  birds\n",
        "* Cluster 4 contains 18.81 %  horses\n",
        "* Cluster 5 contains 19.61 %  deers\n",
        "* Cluster 6 contains 15.34 %  dogs\n",
        "* Cluster 7 contains 19.85 %  frogs\n",
        "* Cluster 8 contains 19.54 %  dogs\n",
        "* Cluster 9 contains 14.77 %  frogs\n",
        "\n",
        "\n",
        "\n"
      ]
    },
    {
      "cell_type": "markdown",
      "metadata": {
        "id": "nVP63qKjZDR9",
        "colab_type": "text"
      },
      "source": [
        "**Does each number have a cluster?**\n",
        "\n",
        "*automobiles and cats are not assigned to any cluster and dogs and frogs are assigned twice*"
      ]
    },
    {
      "cell_type": "markdown",
      "metadata": {
        "id": "XUofRzK6Se81",
        "colab_type": "text"
      },
      "source": [
        "# Does k-means work similarly good? \n",
        "\n"
      ]
    },
    {
      "cell_type": "markdown",
      "metadata": {
        "id": "5VVdS0DUaTWd",
        "colab_type": "text"
      },
      "source": [
        "kmeans also has a high error rate, so you can't say that kmeans works well or fits well on the CIFAR dataset. The cluster majority for CIFAR is just MAX 30% while for MNIST it is over 90%. \n"
      ]
    },
    {
      "cell_type": "markdown",
      "metadata": {
        "id": "X3nfoBbdbJF8",
        "colab_type": "text"
      },
      "source": [
        "# CIFAR understandingas in D"
      ]
    },
    {
      "cell_type": "markdown",
      "metadata": {
        "id": "Z868YKF0e0-l",
        "colab_type": "text"
      },
      "source": [
        "As with the MNIST dataset, some structures/classes can be better classified with KNN and K-means than others. As with MNIST, this is due to the structure or uniqueness of the images. In the following, a few pictures are shown for clarification purposes"
      ]
    },
    {
      "cell_type": "markdown",
      "metadata": {
        "id": "CKfwrVXIgE1G",
        "colab_type": "text"
      },
      "source": [
        "It is to be expected that trucks (only for kmeans), ships and planes (for both algorithms) in particular can be assigned relatively well due to their structure and characteristics. Trucks are very angular due to their design, ships are very elongated and planes are very distinctive due to their wings. This expectation also shows us the error rate at knn and the result in the allocation of clusters at Kmeans. For ships and aircrafts the error rate at KNN (average) was always the lowest.  For K-means, too, aircraft, ships and additionally trucks belong to the classes with the highest values with over 30% in their own cluster.\n",
        "\n",
        "Especially animals such as dogs, deer and horses cannot be easily distinguished in this resolution and therefore cannot be optimally assigned (similar values).Particularly here, fine characteristics that distinguish the individual animals (ears, nose, etc.) are lost due to the dissolution.  Knn and kmeans show that the animal classes can be assigned badly in reality.\n",
        "\n",
        "Here some exmaples which are very complicated to assign:"
      ]
    },
    {
      "cell_type": "code",
      "metadata": {
        "id": "BIyObB0JeB5o",
        "colab_type": "code",
        "colab": {
          "base_uri": "https://localhost:8080/",
          "height": 286
        },
        "outputId": "88137418-6ce4-466b-b056-44dae86d369e"
      },
      "source": [
        "plt.imshow(rgb2gray(train_images[1001]))\n",
        "label_index = int(train_labels[1001])\n",
        "print(\"It is a \"+ class_names[label_index] +\", but it could be also a dog\")\n",
        "plt.show()\n"
      ],
      "execution_count": 148,
      "outputs": [
        {
          "output_type": "stream",
          "text": [
            "It is a deer, but it could be also a dog\n"
          ],
          "name": "stdout"
        },
        {
          "output_type": "display_data",
          "data": {
            "image/png": "[encoded data removed]",
            "text/plain": [
              "<Figure size 432x288 with 1 Axes>"
            ]
          },
          "metadata": {
            "tags": []
          }
        }
      ]
    },
    {
      "cell_type": "code",
      "metadata": {
        "id": "55nhZUgpedMz",
        "colab_type": "code",
        "colab": {
          "base_uri": "https://localhost:8080/",
          "height": 286
        },
        "outputId": "e6125e66-cc50-4e12-fa84-d3d1d375255e"
      },
      "source": [
        "plt.imshow(rgb2gray(train_images[10]))\n",
        "label_index = int(train_labels[10])\n",
        "print(\"It is a \"+ class_names[label_index] +\", but it could be everything\")\n",
        "plt.show()"
      ],
      "execution_count": 151,
      "outputs": [
        {
          "output_type": "stream",
          "text": [
            "It is a deer, but it could be everything\n"
          ],
          "name": "stdout"
        },
        {
          "output_type": "display_data",
          "data": {
            "image/png": "[encoded data removed]",
            "text/plain": [
              "<Figure size 432x288 with 1 Axes>"
            ]
          },
          "metadata": {
            "tags": []
          }
        }
      ]
    },
    {
      "cell_type": "code",
      "metadata": {
        "id": "k1d6bXZkeiaF",
        "colab_type": "code",
        "colab": {
          "base_uri": "https://localhost:8080/",
          "height": 286
        },
        "outputId": "69fa4ec1-6d45-4dc5-d3b1-e819acb76520"
      },
      "source": [
        "plt.imshow(rgb2gray(train_images[128]))\n",
        "label_index = int(train_labels[128])\n",
        "print(\"It is a \"+ class_names[label_index] +\", but it could be also a cat\")\n",
        "plt.show()"
      ],
      "execution_count": 157,
      "outputs": [
        {
          "output_type": "stream",
          "text": [
            "It is a dog, but it could be also a cat\n"
          ],
          "name": "stdout"
        },
        {
          "output_type": "display_data",
          "data": {
            "image/png": "[encoded data removed]",
            "text/plain": [
              "<Figure size 432x288 with 1 Axes>"
            ]
          },
          "metadata": {
            "tags": []
          }
        }
      ]
    },
    {
      "cell_type": "markdown",
      "metadata": {
        "id": "Vlhm_ikIjtso",
        "colab_type": "text"
      },
      "source": [
        "Here some exmaples which are very easy to assign:"
      ]
    },
    {
      "cell_type": "code",
      "metadata": {
        "id": "8cN468Hya7iG",
        "colab_type": "code",
        "colab": {
          "base_uri": "https://localhost:8080/",
          "height": 286
        },
        "outputId": "dfcabcb7-b553-4bcf-a910-d82256b18227"
      },
      "source": [
        "plt.imshow(rgb2gray(train_images[1]))\n",
        "label_index = int(train_labels[1])\n",
        "print(\"It is a \"+ class_names[label_index] +\".\")\n",
        "plt.show()"
      ],
      "execution_count": 160,
      "outputs": [
        {
          "output_type": "stream",
          "text": [
            "It is a truck.\n"
          ],
          "name": "stdout"
        },
        {
          "output_type": "display_data",
          "data": {
            "image/png": "[encoded data removed]",
            "text/plain": [
              "<Figure size 432x288 with 1 Axes>"
            ]
          },
          "metadata": {
            "tags": []
          }
        }
      ]
    },
    {
      "cell_type": "code",
      "metadata": {
        "id": "L2wB-OKFjxOG",
        "colab_type": "code",
        "colab": {
          "base_uri": "https://localhost:8080/",
          "height": 286
        },
        "outputId": "d8a0d829-d210-4ef9-d454-87cf2e4e515e"
      },
      "source": [
        "plt.imshow(rgb2gray(train_images[1410]))\n",
        "label_index = int(train_labels[1410])\n",
        "print(\"It is a \"+ class_names[label_index] +\".\")\n",
        "plt.show()"
      ],
      "execution_count": 171,
      "outputs": [
        {
          "output_type": "stream",
          "text": [
            "It is a automobile.\n"
          ],
          "name": "stdout"
        },
        {
          "output_type": "display_data",
          "data": {
            "image/png": "[encoded data removed]",
            "text/plain": [
              "<Figure size 432x288 with 1 Axes>"
            ]
          },
          "metadata": {
            "tags": []
          }
        }
      ]
    },
    {
      "cell_type": "markdown",
      "metadata": {
        "id": "hi1w6pfzm6QJ",
        "colab_type": "text"
      },
      "source": [
        "# Conclusion\n",
        "\n",
        "In summary, it can be said that both algorithms work better at MNIST. This may be due to the fact that CIFAR contains more information in one image. For example, not only the dog is in the picture, but also the heating. Another reason is the different colour transitions in the pictures. There are many more colours. For example the dog is black, the heater white and the carpet grey. Thus it becomes much more difficult to distinguish or assign the pictures more clearly.\n"
      ]
    },
    {
      "cell_type": "code",
      "metadata": {
        "id": "e51Sqk5tj4En",
        "colab_type": "code",
        "colab": {}
      },
      "source": [
        ""
      ],
      "execution_count": 0,
      "outputs": []
    }
  ]
}
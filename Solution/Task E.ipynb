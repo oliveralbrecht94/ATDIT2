{
  "nbformat": 4,
  "nbformat_minor": 0,
  "metadata": {
    "colab": {
      "name": "Untitled9.ipynb",
      "provenance": [],
      "collapsed_sections": [],
      "include_colab_link": true
    },
    "kernelspec": {
      "name": "python3",
      "display_name": "Python 3"
    }
  },
  "cells": [
    {
      "cell_type": "markdown",
      "metadata": {
        "id": "view-in-github",
        "colab_type": "text"
      },
      "source": [
        "<a href=\"https://colab.research.google.com/github/oliveralbrecht94/ATDIT2/blob/master/Solution/Task%20E.ipynb\" target=\"_parent\"><img src=\"https://colab.research.google.com/assets/colab-badge.svg\" alt=\"Open In Colab\"/></a>"
      ]
    },
    {
      "cell_type": "code",
      "metadata": {
        "id": "qTOsvRpESgMC",
        "colab_type": "code",
        "outputId": "e75b6b6f-c9bf-4aff-c870-1e2d601167d6",
        "colab": {
          "base_uri": "https://localhost:8080/",
          "height": 34
        }
      },
      "source": [
        "import tensorflow as tf\n",
        "import numpy as np\n",
        "import skimage as ski\n",
        "import matplotlib.pyplot as plt\n",
        "from scipy import stats\n",
        "import scipy.spatial.distance\n",
        "\n",
        "plt.set_cmap(None)\n",
        "plt.gray()"
      ],
      "execution_count": 420,
      "outputs": [
        {
          "output_type": "display_data",
          "data": {
            "text/plain": [
              "<Figure size 432x288 with 0 Axes>"
            ]
          },
          "metadata": {
            "tags": []
          }
        }
      ]
    },
    {
      "cell_type": "code",
      "metadata": {
        "id": "blVUuilsTL2V",
        "colab_type": "code",
        "colab": {}
      },
      "source": [
        "cifar_train = tf.keras.datasets.cifar10.load_data()[0]\n",
        "train_images, train_labels = cifar_train[0], cifar_train[1]"
      ],
      "execution_count": 0,
      "outputs": []
    },
    {
      "cell_type": "code",
      "metadata": {
        "id": "flV2cQYxTO4R",
        "colab_type": "code",
        "colab": {}
      },
      "source": [
        "cifar_test = tf.keras.datasets.cifar10.load_data()[1]\n",
        "test_images, test_labels = cifar_test[0], cifar_test[1]"
      ],
      "execution_count": 0,
      "outputs": []
    },
    {
      "cell_type": "code",
      "metadata": {
        "id": "54THvSMATRng",
        "colab_type": "code",
        "colab": {}
      },
      "source": [
        "train_labels_list = []\n",
        "for i in range(train_labels.shape[0]):\n",
        "    train_labels_list.append(train_labels[i][0])"
      ],
      "execution_count": 0,
      "outputs": []
    },
    {
      "cell_type": "code",
      "metadata": {
        "id": "zc5ltX6hTQxy",
        "colab_type": "code",
        "colab": {}
      },
      "source": [
        "def rgb2gray(rgb):\n",
        "    return np.dot(rgb[...,:3], [0.299, 0.587, 0.114])"
      ],
      "execution_count": 0,
      "outputs": []
    },
    {
      "cell_type": "code",
      "metadata": {
        "id": "y-iQEvRHTSxa",
        "colab_type": "code",
        "colab": {}
      },
      "source": [
        "y_train = train_labels\n",
        "y_test = test_labels"
      ],
      "execution_count": 0,
      "outputs": []
    },
    {
      "cell_type": "markdown",
      "metadata": {
        "id": "1eNbbXQqUFSI",
        "colab_type": "text"
      },
      "source": [
        "# Images into grey"
      ]
    },
    {
      "cell_type": "code",
      "metadata": {
        "id": "CZp00U_sTUny",
        "colab_type": "code",
        "colab": {}
      },
      "source": [
        "x_train_gray = []\n",
        "\n",
        "for i in range(train_images.shape[0]):\n",
        "    x_train_gray.append(rgb2gray(train_images[i]))\n",
        "    \n",
        "x_train_gray = np.array(x_train_gray)"
      ],
      "execution_count": 0,
      "outputs": []
    },
    {
      "cell_type": "code",
      "metadata": {
        "id": "z5cM_8zUTVzf",
        "colab_type": "code",
        "colab": {}
      },
      "source": [
        "x_test_gray = []\n",
        "\n",
        "for i in range(test_images.shape[0]):\n",
        "    x_test_gray.append(rgb2gray(test_images[i]))\n",
        "    \n",
        "x_test_gray = np.array(x_test_gray)"
      ],
      "execution_count": 0,
      "outputs": []
    },
    {
      "cell_type": "code",
      "metadata": {
        "id": "xqFiVgiRW2Mf",
        "colab_type": "code",
        "outputId": "1dcb46c7-8a77-4654-f3ef-1270fa6b5e8b",
        "colab": {
          "base_uri": "https://localhost:8080/",
          "height": 34
        }
      },
      "source": [
        "train_images.shape"
      ],
      "execution_count": 428,
      "outputs": [
        {
          "output_type": "execute_result",
          "data": {
            "text/plain": [
              "(50000, 32, 32, 3)"
            ]
          },
          "metadata": {
            "tags": []
          },
          "execution_count": 428
        }
      ]
    },
    {
      "cell_type": "code",
      "metadata": {
        "id": "so7wrRNN2adO",
        "colab_type": "code",
        "colab": {}
      },
      "source": [
        ""
      ],
      "execution_count": 0,
      "outputs": []
    },
    {
      "cell_type": "markdown",
      "metadata": {
        "id": "weOjPcM0Va7x",
        "colab_type": "text"
      },
      "source": [
        "# Preparing Dataset"
      ]
    },
    {
      "cell_type": "code",
      "metadata": {
        "id": "i-ZgBh5BTW9P",
        "colab_type": "code",
        "outputId": "caba7c53-769a-4ffc-8242-57dc3c5cda85",
        "colab": {
          "base_uri": "https://localhost:8080/",
          "height": 34
        }
      },
      "source": [
        "\n",
        "n_train = train_images.shape[0]\n",
        "n_test = test_images.shape[0]\n",
        "m = train_images.shape[1]**2\n",
        "\n",
        "\n",
        "# Transform to 1D vector from each matrix with the pixels of an image in order to calculate distances.\n",
        "gray_image = x_train_gray.reshape([n_train, m])\n",
        "gray_test_image = x_test_gray.reshape([n_test, m])\n",
        "gray_image.shape"
      ],
      "execution_count": 429,
      "outputs": [
        {
          "output_type": "execute_result",
          "data": {
            "text/plain": [
              "(50000, 1024)"
            ]
          },
          "metadata": {
            "tags": []
          },
          "execution_count": 429
        }
      ]
    },
    {
      "cell_type": "code",
      "metadata": {
        "id": "NdzwSZufTwjy",
        "colab_type": "code",
        "outputId": "7b231e8c-4f61-412f-a655-4d52593fa3dc",
        "colab": {
          "base_uri": "https://localhost:8080/",
          "height": 34
        }
      },
      "source": [
        "size_image_sample = 20000\n",
        "index = np.random.randint(n_train, size = size_image_sample) \n",
        "image_sample = gray_image[index]\n",
        "labels_sample = train_labels[index]\n",
        "image_sample.shape"
      ],
      "execution_count": 430,
      "outputs": [
        {
          "output_type": "execute_result",
          "data": {
            "text/plain": [
              "(20000, 1024)"
            ]
          },
          "metadata": {
            "tags": []
          },
          "execution_count": 430
        }
      ]
    },
    {
      "cell_type": "code",
      "metadata": {
        "id": "XPONex_qUnG-",
        "colab_type": "code",
        "colab": {}
      },
      "source": [
        "size_test_sample = 1000\n",
        "index = np.random.randint(n_test, size = size_test_sample)\n",
        "test_image_sample = gray_test_image[index]\n",
        "test_labels_sample = test_labels[index]"
      ],
      "execution_count": 0,
      "outputs": []
    },
    {
      "cell_type": "code",
      "metadata": {
        "id": "cVNncn6VUzjl",
        "colab_type": "code",
        "colab": {}
      },
      "source": [
        "labels_sample = labels_sample.reshape([size_image_sample])\n",
        "test_labels_sample = test_labels_sample.reshape([size_test_sample])"
      ],
      "execution_count": 0,
      "outputs": []
    },
    {
      "cell_type": "markdown",
      "metadata": {
        "id": "-CBKvMqzZ8Lt",
        "colab_type": "text"
      },
      "source": [
        "# KNN - Setting up K and calculate distances"
      ]
    },
    {
      "cell_type": "code",
      "metadata": {
        "id": "6FbtbKcXTYHS",
        "colab_type": "code",
        "colab": {}
      },
      "source": [
        "# setting up the k value \n",
        "k = 2 \n",
        "# k = 4\n",
        "#k = 8 \n",
        "# calculating the distance between each vector in dependency of k and save it in an arra\n",
        "distances = scipy.spatial.distance.cdist(image_sample, test_image_sample, metric='euclid')\n",
        "# calculates the next k points around the vector\n",
        "index_nearest = np.argpartition(distances, k, axis = 0)[:k] "
      ],
      "execution_count": 0,
      "outputs": []
    },
    {
      "cell_type": "code",
      "metadata": {
        "id": "iQxhX2IfUb5o",
        "colab_type": "code",
        "outputId": "0056ba65-4573-4be7-cb31-65091dc34b5d",
        "colab": {
          "base_uri": "https://localhost:8080/",
          "height": 52
        }
      },
      "source": [
        "# saves the neighbors of the vector in dependency of k\n",
        "knn_neighbors = labels_sample[index_nearest] \n",
        "# show the neighbors\n",
        "print(knn_neighbors)"
      ],
      "execution_count": 434,
      "outputs": [
        {
          "output_type": "stream",
          "text": [
            "[[0 0 6 ... 2 2 9]\n",
            " [0 2 6 ... 8 5 1]]\n"
          ],
          "name": "stdout"
        }
      ]
    },
    {
      "cell_type": "code",
      "metadata": {
        "id": "cBQ34j6SX5ed",
        "colab_type": "code",
        "outputId": "cd23801d-c4fe-4435-d674-6a7d30fcb8c9",
        "colab": {
          "base_uri": "https://localhost:8080/",
          "height": 820
        }
      },
      "source": [
        "# is looking for the most frequent value in the array/vector\n",
        "knn_result = stats.mode(knn_neighbors)[0]\n",
        "knn_result = knn_result[0]\n",
        "# shows the most frequent value\n",
        "knn_result"
      ],
      "execution_count": 435,
      "outputs": [
        {
          "output_type": "execute_result",
          "data": {
            "text/plain": [
              "array([0, 0, 6, 4, 1, 5, 8, 0, 2, 0, 8, 0, 0, 0, 4, 5, 2, 0, 2, 7, 0, 0,\n",
              "       2, 0, 2, 5, 5, 2, 0, 2, 3, 8, 0, 1, 4, 0, 3, 2, 8, 5, 4, 0, 0, 4,\n",
              "       4, 1, 8, 2, 3, 4, 8, 8, 2, 8, 2, 2, 1, 2, 8, 1, 2, 0, 4, 8, 2, 2,\n",
              "       0, 8, 0, 0, 4, 8, 2, 8, 2, 2, 3, 0, 3, 8, 0, 0, 0, 0, 4, 2, 0, 3,\n",
              "       0, 2, 0, 4, 7, 0, 3, 3, 6, 8, 2, 0, 1, 2, 2, 7, 3, 6, 5, 4, 0, 7,\n",
              "       0, 2, 8, 1, 0, 1, 1, 0, 4, 8, 0, 3, 2, 2, 4, 2, 1, 6, 4, 0, 2, 0,\n",
              "       3, 0, 2, 8, 7, 6, 0, 6, 0, 0, 8, 8, 8, 0, 2, 3, 4, 0, 8, 8, 2, 0,\n",
              "       2, 0, 0, 4, 0, 2, 4, 6, 4, 2, 8, 6, 0, 7, 3, 7, 8, 2, 8, 4, 0, 0,\n",
              "       2, 2, 2, 0, 0, 8, 3, 0, 2, 8, 3, 7, 2, 0, 2, 2, 8, 4, 0, 8, 3, 4,\n",
              "       0, 0, 4, 5, 3, 0, 0, 2, 7, 4, 2, 2, 2, 0, 2, 0, 1, 9, 4, 3, 3, 2,\n",
              "       4, 5, 8, 0, 8, 0, 0, 2, 6, 7, 3, 0, 4, 3, 3, 4, 7, 1, 0, 0, 0, 3,\n",
              "       0, 0, 2, 4, 2, 5, 3, 5, 3, 2, 0, 6, 2, 5, 8, 0, 0, 0, 3, 4, 2, 6,\n",
              "       2, 4, 4, 2, 2, 5, 0, 1, 5, 4, 4, 4, 5, 4, 5, 4, 1, 2, 2, 2, 2, 2,\n",
              "       4, 6, 0, 3, 1, 2, 2, 0, 5, 6, 2, 8, 2, 0, 2, 2, 4, 0, 4, 5, 2, 8,\n",
              "       5, 4, 4, 7, 1, 4, 6, 0, 3, 0, 4, 2, 2, 4, 0, 3, 4, 2, 3, 0, 0, 2,\n",
              "       5, 8, 4, 2, 4, 2, 8, 5, 8, 2, 8, 2, 5, 2, 3, 3, 0, 3, 2, 5, 7, 4,\n",
              "       8, 3, 4, 4, 8, 2, 3, 3, 2, 8, 2, 5, 2, 4, 2, 3, 4, 4, 4, 8, 1, 0,\n",
              "       4, 2, 4, 0, 0, 8, 0, 9, 2, 5, 5, 2, 2, 0, 0, 0, 5, 4, 4, 6, 8, 7,\n",
              "       7, 6, 6, 3, 2, 4, 2, 2, 6, 8, 3, 2, 4, 0, 8, 8, 0, 4, 2, 0, 4, 7,\n",
              "       4, 2, 6, 0, 4, 2, 3, 0, 0, 1, 9, 4, 5, 0, 4, 0, 3, 0, 2, 1, 8, 3,\n",
              "       1, 2, 0, 4, 2, 0, 0, 2, 2, 1, 0, 1, 5, 2, 0, 0, 5, 0, 0, 2, 4, 5,\n",
              "       1, 0, 4, 8, 4, 2, 0, 0, 0, 5, 4, 0, 0, 0, 6, 0, 6, 0, 8, 0, 4, 0,\n",
              "       4, 8, 5, 0, 2, 1, 4, 5, 5, 0, 8, 2, 7, 1, 2, 0, 0, 1, 2, 3, 2, 0,\n",
              "       0, 2, 2, 2, 1, 7, 1, 4, 8, 2, 0, 5, 0, 0, 0, 1, 3, 3, 4, 8, 8, 4,\n",
              "       2, 0, 0, 8, 0, 1, 2, 0, 2, 2, 5, 3, 0, 0, 0, 3, 4, 9, 3, 2, 0, 2,\n",
              "       5, 0, 2, 3, 0, 6, 8, 3, 9, 4, 0, 4, 0, 2, 4, 4, 2, 0, 2, 4, 8, 4,\n",
              "       0, 0, 3, 9, 0, 0, 8, 3, 3, 2, 0, 2, 6, 0, 1, 8, 0, 2, 2, 0, 2, 2,\n",
              "       8, 2, 8, 6, 4, 6, 0, 2, 2, 8, 0, 6, 3, 8, 0, 3, 2, 8, 8, 4, 2, 8,\n",
              "       6, 4, 3, 2, 4, 0, 7, 4, 4, 0, 0, 2, 0, 2, 4, 0, 2, 9, 0, 4, 0, 2,\n",
              "       3, 2, 0, 8, 3, 0, 8, 4, 4, 0, 0, 6, 0, 2, 4, 4, 0, 1, 6, 3, 2, 2,\n",
              "       0, 4, 4, 8, 0, 2, 2, 2, 9, 8, 2, 0, 0, 2, 6, 3, 0, 4, 1, 2, 0, 0,\n",
              "       2, 2, 8, 4, 0, 6, 2, 8, 2, 2, 2, 8, 8, 0, 8, 0, 4, 2, 2, 2, 5, 4,\n",
              "       0, 5, 2, 0, 4, 1, 3, 4, 4, 2, 0, 4, 3, 4, 0, 0, 0, 4, 0, 2, 3, 2,\n",
              "       0, 2, 2, 6, 2, 2, 8, 8, 2, 8, 4, 2, 8, 3, 5, 4, 6, 0, 2, 0, 0, 8,\n",
              "       0, 1, 0, 0, 8, 0, 7, 0, 8, 2, 2, 7, 3, 0, 6, 2, 2, 0, 2, 5, 0, 0,\n",
              "       3, 8, 0, 3, 0, 2, 2, 0, 4, 4, 3, 8, 8, 2, 6, 0, 3, 5, 8, 8, 6, 8,\n",
              "       8, 0, 2, 0, 2, 6, 3, 2, 7, 4, 0, 8, 6, 2, 4, 2, 4, 0, 0, 2, 4, 1,\n",
              "       5, 8, 2, 0, 8, 2, 8, 4, 0, 3, 4, 6, 4, 3, 2, 0, 2, 2, 4, 4, 4, 8,\n",
              "       2, 0, 4, 4, 4, 2, 0, 0, 8, 2, 3, 0, 0, 0, 2, 2, 4, 3, 8, 0, 4, 0,\n",
              "       2, 0, 2, 0, 4, 6, 4, 4, 4, 9, 0, 4, 0, 8, 8, 4, 8, 8, 2, 8, 8, 0,\n",
              "       3, 4, 5, 4, 8, 2, 0, 4, 5, 8, 2, 7, 0, 2, 4, 0, 1, 2, 0, 7, 3, 0,\n",
              "       6, 2, 3, 2, 8, 4, 5, 5, 3, 8, 4, 4, 3, 0, 0, 4, 4, 1, 2, 8, 8, 2,\n",
              "       0, 2, 0, 4, 0, 7, 8, 0, 0, 0, 2, 0, 1, 0, 1, 0, 2, 5, 4, 4, 4, 3,\n",
              "       5, 6, 0, 5, 8, 8, 1, 0, 5, 1, 2, 3, 4, 2, 0, 0, 8, 4, 0, 4, 3, 0,\n",
              "       0, 4, 3, 4, 0, 4, 5, 2, 0, 5, 3, 8, 4, 2, 0, 2, 1, 2, 6, 0, 2, 8,\n",
              "       3, 0, 3, 0, 5, 8, 2, 2, 2, 1], dtype=uint8)"
            ]
          },
          "metadata": {
            "tags": []
          },
          "execution_count": 435
        }
      ]
    },
    {
      "cell_type": "markdown",
      "metadata": {
        "id": "wadOvzK1aBNK",
        "colab_type": "text"
      },
      "source": [
        "# Calculating error rate"
      ]
    },
    {
      "cell_type": "code",
      "metadata": {
        "id": "lehRUJyBYuRL",
        "colab_type": "code",
        "colab": {}
      },
      "source": [
        "errors = 0\n",
        "# compares the two arrays and is looking for matches of the values? Right = true / Wrong = false\n",
        "error_rate_matrix = (test_labels_sample == knn_result)\n",
        "for b in error_rate_matrix:\n",
        "    if b == False:\n",
        "        errors += 1\n"
      ],
      "execution_count": 0,
      "outputs": []
    },
    {
      "cell_type": "code",
      "metadata": {
        "id": "EGTFoNlzYvyy",
        "colab_type": "code",
        "outputId": "ded9bdca-a17a-49fb-d5df-f7b9e3c5a5bd",
        "colab": {
          "base_uri": "https://localhost:8080/",
          "height": 52
        }
      },
      "source": [
        "np.unique(test_labels_sample, return_counts=True)"
      ],
      "execution_count": 437,
      "outputs": [
        {
          "output_type": "execute_result",
          "data": {
            "text/plain": [
              "(array([0, 1, 2, 3, 4, 5, 6, 7, 8, 9], dtype=uint8),\n",
              " array([ 93, 103, 108,  98, 114, 105,  88,  84, 110,  97]))"
            ]
          },
          "metadata": {
            "tags": []
          },
          "execution_count": 437
        }
      ]
    },
    {
      "cell_type": "code",
      "metadata": {
        "id": "VOYiTz9-Y0rq",
        "colab_type": "code",
        "outputId": "036a0d40-e4ea-4054-c0a8-807bc683afff",
        "colab": {
          "base_uri": "https://localhost:8080/",
          "height": 34
        }
      },
      "source": [
        "# Calculation of the error rate\n",
        "_rate = (errors / size_test_sample) * 100. \n",
        "print(\"Global error rate for k = \" +str(k)+\" \"+str(_rate) + \" %\")"
      ],
      "execution_count": 438,
      "outputs": [
        {
          "output_type": "stream",
          "text": [
            "Global error rate for k = 2 75.9 %\n"
          ],
          "name": "stdout"
        }
      ]
    },
    {
      "cell_type": "markdown",
      "metadata": {
        "id": "4LO8Q8BLZhgh",
        "colab_type": "text"
      },
      "source": [
        "Global error rate for k = 2 86.0 %\n",
        "\n",
        "\n",
        "Global error rate for k = 4 78.0 %\n",
        "\n",
        "\n",
        "Global error rate for k = 8 81.0 %"
      ]
    },
    {
      "cell_type": "markdown",
      "metadata": {
        "id": "2qLy2Z7hl3Hf",
        "colab_type": "text"
      },
      "source": [
        "# Get the individual errorrate"
      ]
    },
    {
      "cell_type": "code",
      "metadata": {
        "id": "6fzoj3_il5Q_",
        "colab_type": "code",
        "colab": {}
      },
      "source": [
        "indi_error ={0:0,1:0,2:0,3:0,4:0,5:0,6:0,7:0,8:0,9:0}\n",
        "total = {0:0,1:0,2:0,3:0,4:0,5:0,6:0,7:0,8:0,9:0}\n",
        "for i in range(len(test_labels_sample)):\n",
        "  if test_labels_sample[i]!= knn_result[i]:\n",
        "    # speicher das Bild falsch war\n",
        "    indi_error[test_labels_sample[i]] +=1\n",
        "    total[test_labels_sample[i]] +=1\n",
        "  else:\n",
        "    # speicher das Bild richtig war\n",
        "    total[test_labels_sample[i]] +=1"
      ],
      "execution_count": 0,
      "outputs": []
    },
    {
      "cell_type": "code",
      "metadata": {
        "id": "rMyz2IqemGf8",
        "colab_type": "code",
        "colab": {}
      },
      "source": [
        "errorrate = {}\n",
        "for j in range(0,10):\n",
        "  errorrate[j] = (indi_error[j]/total[j]) * 100\n",
        "  #print(errorrate[j])\n"
      ],
      "execution_count": 0,
      "outputs": []
    },
    {
      "cell_type": "code",
      "metadata": {
        "id": "m00Ct33FmMsb",
        "colab_type": "code",
        "outputId": "aa3bd404-fd26-439c-a81e-4fc49a874dd8",
        "colab": {
          "base_uri": "https://localhost:8080/",
          "height": 191
        }
      },
      "source": [
        "for i in range(len(errorrate)):\n",
        "  print(\"Error rate for \"+ str(class_names[i]) +\" is \"+ str(errorrate[i])+\"%\")"
      ],
      "execution_count": 441,
      "outputs": [
        {
          "output_type": "stream",
          "text": [
            "Error rate for airplane is 49.46236559139785%\n",
            "Error rate for automobile is 77.66990291262135%\n",
            "Error rate for bird is 67.5925925925926%\n",
            "Error rate for cat is 83.6734693877551%\n",
            "Error rate for deer is 71.9298245614035%\n",
            "Error rate for dog is 84.76190476190476%\n",
            "Error rate for frog is 88.63636363636364%\n",
            "Error rate for horse is 90.47619047619048%\n",
            "Error rate for ship is 57.27272727272727%\n",
            "Error rate for truck is 92.78350515463917%\n"
          ],
          "name": "stdout"
        }
      ]
    },
    {
      "cell_type": "markdown",
      "metadata": {
        "id": "82Ce-3zMmbHv",
        "colab_type": "text"
      },
      "source": [
        "**indiv error rate for k = 2:**\n",
        "\n",
        "* Error rate for airplane is 53.333333333333336%\n",
        "* Error rate for automobile is 100.0%\n",
        "* Error rate for bird is 100.0%\n",
        "* Error rate for cat is 88.88888888888889%\n",
        "* Error rate for deer is 92.85714285714286%\n",
        "* Error rate for dog is 58.333333333333336%\n",
        "* Error rate for frog is 84.61538461538461%\n",
        "* Error rate for horse is 100.0%\n",
        "* Error rate for ship is 91.66666666666666%\n",
        "* Error rate for truck is 100.0%"
      ]
    },
    {
      "cell_type": "markdown",
      "metadata": {
        "id": "JixjpEYsm4os",
        "colab_type": "text"
      },
      "source": [
        "**indiv error rate for k = 4**\n",
        "\n",
        "* Error rate for airplane is 40.0%\n",
        "* Error rate for automobile is 100.0%\n",
        "* Error rate for bird is 75.0%\n",
        "* Error rate for cat is 88.88888888888889%\n",
        "* Error rate for deer is 92.85714285714286%\n",
        "* Error rate for dog is 66.66666666666666% \n",
        "* Error rate for frog is 76.92307692307693% \n",
        "* Error rate for horse is 87.5%\n",
        "* Error rate for ship is 91.66666666666666%\n",
        "* Error rate for truck is 100.0%"
      ]
    },
    {
      "cell_type": "markdown",
      "metadata": {
        "id": "9hyP5oEqnItu",
        "colab_type": "text"
      },
      "source": [
        "**indiv error rate for k = 8**\n",
        "\n",
        "* Error rate for airplane is 53.333333333333336%\n",
        "* Error rate for automobile is 100.0%\n",
        "* Error rate for bird is 75.0%\n",
        "* Error rate for cat is 100.0%\n",
        "* Error rate for deer is 78.57142857142857%\n",
        "* Error rate for dog is 50.0%\n",
        "* Error rate for frog is 61.53846153846154%\n",
        "* Error rate for horse is 100.0%\n",
        "* Error rate for ship is 91.66666666666666%\n",
        "* Error rate for truck is 100.0%"
      ]
    },
    {
      "cell_type": "markdown",
      "metadata": {
        "id": "Zs6xUIDClLEU",
        "colab_type": "text"
      },
      "source": [
        "**Does knn work similarly good?**\n",
        "\n",
        "Knn works at CIFAR extremely inaccurate as you can see from the high error rates. With every test, the error rate is over 75%, while with MNIST, the error rate is a few percent.\n",
        "\n"
      ]
    },
    {
      "cell_type": "markdown",
      "metadata": {
        "id": "f6zgidiegGpC",
        "colab_type": "text"
      },
      "source": [
        "# Kmeans - Setting up k and calculating distances"
      ]
    },
    {
      "cell_type": "code",
      "metadata": {
        "id": "auW1ECznhqhW",
        "colab_type": "code",
        "colab": {}
      },
      "source": [
        "class_names = [\"airplane\", \"automobile\", \"bird\", \"cat\", \"deer\", \"dog\", \"frog\", \"horse\", \"ship\", \"truck\"]\n",
        "clusters = [\"Cluster 0\", \"Cluster 1\", \"Cluster 2\", \"Cluster 3\", \"Cluster 4\", \"Cluster 5\", \"Cluster 6\", \"Cluster 7\", \"Cluster 8\", \"Cluster 9\"]"
      ],
      "execution_count": 0,
      "outputs": []
    },
    {
      "cell_type": "code",
      "metadata": {
        "id": "qpcV9Sw0Y2kA",
        "colab_type": "code",
        "outputId": "3acb8cbe-e81a-4993-a158-d9dc42eb5f85",
        "colab": {
          "base_uri": "https://localhost:8080/",
          "height": 52
        }
      },
      "source": [
        "k = 10\n",
        "# init centroids\n",
        "idx_centroid = np.random.randint(size_image_sample, size=k)\n",
        "centroids = image_sample[idx_centroid]\n",
        "\n",
        "\n",
        "idx_centroid"
      ],
      "execution_count": 443,
      "outputs": [
        {
          "output_type": "execute_result",
          "data": {
            "text/plain": [
              "array([ 9147, 19476,  5068, 18406, 18449, 10036,  7264,   111, 19818,\n",
              "       19189])"
            ]
          },
          "metadata": {
            "tags": []
          },
          "execution_count": 443
        }
      ]
    },
    {
      "cell_type": "code",
      "metadata": {
        "id": "cZ20BXcqgO9W",
        "colab_type": "code",
        "outputId": "cdcb76b0-a7f9-4d4c-a9cd-76e9ed001bfd",
        "colab": {
          "base_uri": "https://localhost:8080/",
          "height": 34
        }
      },
      "source": [
        "# calculate distances\n",
        "dists = scipy.spatial.distance.cdist(image_sample, centroids, metric='euclid')\n",
        "dists.shape"
      ],
      "execution_count": 444,
      "outputs": [
        {
          "output_type": "execute_result",
          "data": {
            "text/plain": [
              "(20000, 10)"
            ]
          },
          "metadata": {
            "tags": []
          },
          "execution_count": 444
        }
      ]
    },
    {
      "cell_type": "code",
      "metadata": {
        "id": "fAiw10aEgpuI",
        "colab_type": "code",
        "outputId": "7eae0eed-09ad-4ba6-bfb4-48fc5b94cca0",
        "colab": {
          "base_uri": "https://localhost:8080/",
          "height": 34
        }
      },
      "source": [
        "#find nearest ones\n",
        "labels = np.argmin(dists, axis=1)\n",
        "labels"
      ],
      "execution_count": 445,
      "outputs": [
        {
          "output_type": "execute_result",
          "data": {
            "text/plain": [
              "array([8, 8, 8, ..., 4, 2, 7])"
            ]
          },
          "metadata": {
            "tags": []
          },
          "execution_count": 445
        }
      ]
    },
    {
      "cell_type": "code",
      "metadata": {
        "id": "pFf3WjTCgrcX",
        "colab_type": "code",
        "outputId": "7512b9f3-3cb2-4bdd-885a-f10f0ef5ed9d",
        "colab": {
          "base_uri": "https://localhost:8080/",
          "height": 34
        }
      },
      "source": [
        "np.unique(labels)"
      ],
      "execution_count": 446,
      "outputs": [
        {
          "output_type": "execute_result",
          "data": {
            "text/plain": [
              "array([0, 1, 2, 3, 4, 5, 6, 7, 8, 9])"
            ]
          },
          "metadata": {
            "tags": []
          },
          "execution_count": 446
        }
      ]
    },
    {
      "cell_type": "code",
      "metadata": {
        "id": "izG1phmjgtsj",
        "colab_type": "code",
        "colab": {}
      },
      "source": [
        "# get new centroids\n",
        "list = [image_sample[labels == i].mean(0) for i in range(k)]\n",
        "centroids = np.stack(list)"
      ],
      "execution_count": 0,
      "outputs": []
    },
    {
      "cell_type": "code",
      "metadata": {
        "id": "w0Rm6JKwgv_2",
        "colab_type": "code",
        "colab": {}
      },
      "source": [
        "# do the iteraions of kmean\n",
        "#iteration = 10\n",
        "iteration = 100\n",
        "#iteration = 1000\n",
        "for j in range(iteration):\n",
        "    \n",
        "    # calc distances\n",
        "    dists = scipy.spatial.distance.cdist(image_sample, centroids, metric = 'euclid')\n",
        "    \n",
        "    # label according to nearest centroids\n",
        "    centroid_labels = np.argmin(dists, axis = 1)\n",
        "    \n",
        "    # get new centroids\n",
        "    centroid_list = [image_sample[centroid_labels == i].mean(0) for i in range(k)]\n",
        "    centroids = np.stack(centroid_list)"
      ],
      "execution_count": 0,
      "outputs": []
    },
    {
      "cell_type": "code",
      "metadata": {
        "id": "ji-Q7IOsg6Tf",
        "colab_type": "code",
        "colab": {}
      },
      "source": [
        "# select all data in cluster_n\n",
        "cluster_0 = image_sample[labels == 0]\n",
        "cluster_1 = image_sample[labels == 1]\n",
        "cluster_2 = image_sample[labels == 2]\n",
        "cluster_3 = image_sample[labels == 3]\n",
        "cluster_4 = image_sample[labels == 4]\n",
        "cluster_5 = image_sample[labels == 5]\n",
        "cluster_6 = image_sample[labels == 6]\n",
        "cluster_7 = image_sample[labels == 7]\n",
        "cluster_8 = image_sample[labels == 8]\n",
        "cluster_9 = image_sample[labels == 9]\n",
        "\n"
      ],
      "execution_count": 0,
      "outputs": []
    },
    {
      "cell_type": "code",
      "metadata": {
        "id": "gIcgQOYDhfE9",
        "colab_type": "code",
        "colab": {}
      },
      "source": [
        "labels_cluster_0 = labels_sample[centroid_labels == 0]\n",
        "labels_cluster_1 = labels_sample[centroid_labels == 1]\n",
        "labels_cluster_2 = labels_sample[centroid_labels == 2]\n",
        "labels_cluster_3 = labels_sample[centroid_labels == 3]\n",
        "labels_cluster_4 = labels_sample[centroid_labels == 4]\n",
        "labels_cluster_5 = labels_sample[centroid_labels == 5]\n",
        "labels_cluster_6 = labels_sample[centroid_labels == 6]\n",
        "labels_cluster_7 = labels_sample[centroid_labels == 7]\n",
        "labels_cluster_8 = labels_sample[centroid_labels == 8]\n",
        "labels_cluster_9 = labels_sample[centroid_labels == 9]"
      ],
      "execution_count": 0,
      "outputs": []
    },
    {
      "cell_type": "code",
      "metadata": {
        "id": "xH4-yib1i2a8",
        "colab_type": "code",
        "outputId": "540c0464-06f2-44df-9b51-4ac6b9b94bec",
        "colab": {
          "base_uri": "https://localhost:8080/",
          "height": 191
        }
      },
      "source": [
        "print(\"Numbers in Cluster 0: \"+str(np.unique(labels_cluster_0)))\n",
        "print(\"Numbers in Cluster 1: \"+str(np.unique(labels_cluster_1)))\n",
        "print(\"Numbers in Cluster 2: \"+str(np.unique(labels_cluster_2)))\n",
        "print(\"Numbers in Cluster 3: \"+str(np.unique(labels_cluster_3)))\n",
        "print(\"Numbers in Cluster 4: \"+str(np.unique(labels_cluster_4)))\n",
        "print(\"Numbers in Cluster 5: \"+str(np.unique(labels_cluster_5)))\n",
        "print(\"Numbers in Cluster 6: \"+str(np.unique(labels_cluster_6)))\n",
        "print(\"Numbers in Cluster 7: \"+str(np.unique(labels_cluster_7)))\n",
        "print(\"Numbers in Cluster 8: \"+str(np.unique(labels_cluster_8)))\n",
        "print(\"Numbers in Cluster 9: \"+str(np.unique(labels_cluster_9)))"
      ],
      "execution_count": 455,
      "outputs": [
        {
          "output_type": "stream",
          "text": [
            "Numbers in Cluster 0: [0 1 2 3 4 5 6 7 8 9]\n",
            "Numbers in Cluster 1: [0 1 2 3 4 5 6 7 8 9]\n",
            "Numbers in Cluster 2: [0 1 2 3 4 5 6 7 8 9]\n",
            "Numbers in Cluster 3: [0 1 2 3 4 5 6 7 8 9]\n",
            "Numbers in Cluster 4: [0 1 2 3 4 5 6 7 8 9]\n",
            "Numbers in Cluster 5: [0 1 2 3 4 5 6 7 8 9]\n",
            "Numbers in Cluster 6: [0 1 2 3 4 5 6 7 8 9]\n",
            "Numbers in Cluster 7: [0 1 2 3 4 5 6 7 8 9]\n",
            "Numbers in Cluster 8: [0 1 2 3 4 5 6 7 8 9]\n",
            "Numbers in Cluster 9: [0 1 2 3 4 5 6 7 8 9]\n"
          ],
          "name": "stdout"
        }
      ]
    },
    {
      "cell_type": "code",
      "metadata": {
        "id": "t1ymhfvTjC0T",
        "colab_type": "code",
        "colab": {}
      },
      "source": [
        "def percentagecalculator(labels_cluster, class_names, c):\n",
        "    cluster = stats.mode(labels_cluster)\n",
        "    labels, count = np.unique(labels_cluster, return_counts=True)\n",
        "    highest_idx = 0\n",
        "    for i in range(len(labels)):\n",
        "      if count[i] > count[highest_idx]:\n",
        "        highest_idx = i\n",
        "    per = float(cluster[1]) / float(labels_cluster.shape[0]) * 100\n",
        "    print(\"Cluster \" + str(c) + \" contains \" + str(round(per, 2)) + \" %  \" + str(labels[highest_idx]))"
      ],
      "execution_count": 0,
      "outputs": []
    },
    {
      "cell_type": "code",
      "metadata": {
        "id": "XyU5lCpUjE87",
        "colab_type": "code",
        "outputId": "f35ada80-1ba7-413f-d75e-c0d9834bc2bd",
        "colab": {
          "base_uri": "https://localhost:8080/",
          "height": 191
        }
      },
      "source": [
        "percentagecalculator(labels_cluster_0, class_names, 0)\n",
        "percentagecalculator(labels_cluster_1, class_names, 1)\n",
        "percentagecalculator(labels_cluster_2, class_names, 2)\n",
        "percentagecalculator(labels_cluster_3, class_names, 3)\n",
        "percentagecalculator(labels_cluster_4, class_names, 4)\n",
        "percentagecalculator(labels_cluster_5, class_names, 5)\n",
        "percentagecalculator(labels_cluster_6, class_names, 6)\n",
        "percentagecalculator(labels_cluster_7, class_names, 7)\n",
        "percentagecalculator(labels_cluster_8, class_names, 8)\n",
        "percentagecalculator(labels_cluster_9, class_names, 9)"
      ],
      "execution_count": 457,
      "outputs": [
        {
          "output_type": "stream",
          "text": [
            "Cluster 0 contains 19.09 %  4\n",
            "Cluster 1 contains 17.09 %  7\n",
            "Cluster 2 contains 16.32 %  1\n",
            "Cluster 3 contains 19.83 %  6\n",
            "Cluster 4 contains 28.11 %  0\n",
            "Cluster 5 contains 30.26 %  8\n",
            "Cluster 6 contains 30.57 %  9\n",
            "Cluster 7 contains 19.14 %  7\n",
            "Cluster 8 contains 14.94 %  2\n",
            "Cluster 9 contains 22.0 %  5\n"
          ],
          "name": "stdout"
        }
      ]
    },
    {
      "cell_type": "code",
      "metadata": {
        "id": "RCpln0GDHZUp",
        "colab_type": "code",
        "outputId": "f5c3277f-cd6d-47eb-e3f6-e89ce1fac665",
        "colab": {
          "base_uri": "https://localhost:8080/",
          "height": 191
        }
      },
      "source": [
        "[\"0airplane\", \"1automobile\", \"2bird\", \"3cat\", \"4deer\", \"5dog\", \"6frog\", \"7horse\", \"8ship\", \"9truck\"]"
      ],
      "execution_count": 0,
      "outputs": [
        {
          "output_type": "execute_result",
          "data": {
            "text/plain": [
              "['0airplane',\n",
              " '1automobile',\n",
              " '2bird',\n",
              " '3cat',\n",
              " '4deer',\n",
              " '5dog',\n",
              " '6frog',\n",
              " '7horse',\n",
              " '8ship',\n",
              " '9truck']"
            ]
          },
          "metadata": {
            "tags": []
          },
          "execution_count": 375
        }
      ]
    },
    {
      "cell_type": "markdown",
      "metadata": {
        "id": "srXitGDlkuWj",
        "colab_type": "text"
      },
      "source": [
        "**K-means for 10 iterations**\n",
        "* Cluster 0 contains 33.53 %  8\n",
        "* Cluster 1 contains 33.27 %  0\n",
        "* Cluster 2 contains 28.5 %  9\n",
        "* Cluster 3 contains 15.27 %  2\n",
        "* Cluster 4 contains 17.51 %  7\n",
        "* Cluster 5 contains 18.79 %  4\n",
        "* Cluster 6 contains 14.2 %  5\n",
        "* Cluster 7 contains 19.01 %  6\n",
        "* Cluster 8 contains 17.25 %  5\n",
        "* Cluster 9 contains 17.37 %  1"
      ]
    },
    {
      "cell_type": "markdown",
      "metadata": {
        "id": "1j1FNCUvOucj",
        "colab_type": "text"
      },
      "source": [
        "**bold text**"
      ]
    },
    {
      "cell_type": "markdown",
      "metadata": {
        "id": "-aPI7O3Ok6zy",
        "colab_type": "text"
      },
      "source": [
        "**K-means for 100 iterations**\n",
        "\n",
        "* Cluster 0 contains 32.97 %  8\n",
        "* Cluster 1 contains 32.46 %  0\n",
        "* Cluster 2 contains 30.45 %  9\n",
        "* Cluster 3 contains 15.34 %  2\n",
        "* Cluster 4 contains 18.81 %  7\n",
        "* Cluster 5 contains 19.61 %  4\n",
        "* Cluster 6 contains 15.34 %  5\n",
        "* Cluster 7 contains 19.85 %  6\n",
        "* Cluster 8 contains 19.54 %  5\n",
        "* Cluster 9 contains 14.77 %  6"
      ]
    },
    {
      "cell_type": "markdown",
      "metadata": {
        "id": "Iip9sGzakLBi",
        "colab_type": "text"
      },
      "source": [
        "**K-means for 1000 iterations**\n",
        "\n",
        "* Cluster 0 contains 32.97 %  8\n",
        "* Cluster 1 contains 32.46 %  0\n",
        "* Cluster 2 contains 30.45 %  9\n",
        "* Cluster 3 contains 15.34 %  2\n",
        "* Cluster 4 contains 18.81 %  7\n",
        "* Cluster 5 contains 19.61 %  4\n",
        "* Cluster 6 contains 15.34 %  5\n",
        "* Cluster 7 contains 19.85 %  6\n",
        "* Cluster 8 contains 19.54 %  5\n",
        "* Cluster 9 contains 14.77 %  6"
      ]
    },
    {
      "cell_type": "markdown",
      "metadata": {
        "id": "XUofRzK6Se81",
        "colab_type": "text"
      },
      "source": [
        "**Does k-means work similarly good?**\n",
        "\n"
      ]
    },
    {
      "cell_type": "code",
      "metadata": {
        "id": "P4-qjRZBR_1R",
        "colab_type": "code",
        "colab": {}
      },
      "source": [
        ""
      ],
      "execution_count": 0,
      "outputs": []
    }
  ]
}
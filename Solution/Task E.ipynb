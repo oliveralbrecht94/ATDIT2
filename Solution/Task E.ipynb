{
  "nbformat": 4,
  "nbformat_minor": 0,
  "metadata": {
    "colab": {
      "name": "Untitled9.ipynb",
      "provenance": [],
      "collapsed_sections": [],
      "include_colab_link": true
    },
    "kernelspec": {
      "name": "python3",
      "display_name": "Python 3"
    }
  },
  "cells": [
    {
      "cell_type": "markdown",
      "metadata": {
        "id": "view-in-github",
        "colab_type": "text"
      },
      "source": [
        "<a href=\"https://colab.research.google.com/github/oliveralbrecht94/ATDIT2/blob/master/Solution/Task%20E.ipynb\" target=\"_parent\"><img src=\"https://colab.research.google.com/assets/colab-badge.svg\" alt=\"Open In Colab\"/></a>"
      ]
    },
    {
      "cell_type": "code",
      "metadata": {
        "id": "qTOsvRpESgMC",
        "colab_type": "code",
        "outputId": "b500202c-9e36-437e-ad1b-9d9a7af4b23c",
        "colab": {
          "base_uri": "https://localhost:8080/",
          "height": 34
        }
      },
      "source": [
        "import tensorflow as tf\n",
        "import numpy as np\n",
        "import skimage as ski\n",
        "import matplotlib.pyplot as plt\n",
        "from scipy import stats\n",
        "import scipy.spatial.distance\n",
        "\n",
        "plt.set_cmap(None)\n",
        "plt.gray()"
      ],
      "execution_count": 2,
      "outputs": [
        {
          "output_type": "display_data",
          "data": {
            "text/plain": [
              "<Figure size 432x288 with 0 Axes>"
            ]
          },
          "metadata": {
            "tags": []
          }
        }
      ]
    },
    {
      "cell_type": "code",
      "metadata": {
        "id": "blVUuilsTL2V",
        "colab_type": "code",
        "colab": {
          "base_uri": "https://localhost:8080/",
          "height": 52
        },
        "outputId": "910de807-e2d8-4198-cc1d-5856b191cf54"
      },
      "source": [
        "cifar_train = tf.keras.datasets.cifar10.load_data()[0]\n",
        "train_images, train_labels = cifar_train[0], cifar_train[1]"
      ],
      "execution_count": 3,
      "outputs": [
        {
          "output_type": "stream",
          "text": [
            "Downloading data from https://www.cs.toronto.edu/~kriz/cifar-10-python.tar.gz\n",
            "170500096/170498071 [==============================] - 6s 0us/step\n"
          ],
          "name": "stdout"
        }
      ]
    },
    {
      "cell_type": "code",
      "metadata": {
        "id": "flV2cQYxTO4R",
        "colab_type": "code",
        "colab": {}
      },
      "source": [
        "cifar_test = tf.keras.datasets.cifar10.load_data()[1]\n",
        "test_images, test_labels = cifar_test[0], cifar_test[1]"
      ],
      "execution_count": 0,
      "outputs": []
    },
    {
      "cell_type": "code",
      "metadata": {
        "id": "54THvSMATRng",
        "colab_type": "code",
        "colab": {}
      },
      "source": [
        "train_labels_list = []\n",
        "for i in range(train_labels.shape[0]):\n",
        "    train_labels_list.append(train_labels[i][0])"
      ],
      "execution_count": 0,
      "outputs": []
    },
    {
      "cell_type": "code",
      "metadata": {
        "id": "zc5ltX6hTQxy",
        "colab_type": "code",
        "colab": {}
      },
      "source": [
        "def rgb2gray(rgb):\n",
        "    return np.dot(rgb[...,:3], [0.299, 0.587, 0.114])"
      ],
      "execution_count": 0,
      "outputs": []
    },
    {
      "cell_type": "code",
      "metadata": {
        "id": "y-iQEvRHTSxa",
        "colab_type": "code",
        "colab": {}
      },
      "source": [
        "y_train = train_labels\n",
        "y_test = test_labels"
      ],
      "execution_count": 0,
      "outputs": []
    },
    {
      "cell_type": "markdown",
      "metadata": {
        "id": "1eNbbXQqUFSI",
        "colab_type": "text"
      },
      "source": [
        "# Images into grey"
      ]
    },
    {
      "cell_type": "code",
      "metadata": {
        "id": "CZp00U_sTUny",
        "colab_type": "code",
        "colab": {}
      },
      "source": [
        "x_train_gray = []\n",
        "\n",
        "for i in range(train_images.shape[0]):\n",
        "    x_train_gray.append(rgb2gray(train_images[i]))\n",
        "    \n",
        "x_train_gray = np.array(x_train_gray)"
      ],
      "execution_count": 0,
      "outputs": []
    },
    {
      "cell_type": "code",
      "metadata": {
        "id": "z5cM_8zUTVzf",
        "colab_type": "code",
        "colab": {}
      },
      "source": [
        "x_test_gray = []\n",
        "\n",
        "for i in range(test_images.shape[0]):\n",
        "    x_test_gray.append(rgb2gray(test_images[i]))\n",
        "    \n",
        "x_test_gray = np.array(x_test_gray)"
      ],
      "execution_count": 0,
      "outputs": []
    },
    {
      "cell_type": "code",
      "metadata": {
        "id": "xqFiVgiRW2Mf",
        "colab_type": "code",
        "outputId": "a2ddeaec-90da-4146-f1ee-6dbe4dbda589",
        "colab": {
          "base_uri": "https://localhost:8080/",
          "height": 34
        }
      },
      "source": [
        "train_images.shape"
      ],
      "execution_count": 10,
      "outputs": [
        {
          "output_type": "execute_result",
          "data": {
            "text/plain": [
              "(50000, 32, 32, 3)"
            ]
          },
          "metadata": {
            "tags": []
          },
          "execution_count": 10
        }
      ]
    },
    {
      "cell_type": "code",
      "metadata": {
        "id": "so7wrRNN2adO",
        "colab_type": "code",
        "colab": {}
      },
      "source": [
        ""
      ],
      "execution_count": 0,
      "outputs": []
    },
    {
      "cell_type": "markdown",
      "metadata": {
        "id": "weOjPcM0Va7x",
        "colab_type": "text"
      },
      "source": [
        "# Preparing Dataset"
      ]
    },
    {
      "cell_type": "code",
      "metadata": {
        "id": "i-ZgBh5BTW9P",
        "colab_type": "code",
        "outputId": "35b7e7af-ba96-4a49-a288-cfb35fbb73ea",
        "colab": {
          "base_uri": "https://localhost:8080/",
          "height": 34
        }
      },
      "source": [
        "class_names = [\"airplane\", \"automobile\", \"bird\", \"cat\", \"deer\", \"dog\", \"frog\", \"horse\", \"ship\", \"truck\"]\n",
        "n_train = train_images.shape[0]\n",
        "n_test = test_images.shape[0]\n",
        "m = train_images.shape[1]**2\n",
        "\n",
        "\n",
        "# Transform to 1D vector from each matrix with the pixels of an image in order to calculate distances.\n",
        "gray_image = x_train_gray.reshape([n_train, m])\n",
        "gray_test_image = x_test_gray.reshape([n_test, m])\n",
        "gray_image.shape"
      ],
      "execution_count": 25,
      "outputs": [
        {
          "output_type": "execute_result",
          "data": {
            "text/plain": [
              "(50000, 1024)"
            ]
          },
          "metadata": {
            "tags": []
          },
          "execution_count": 25
        }
      ]
    },
    {
      "cell_type": "code",
      "metadata": {
        "id": "NdzwSZufTwjy",
        "colab_type": "code",
        "outputId": "9512ade7-0a2b-45b5-f431-27ab567eb0dd",
        "colab": {
          "base_uri": "https://localhost:8080/",
          "height": 34
        }
      },
      "source": [
        "size_image_sample = 20000\n",
        "index = np.random.randint(n_train, size = size_image_sample) \n",
        "image_sample = gray_image[index]\n",
        "labels_sample = train_labels[index]\n",
        "image_sample.shape"
      ],
      "execution_count": 26,
      "outputs": [
        {
          "output_type": "execute_result",
          "data": {
            "text/plain": [
              "(20000, 1024)"
            ]
          },
          "metadata": {
            "tags": []
          },
          "execution_count": 26
        }
      ]
    },
    {
      "cell_type": "code",
      "metadata": {
        "id": "XPONex_qUnG-",
        "colab_type": "code",
        "colab": {}
      },
      "source": [
        "size_test_sample = 1000\n",
        "index = np.random.randint(n_test, size = size_test_sample)\n",
        "test_image_sample = gray_test_image[index]\n",
        "test_labels_sample = test_labels[index]"
      ],
      "execution_count": 0,
      "outputs": []
    },
    {
      "cell_type": "code",
      "metadata": {
        "id": "cVNncn6VUzjl",
        "colab_type": "code",
        "colab": {}
      },
      "source": [
        "labels_sample = labels_sample.reshape([size_image_sample])\n",
        "test_labels_sample = test_labels_sample.reshape([size_test_sample])"
      ],
      "execution_count": 0,
      "outputs": []
    },
    {
      "cell_type": "markdown",
      "metadata": {
        "id": "-CBKvMqzZ8Lt",
        "colab_type": "text"
      },
      "source": [
        "# KNN - Setting up K and calculate distances"
      ]
    },
    {
      "cell_type": "code",
      "metadata": {
        "id": "6FbtbKcXTYHS",
        "colab_type": "code",
        "colab": {}
      },
      "source": [
        "# setting up the k value \n",
        "#k = 2 \n",
        "#k = 4\n",
        "k = 8 \n",
        "# calculating the distance between each vector in dependency of k and save it in an arra\n",
        "distances = scipy.spatial.distance.cdist(image_sample, test_image_sample, metric='euclid')\n",
        "# calculates the next k points around the vector\n",
        "index_nearest = np.argpartition(distances, k, axis = 0)[:k] "
      ],
      "execution_count": 0,
      "outputs": []
    },
    {
      "cell_type": "code",
      "metadata": {
        "id": "iQxhX2IfUb5o",
        "colab_type": "code",
        "outputId": "84315afe-0d0f-479b-deaf-8625560437fd",
        "colab": {
          "base_uri": "https://localhost:8080/",
          "height": 139
        }
      },
      "source": [
        "# saves the neighbors of the vector in dependency of k\n",
        "knn_neighbors = labels_sample[index_nearest] \n",
        "# show the neighbors\n",
        "print(knn_neighbors)"
      ],
      "execution_count": 48,
      "outputs": [
        {
          "output_type": "stream",
          "text": [
            "[[6 3 2 ... 8 2 5]\n",
            " [2 9 2 ... 4 9 4]\n",
            " [8 9 2 ... 7 9 6]\n",
            " ...\n",
            " [4 9 0 ... 4 2 4]\n",
            " [4 9 0 ... 0 8 3]\n",
            " [6 3 2 ... 0 8 4]]\n"
          ],
          "name": "stdout"
        }
      ]
    },
    {
      "cell_type": "code",
      "metadata": {
        "id": "cBQ34j6SX5ed",
        "colab_type": "code",
        "outputId": "c4300867-354a-425d-8329-3a4345589458",
        "colab": {
          "base_uri": "https://localhost:8080/",
          "height": 820
        }
      },
      "source": [
        "# is looking for the most frequent value in the array/vector\n",
        "knn_result = stats.mode(knn_neighbors)[0]\n",
        "knn_result = knn_result[0]\n",
        "# shows the most frequent value\n",
        "knn_result"
      ],
      "execution_count": 49,
      "outputs": [
        {
          "output_type": "execute_result",
          "data": {
            "text/plain": [
              "array([6, 9, 2, 2, 0, 4, 5, 4, 2, 7, 0, 4, 0, 8, 6, 1, 8, 1, 2, 6, 3, 0,\n",
              "       3, 0, 8, 2, 8, 5, 2, 4, 4, 1, 8, 5, 2, 4, 4, 0, 2, 2, 8, 2, 4, 6,\n",
              "       5, 8, 0, 0, 8, 0, 8, 2, 8, 6, 6, 0, 4, 8, 4, 8, 4, 6, 4, 3, 0, 4,\n",
              "       3, 5, 2, 5, 6, 1, 3, 3, 7, 3, 8, 2, 0, 2, 1, 0, 8, 8, 1, 8, 0, 4,\n",
              "       9, 8, 4, 4, 8, 4, 0, 4, 6, 4, 4, 8, 4, 4, 7, 2, 4, 4, 0, 4, 0, 8,\n",
              "       4, 8, 8, 8, 4, 7, 2, 8, 4, 8, 0, 8, 6, 2, 4, 4, 2, 8, 9, 4, 6, 2,\n",
              "       1, 3, 8, 4, 4, 2, 1, 8, 4, 2, 2, 2, 2, 8, 1, 2, 4, 6, 4, 3, 8, 8,\n",
              "       9, 8, 0, 2, 2, 8, 4, 0, 7, 2, 4, 4, 3, 4, 3, 0, 6, 2, 2, 0, 1, 3,\n",
              "       0, 3, 4, 8, 4, 2, 0, 5, 6, 0, 8, 4, 2, 3, 2, 3, 2, 0, 4, 8, 8, 8,\n",
              "       2, 4, 0, 4, 4, 6, 0, 0, 3, 0, 4, 0, 0, 3, 4, 3, 4, 4, 3, 7, 8, 4,\n",
              "       4, 5, 0, 6, 3, 3, 4, 0, 2, 2, 2, 2, 4, 0, 8, 2, 0, 9, 8, 8, 3, 2,\n",
              "       6, 0, 4, 8, 0, 4, 4, 2, 2, 6, 6, 8, 8, 2, 6, 4, 8, 2, 1, 8, 0, 2,\n",
              "       4, 4, 4, 0, 9, 2, 6, 4, 2, 4, 8, 2, 8, 0, 4, 0, 8, 2, 4, 4, 2, 5,\n",
              "       0, 2, 4, 6, 2, 8, 4, 2, 8, 8, 0, 4, 7, 2, 0, 4, 2, 6, 8, 5, 4, 0,\n",
              "       9, 0, 6, 8, 8, 0, 4, 7, 0, 8, 7, 8, 8, 3, 1, 7, 7, 2, 8, 4, 8, 3,\n",
              "       2, 8, 4, 8, 7, 0, 0, 8, 4, 2, 0, 4, 0, 2, 4, 6, 3, 9, 5, 5, 8, 2,\n",
              "       4, 2, 4, 2, 4, 5, 0, 4, 4, 8, 6, 4, 5, 2, 8, 8, 5, 4, 8, 4, 4, 2,\n",
              "       3, 0, 2, 2, 4, 8, 8, 6, 0, 8, 4, 1, 2, 8, 4, 1, 4, 4, 4, 6, 0, 4,\n",
              "       8, 7, 8, 8, 4, 8, 8, 6, 3, 0, 8, 3, 8, 5, 4, 8, 6, 3, 0, 4, 2, 2,\n",
              "       2, 1, 6, 7, 2, 3, 0, 4, 8, 3, 2, 4, 4, 4, 3, 4, 2, 8, 4, 2, 0, 2,\n",
              "       6, 5, 4, 4, 1, 1, 2, 4, 8, 4, 4, 0, 0, 8, 2, 4, 6, 6, 6, 2, 4, 3,\n",
              "       8, 0, 4, 3, 0, 4, 5, 4, 2, 0, 4, 8, 2, 0, 8, 8, 0, 8, 4, 8, 2, 7,\n",
              "       8, 4, 8, 2, 4, 0, 8, 2, 6, 4, 6, 2, 4, 4, 2, 5, 4, 6, 2, 0, 0, 3,\n",
              "       8, 8, 3, 8, 0, 2, 5, 4, 2, 2, 4, 5, 8, 4, 8, 6, 4, 9, 2, 8, 2, 4,\n",
              "       4, 8, 4, 4, 0, 0, 0, 3, 0, 4, 0, 8, 4, 4, 4, 2, 3, 2, 3, 2, 4, 4,\n",
              "       8, 8, 2, 6, 8, 8, 8, 8, 4, 4, 2, 3, 4, 1, 1, 2, 2, 2, 8, 3, 4, 4,\n",
              "       5, 2, 4, 8, 6, 2, 0, 8, 0, 0, 0, 0, 2, 2, 3, 2, 8, 8, 4, 2, 8, 1,\n",
              "       7, 0, 8, 8, 0, 0, 8, 2, 6, 3, 4, 0, 8, 4, 8, 8, 4, 2, 1, 0, 8, 4,\n",
              "       6, 2, 8, 2, 8, 2, 2, 0, 7, 2, 2, 2, 0, 3, 3, 4, 3, 7, 8, 4, 7, 4,\n",
              "       0, 8, 2, 2, 2, 4, 0, 4, 2, 0, 3, 4, 2, 4, 2, 1, 0, 4, 0, 3, 8, 2,\n",
              "       4, 3, 0, 0, 1, 1, 2, 2, 0, 3, 6, 4, 0, 2, 0, 2, 5, 8, 2, 8, 7, 4,\n",
              "       2, 2, 3, 8, 2, 2, 0, 2, 2, 8, 0, 4, 2, 6, 5, 4, 0, 0, 2, 4, 2, 8,\n",
              "       0, 6, 2, 0, 4, 8, 0, 0, 8, 4, 0, 6, 7, 8, 2, 3, 4, 4, 8, 4, 6, 8,\n",
              "       2, 8, 0, 4, 8, 0, 2, 4, 8, 2, 4, 8, 4, 0, 7, 8, 4, 2, 4, 0, 2, 2,\n",
              "       5, 2, 0, 5, 4, 0, 2, 2, 4, 0, 5, 2, 4, 2, 2, 5, 4, 5, 6, 8, 4, 4,\n",
              "       4, 2, 0, 3, 0, 4, 3, 8, 8, 0, 8, 4, 0, 8, 4, 2, 6, 6, 8, 4, 2, 8,\n",
              "       1, 2, 8, 4, 2, 4, 3, 9, 0, 6, 8, 5, 6, 4, 9, 8, 2, 4, 4, 8, 8, 4,\n",
              "       2, 0, 4, 2, 8, 5, 2, 3, 3, 2, 8, 2, 5, 4, 8, 4, 4, 8, 3, 2, 4, 0,\n",
              "       8, 0, 2, 3, 4, 8, 4, 5, 0, 8, 6, 4, 0, 1, 0, 0, 0, 4, 6, 9, 4, 8,\n",
              "       0, 8, 6, 4, 0, 2, 5, 8, 3, 1, 2, 4, 4, 4, 5, 1, 8, 6, 4, 6, 2, 2,\n",
              "       0, 9, 4, 2, 0, 3, 2, 8, 0, 9, 2, 8, 4, 4, 0, 5, 2, 0, 4, 2, 0, 2,\n",
              "       8, 0, 8, 2, 0, 8, 1, 0, 8, 8, 4, 9, 4, 2, 8, 0, 4, 0, 3, 5, 1, 9,\n",
              "       8, 4, 8, 8, 8, 6, 2, 2, 8, 4, 2, 4, 7, 8, 5, 8, 0, 9, 8, 4, 4, 0,\n",
              "       2, 4, 8, 5, 0, 4, 4, 8, 0, 4, 0, 4, 9, 6, 2, 3, 6, 1, 6, 4, 8, 3,\n",
              "       4, 6, 0, 4, 4, 1, 0, 8, 2, 8, 2, 0, 4, 3, 0, 9, 0, 5, 0, 8, 4, 0,\n",
              "       8, 8, 4, 8, 4, 1, 4, 4, 8, 4], dtype=uint8)"
            ]
          },
          "metadata": {
            "tags": []
          },
          "execution_count": 49
        }
      ]
    },
    {
      "cell_type": "markdown",
      "metadata": {
        "id": "wadOvzK1aBNK",
        "colab_type": "text"
      },
      "source": [
        "# Calculating error rate"
      ]
    },
    {
      "cell_type": "code",
      "metadata": {
        "id": "lehRUJyBYuRL",
        "colab_type": "code",
        "colab": {}
      },
      "source": [
        "errors = 0\n",
        "# compares the two arrays and is looking for matches of the values? Right = true / Wrong = false\n",
        "error_rate_matrix = (test_labels_sample == knn_result)\n",
        "for b in error_rate_matrix:\n",
        "    if b == False:\n",
        "        errors += 1\n"
      ],
      "execution_count": 0,
      "outputs": []
    },
    {
      "cell_type": "code",
      "metadata": {
        "id": "EGTFoNlzYvyy",
        "colab_type": "code",
        "outputId": "c9452a7f-d1ff-40a7-c598-ce2d9d9aa15a",
        "colab": {
          "base_uri": "https://localhost:8080/",
          "height": 52
        }
      },
      "source": [
        "np.unique(test_labels_sample, return_counts=True)"
      ],
      "execution_count": 51,
      "outputs": [
        {
          "output_type": "execute_result",
          "data": {
            "text/plain": [
              "(array([0, 1, 2, 3, 4, 5, 6, 7, 8, 9], dtype=uint8),\n",
              " array([ 98,  98,  93,  97, 109,  90,  99, 107, 105, 104]))"
            ]
          },
          "metadata": {
            "tags": []
          },
          "execution_count": 51
        }
      ]
    },
    {
      "cell_type": "code",
      "metadata": {
        "id": "VOYiTz9-Y0rq",
        "colab_type": "code",
        "outputId": "3ea8b543-4086-4bcb-a4bc-62bff4385f8e",
        "colab": {
          "base_uri": "https://localhost:8080/",
          "height": 34
        }
      },
      "source": [
        "# Calculation of the error rate\n",
        "_rate = (errors / size_test_sample) * 100. \n",
        "print(\"Global error rate for k = \" +str(k)+\" \"+str(_rate) + \" %\")"
      ],
      "execution_count": 52,
      "outputs": [
        {
          "output_type": "stream",
          "text": [
            "Global error rate for k = 8 74.2 %\n"
          ],
          "name": "stdout"
        }
      ]
    },
    {
      "cell_type": "markdown",
      "metadata": {
        "id": "4LO8Q8BLZhgh",
        "colab_type": "text"
      },
      "source": [
        "Global error rate for k = 2 86.0 %\n",
        "\n",
        "\n",
        "Global error rate for k = 4 78.0 %\n",
        "\n",
        "\n",
        "Global error rate for k = 8 81.0 %"
      ]
    },
    {
      "cell_type": "markdown",
      "metadata": {
        "id": "2qLy2Z7hl3Hf",
        "colab_type": "text"
      },
      "source": [
        "# Get the individual errorrate"
      ]
    },
    {
      "cell_type": "code",
      "metadata": {
        "id": "6fzoj3_il5Q_",
        "colab_type": "code",
        "colab": {}
      },
      "source": [
        "indi_error ={0:0,1:0,2:0,3:0,4:0,5:0,6:0,7:0,8:0,9:0}\n",
        "total = {0:0,1:0,2:0,3:0,4:0,5:0,6:0,7:0,8:0,9:0}\n",
        "for i in range(len(test_labels_sample)):\n",
        "  if test_labels_sample[i]!= knn_result[i]:\n",
        "    # saves the fact, that the picture was wrong\n",
        "    indi_error[test_labels_sample[i]] +=1\n",
        "    total[test_labels_sample[i]] +=1\n",
        "  else:\n",
        "      # saves the fact, that the picture was right\n",
        "    total[test_labels_sample[i]] +=1"
      ],
      "execution_count": 0,
      "outputs": []
    },
    {
      "cell_type": "code",
      "metadata": {
        "id": "rMyz2IqemGf8",
        "colab_type": "code",
        "colab": {}
      },
      "source": [
        "errorrate = {}\n",
        "for j in range(0,10):\n",
        "  errorrate[j] = (indi_error[j]/total[j]) * 100\n",
        "  #print(errorrate[j])\n"
      ],
      "execution_count": 0,
      "outputs": []
    },
    {
      "cell_type": "code",
      "metadata": {
        "id": "m00Ct33FmMsb",
        "colab_type": "code",
        "outputId": "4ada662f-4351-49ef-c914-f37f929cfa83",
        "colab": {
          "base_uri": "https://localhost:8080/",
          "height": 191
        }
      },
      "source": [
        "for i in range(len(errorrate)):\n",
        "  print(\"Error rate for \"+ str(class_names[i]) +\" is \"+ str(errorrate[i])+\"%\")"
      ],
      "execution_count": 55,
      "outputs": [
        {
          "output_type": "stream",
          "text": [
            "Error rate for airplane is 72.44897959183673%\n",
            "Error rate for automobile is 77.55102040816327%\n",
            "Error rate for bird is 64.51612903225806%\n",
            "Error rate for cat is 84.5360824742268%\n",
            "Error rate for deer is 55.04587155963303%\n",
            "Error rate for dog is 81.11111111111111%\n",
            "Error rate for frog is 82.82828282828282%\n",
            "Error rate for horse is 89.7196261682243%\n",
            "Error rate for ship is 47.61904761904761%\n",
            "Error rate for truck is 88.46153846153845%\n"
          ],
          "name": "stdout"
        }
      ]
    },
    {
      "cell_type": "markdown",
      "metadata": {
        "id": "82Ce-3zMmbHv",
        "colab_type": "text"
      },
      "source": [
        "**indiv error rate for k = 2:**\n",
        "\n",
        "* Error rate for airplane is 58.16326530612245%\n",
        "* Error rate for automobile is 77.55102040816327%\n",
        "* Error rate for bird is 63.44086021505376%\n",
        "* Error rate for cat is 76.28865979381443%\n",
        "* Error rate for deer is 68.80733944954129%\n",
        "* Error rate for dog is 87.77777777777777%\n",
        "* Error rate for frog is 91.91919191919192%\n",
        "* Error rate for horse is 91.58878504672897%\n",
        "* Error rate for ship is 65.71428571428571%\n",
        "* Error rate for truck is 94.23076923076923%"
      ]
    },
    {
      "cell_type": "markdown",
      "metadata": {
        "id": "JixjpEYsm4os",
        "colab_type": "text"
      },
      "source": [
        "**indiv error rate for k = 4**\n",
        "\n",
        "* Error rate for airplane is 64.28571428571429%\n",
        "* Error rate for automobile is 81.63265306122449%\n",
        "* Error rate for bird is 64.51612903225806%\n",
        "* Error rate for cat is 83.50515463917526%\n",
        "* Error rate for deer is 55.96330275229357%\n",
        "* Error rate for dog is 86.66666666666667%\n",
        "* Error rate for frog is 87.87878787878788%\n",
        "* Error rate for horse is 85.98130841121495%\n",
        "* Error rate for ship is 51.42857142857142%\n",
        "* Error rate for truck is 88.46153846153845%"
      ]
    },
    {
      "cell_type": "markdown",
      "metadata": {
        "id": "9hyP5oEqnItu",
        "colab_type": "text"
      },
      "source": [
        "**indiv error rate for k = 8**\n",
        "\n",
        "* Error rate for airplane is 72.44897959183673%\n",
        "* Error rate for automobile is 77.55102040816327%\n",
        "* Error rate for bird is 64.51612903225806%\n",
        "* Error rate for cat is 84.5360824742268%\n",
        "* Error rate for deer is 55.04587155963303%\n",
        "* Error rate for dog is 81.11111111111111%\n",
        "* Error rate for frog is 82.82828282828282%\n",
        "* Error rate for horse is 89.7196261682243%\n",
        "* Error rate for ship is 47.61904761904761%\n",
        "* Error rate for truck is 88.46153846153845%"
      ]
    },
    {
      "cell_type": "markdown",
      "metadata": {
        "id": "Zs6xUIDClLEU",
        "colab_type": "text"
      },
      "source": [
        "**Does knn work similarly good?**\n",
        "\n",
        "Knn works at CIFAR extremely inaccurate as you can see from the high error rates. With every test, the error rate is over 75%, while with MNIST, the error rate is a few percent.\n",
        "\n"
      ]
    },
    {
      "cell_type": "code",
      "metadata": {
        "id": "R1hPr0LC-gtU",
        "colab_type": "code",
        "colab": {
          "base_uri": "https://localhost:8080/",
          "height": 383
        },
        "outputId": "f3153a23-15f6-40f6-ed28-4a287c165f59"
      },
      "source": [
        "count = 0\n",
        "true_false_matrix = test_labels_sample == knn_result\n",
        "for i in range(0, 10):\n",
        "    if true_false_matrix[i] == False:\n",
        "        count += 1\n",
        "        print(\"Picture number \" + str(count))\n",
        "        print(\"Truth number:\" + str(test_labels_sample[i]))\n",
        "        print(\"Von knn eingestuft als: \" + str(knn_result[i]))"
      ],
      "execution_count": 62,
      "outputs": [
        {
          "output_type": "stream",
          "text": [
            "Picture number 1\n",
            "Truth number:4\n",
            "Von knn eingestuft als: 6\n",
            "Picture number 2\n",
            "Truth number:3\n",
            "Von knn eingestuft als: 9\n",
            "Picture number 3\n",
            "Truth number:3\n",
            "Von knn eingestuft als: 2\n",
            "Picture number 4\n",
            "Truth number:3\n",
            "Von knn eingestuft als: 0\n",
            "Picture number 5\n",
            "Truth number:1\n",
            "Von knn eingestuft als: 4\n",
            "Picture number 6\n",
            "Truth number:7\n",
            "Von knn eingestuft als: 4\n",
            "Picture number 7\n",
            "Truth number:8\n",
            "Von knn eingestuft als: 7\n"
          ],
          "name": "stdout"
        }
      ]
    },
    {
      "cell_type": "markdown",
      "metadata": {
        "id": "f6zgidiegGpC",
        "colab_type": "text"
      },
      "source": [
        "# Kmeans - Setting up k and calculating distances"
      ]
    },
    {
      "cell_type": "code",
      "metadata": {
        "id": "auW1ECznhqhW",
        "colab_type": "code",
        "colab": {}
      },
      "source": [
        "class_names = [\"airplane\", \"automobile\", \"bird\", \"cat\", \"deer\", \"dog\", \"frog\", \"horse\", \"ship\", \"truck\"]\n",
        "clusters = [\"Cluster 0\", \"Cluster 1\", \"Cluster 2\", \"Cluster 3\", \"Cluster 4\", \"Cluster 5\", \"Cluster 6\", \"Cluster 7\", \"Cluster 8\", \"Cluster 9\"]"
      ],
      "execution_count": 0,
      "outputs": []
    },
    {
      "cell_type": "code",
      "metadata": {
        "id": "qpcV9Sw0Y2kA",
        "colab_type": "code",
        "outputId": "3acb8cbe-e81a-4993-a158-d9dc42eb5f85",
        "colab": {
          "base_uri": "https://localhost:8080/",
          "height": 52
        }
      },
      "source": [
        "k = 10\n",
        "# init centroids\n",
        "idx_centroid = np.random.randint(size_image_sample, size=k)\n",
        "centroids = image_sample[idx_centroid]\n",
        "\n",
        "\n",
        "idx_centroid"
      ],
      "execution_count": 0,
      "outputs": [
        {
          "output_type": "execute_result",
          "data": {
            "text/plain": [
              "array([ 9147, 19476,  5068, 18406, 18449, 10036,  7264,   111, 19818,\n",
              "       19189])"
            ]
          },
          "metadata": {
            "tags": []
          },
          "execution_count": 443
        }
      ]
    },
    {
      "cell_type": "code",
      "metadata": {
        "id": "cZ20BXcqgO9W",
        "colab_type": "code",
        "outputId": "cdcb76b0-a7f9-4d4c-a9cd-76e9ed001bfd",
        "colab": {
          "base_uri": "https://localhost:8080/",
          "height": 34
        }
      },
      "source": [
        "# calculate distances\n",
        "dists = scipy.spatial.distance.cdist(image_sample, centroids, metric='euclid')\n",
        "dists.shape"
      ],
      "execution_count": 0,
      "outputs": [
        {
          "output_type": "execute_result",
          "data": {
            "text/plain": [
              "(20000, 10)"
            ]
          },
          "metadata": {
            "tags": []
          },
          "execution_count": 444
        }
      ]
    },
    {
      "cell_type": "code",
      "metadata": {
        "id": "fAiw10aEgpuI",
        "colab_type": "code",
        "outputId": "7eae0eed-09ad-4ba6-bfb4-48fc5b94cca0",
        "colab": {
          "base_uri": "https://localhost:8080/",
          "height": 34
        }
      },
      "source": [
        "#find nearest ones\n",
        "labels = np.argmin(dists, axis=1)\n",
        "labels"
      ],
      "execution_count": 0,
      "outputs": [
        {
          "output_type": "execute_result",
          "data": {
            "text/plain": [
              "array([8, 8, 8, ..., 4, 2, 7])"
            ]
          },
          "metadata": {
            "tags": []
          },
          "execution_count": 445
        }
      ]
    },
    {
      "cell_type": "code",
      "metadata": {
        "id": "pFf3WjTCgrcX",
        "colab_type": "code",
        "outputId": "7512b9f3-3cb2-4bdd-885a-f10f0ef5ed9d",
        "colab": {
          "base_uri": "https://localhost:8080/",
          "height": 34
        }
      },
      "source": [
        "np.unique(labels)"
      ],
      "execution_count": 0,
      "outputs": [
        {
          "output_type": "execute_result",
          "data": {
            "text/plain": [
              "array([0, 1, 2, 3, 4, 5, 6, 7, 8, 9])"
            ]
          },
          "metadata": {
            "tags": []
          },
          "execution_count": 446
        }
      ]
    },
    {
      "cell_type": "code",
      "metadata": {
        "id": "izG1phmjgtsj",
        "colab_type": "code",
        "colab": {}
      },
      "source": [
        "# get new centroids\n",
        "list = [image_sample[labels == i].mean(0) for i in range(k)]\n",
        "centroids = np.stack(list)"
      ],
      "execution_count": 0,
      "outputs": []
    },
    {
      "cell_type": "code",
      "metadata": {
        "id": "w0Rm6JKwgv_2",
        "colab_type": "code",
        "colab": {}
      },
      "source": [
        "# do the iteraions of kmean\n",
        "#iteration = 10\n",
        "iteration = 100\n",
        "#iteration = 1000\n",
        "for j in range(iteration):\n",
        "    \n",
        "    # calc distances\n",
        "    dists = scipy.spatial.distance.cdist(image_sample, centroids, metric = 'euclid')\n",
        "    \n",
        "    # label according to nearest centroids\n",
        "    centroid_labels = np.argmin(dists, axis = 1)\n",
        "    \n",
        "    # get new centroids\n",
        "    centroid_list = [image_sample[centroid_labels == i].mean(0) for i in range(k)]\n",
        "    centroids = np.stack(centroid_list)"
      ],
      "execution_count": 0,
      "outputs": []
    },
    {
      "cell_type": "code",
      "metadata": {
        "id": "ji-Q7IOsg6Tf",
        "colab_type": "code",
        "colab": {}
      },
      "source": [
        "# select all data in cluster_n\n",
        "cluster_0 = image_sample[labels == 0]\n",
        "cluster_1 = image_sample[labels == 1]\n",
        "cluster_2 = image_sample[labels == 2]\n",
        "cluster_3 = image_sample[labels == 3]\n",
        "cluster_4 = image_sample[labels == 4]\n",
        "cluster_5 = image_sample[labels == 5]\n",
        "cluster_6 = image_sample[labels == 6]\n",
        "cluster_7 = image_sample[labels == 7]\n",
        "cluster_8 = image_sample[labels == 8]\n",
        "cluster_9 = image_sample[labels == 9]\n",
        "\n"
      ],
      "execution_count": 0,
      "outputs": []
    },
    {
      "cell_type": "code",
      "metadata": {
        "id": "gIcgQOYDhfE9",
        "colab_type": "code",
        "colab": {}
      },
      "source": [
        "labels_cluster_0 = labels_sample[centroid_labels == 0]\n",
        "labels_cluster_1 = labels_sample[centroid_labels == 1]\n",
        "labels_cluster_2 = labels_sample[centroid_labels == 2]\n",
        "labels_cluster_3 = labels_sample[centroid_labels == 3]\n",
        "labels_cluster_4 = labels_sample[centroid_labels == 4]\n",
        "labels_cluster_5 = labels_sample[centroid_labels == 5]\n",
        "labels_cluster_6 = labels_sample[centroid_labels == 6]\n",
        "labels_cluster_7 = labels_sample[centroid_labels == 7]\n",
        "labels_cluster_8 = labels_sample[centroid_labels == 8]\n",
        "labels_cluster_9 = labels_sample[centroid_labels == 9]"
      ],
      "execution_count": 0,
      "outputs": []
    },
    {
      "cell_type": "code",
      "metadata": {
        "id": "xH4-yib1i2a8",
        "colab_type": "code",
        "outputId": "540c0464-06f2-44df-9b51-4ac6b9b94bec",
        "colab": {
          "base_uri": "https://localhost:8080/",
          "height": 191
        }
      },
      "source": [
        "print(\"Numbers in Cluster 0: \"+str(np.unique(labels_cluster_0)))\n",
        "print(\"Numbers in Cluster 1: \"+str(np.unique(labels_cluster_1)))\n",
        "print(\"Numbers in Cluster 2: \"+str(np.unique(labels_cluster_2)))\n",
        "print(\"Numbers in Cluster 3: \"+str(np.unique(labels_cluster_3)))\n",
        "print(\"Numbers in Cluster 4: \"+str(np.unique(labels_cluster_4)))\n",
        "print(\"Numbers in Cluster 5: \"+str(np.unique(labels_cluster_5)))\n",
        "print(\"Numbers in Cluster 6: \"+str(np.unique(labels_cluster_6)))\n",
        "print(\"Numbers in Cluster 7: \"+str(np.unique(labels_cluster_7)))\n",
        "print(\"Numbers in Cluster 8: \"+str(np.unique(labels_cluster_8)))\n",
        "print(\"Numbers in Cluster 9: \"+str(np.unique(labels_cluster_9)))"
      ],
      "execution_count": 0,
      "outputs": [
        {
          "output_type": "stream",
          "text": [
            "Numbers in Cluster 0: [0 1 2 3 4 5 6 7 8 9]\n",
            "Numbers in Cluster 1: [0 1 2 3 4 5 6 7 8 9]\n",
            "Numbers in Cluster 2: [0 1 2 3 4 5 6 7 8 9]\n",
            "Numbers in Cluster 3: [0 1 2 3 4 5 6 7 8 9]\n",
            "Numbers in Cluster 4: [0 1 2 3 4 5 6 7 8 9]\n",
            "Numbers in Cluster 5: [0 1 2 3 4 5 6 7 8 9]\n",
            "Numbers in Cluster 6: [0 1 2 3 4 5 6 7 8 9]\n",
            "Numbers in Cluster 7: [0 1 2 3 4 5 6 7 8 9]\n",
            "Numbers in Cluster 8: [0 1 2 3 4 5 6 7 8 9]\n",
            "Numbers in Cluster 9: [0 1 2 3 4 5 6 7 8 9]\n"
          ],
          "name": "stdout"
        }
      ]
    },
    {
      "cell_type": "code",
      "metadata": {
        "id": "t1ymhfvTjC0T",
        "colab_type": "code",
        "colab": {}
      },
      "source": [
        "def percentagecalculator(labels_cluster, class_names, c):\n",
        "    cluster = stats.mode(labels_cluster)\n",
        "    labels, count = np.unique(labels_cluster, return_counts=True)\n",
        "    highest_idx = 0\n",
        "    for i in range(len(labels)):\n",
        "      if count[i] > count[highest_idx]:\n",
        "        highest_idx = i\n",
        "    per = float(cluster[1]) / float(labels_cluster.shape[0]) * 100\n",
        "    print(\"Cluster \" + str(c) + \" contains \" + str(round(per, 2)) + \" %  \" + str(labels[highest_idx]))"
      ],
      "execution_count": 0,
      "outputs": []
    },
    {
      "cell_type": "code",
      "metadata": {
        "id": "XyU5lCpUjE87",
        "colab_type": "code",
        "outputId": "f35ada80-1ba7-413f-d75e-c0d9834bc2bd",
        "colab": {
          "base_uri": "https://localhost:8080/",
          "height": 191
        }
      },
      "source": [
        "percentagecalculator(labels_cluster_0, class_names, 0)\n",
        "percentagecalculator(labels_cluster_1, class_names, 1)\n",
        "percentagecalculator(labels_cluster_2, class_names, 2)\n",
        "percentagecalculator(labels_cluster_3, class_names, 3)\n",
        "percentagecalculator(labels_cluster_4, class_names, 4)\n",
        "percentagecalculator(labels_cluster_5, class_names, 5)\n",
        "percentagecalculator(labels_cluster_6, class_names, 6)\n",
        "percentagecalculator(labels_cluster_7, class_names, 7)\n",
        "percentagecalculator(labels_cluster_8, class_names, 8)\n",
        "percentagecalculator(labels_cluster_9, class_names, 9)"
      ],
      "execution_count": 0,
      "outputs": [
        {
          "output_type": "stream",
          "text": [
            "Cluster 0 contains 19.09 %  4\n",
            "Cluster 1 contains 17.09 %  7\n",
            "Cluster 2 contains 16.32 %  1\n",
            "Cluster 3 contains 19.83 %  6\n",
            "Cluster 4 contains 28.11 %  0\n",
            "Cluster 5 contains 30.26 %  8\n",
            "Cluster 6 contains 30.57 %  9\n",
            "Cluster 7 contains 19.14 %  7\n",
            "Cluster 8 contains 14.94 %  2\n",
            "Cluster 9 contains 22.0 %  5\n"
          ],
          "name": "stdout"
        }
      ]
    },
    {
      "cell_type": "code",
      "metadata": {
        "id": "RCpln0GDHZUp",
        "colab_type": "code",
        "outputId": "f5c3277f-cd6d-47eb-e3f6-e89ce1fac665",
        "colab": {
          "base_uri": "https://localhost:8080/",
          "height": 191
        }
      },
      "source": [
        "[\"0airplane\", \"1automobile\", \"2bird\", \"3cat\", \"4deer\", \"5dog\", \"6frog\", \"7horse\", \"8ship\", \"9truck\"]"
      ],
      "execution_count": 0,
      "outputs": [
        {
          "output_type": "execute_result",
          "data": {
            "text/plain": [
              "['0airplane',\n",
              " '1automobile',\n",
              " '2bird',\n",
              " '3cat',\n",
              " '4deer',\n",
              " '5dog',\n",
              " '6frog',\n",
              " '7horse',\n",
              " '8ship',\n",
              " '9truck']"
            ]
          },
          "metadata": {
            "tags": []
          },
          "execution_count": 375
        }
      ]
    },
    {
      "cell_type": "markdown",
      "metadata": {
        "id": "srXitGDlkuWj",
        "colab_type": "text"
      },
      "source": [
        "**K-means for 10 iterations**\n",
        "* Cluster 0 contains 33.53 %  8\n",
        "* Cluster 1 contains 33.27 %  0\n",
        "* Cluster 2 contains 28.5 %  9\n",
        "* Cluster 3 contains 15.27 %  2\n",
        "* Cluster 4 contains 17.51 %  7\n",
        "* Cluster 5 contains 18.79 %  4\n",
        "* Cluster 6 contains 14.2 %  5\n",
        "* Cluster 7 contains 19.01 %  6\n",
        "* Cluster 8 contains 17.25 %  5\n",
        "* Cluster 9 contains 17.37 %  1"
      ]
    },
    {
      "cell_type": "markdown",
      "metadata": {
        "id": "1j1FNCUvOucj",
        "colab_type": "text"
      },
      "source": [
        "**bold text**"
      ]
    },
    {
      "cell_type": "markdown",
      "metadata": {
        "id": "-aPI7O3Ok6zy",
        "colab_type": "text"
      },
      "source": [
        "**K-means for 100 iterations**\n",
        "\n",
        "* Cluster 0 contains 32.97 %  8\n",
        "* Cluster 1 contains 32.46 %  0\n",
        "* Cluster 2 contains 30.45 %  9\n",
        "* Cluster 3 contains 15.34 %  2\n",
        "* Cluster 4 contains 18.81 %  7\n",
        "* Cluster 5 contains 19.61 %  4\n",
        "* Cluster 6 contains 15.34 %  5\n",
        "* Cluster 7 contains 19.85 %  6\n",
        "* Cluster 8 contains 19.54 %  5\n",
        "* Cluster 9 contains 14.77 %  6"
      ]
    },
    {
      "cell_type": "markdown",
      "metadata": {
        "id": "Iip9sGzakLBi",
        "colab_type": "text"
      },
      "source": [
        "**K-means for 1000 iterations**\n",
        "\n",
        "* Cluster 0 contains 32.97 %  8\n",
        "* Cluster 1 contains 32.46 %  0\n",
        "* Cluster 2 contains 30.45 %  9\n",
        "* Cluster 3 contains 15.34 %  2\n",
        "* Cluster 4 contains 18.81 %  7\n",
        "* Cluster 5 contains 19.61 %  4\n",
        "* Cluster 6 contains 15.34 %  5\n",
        "* Cluster 7 contains 19.85 %  6\n",
        "* Cluster 8 contains 19.54 %  5\n",
        "* Cluster 9 contains 14.77 %  6"
      ]
    },
    {
      "cell_type": "markdown",
      "metadata": {
        "id": "XUofRzK6Se81",
        "colab_type": "text"
      },
      "source": [
        "**Does k-means work similarly good?**\n",
        "\n"
      ]
    },
    {
      "cell_type": "code",
      "metadata": {
        "id": "P4-qjRZBR_1R",
        "colab_type": "code",
        "colab": {}
      },
      "source": [
        ""
      ],
      "execution_count": 0,
      "outputs": []
    }
  ]
}
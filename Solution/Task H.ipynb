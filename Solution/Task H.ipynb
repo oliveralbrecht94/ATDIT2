{
  "nbformat": 4,
  "nbformat_minor": 0,
  "metadata": {
    "colab": {
      "name": "Untitled10.ipynb",
      "provenance": [],
      "include_colab_link": true
    },
    "kernelspec": {
      "name": "python3",
      "display_name": "Python 3"
    }
  },
  "cells": [
    {
      "cell_type": "markdown",
      "metadata": {
        "id": "view-in-github",
        "colab_type": "text"
      },
      "source": [
        "<a href=\"https://colab.research.google.com/github/oliveralbrecht94/ATDIT2/blob/master/Solution/Task%20H.ipynb\" target=\"_parent\"><img src=\"https://colab.research.google.com/assets/colab-badge.svg\" alt=\"Open In Colab\"/></a>"
      ]
    },
    {
      "cell_type": "markdown",
      "metadata": {
        "id": "uOyimw4IMTfK",
        "colab_type": "text"
      },
      "source": [
        "# H Feedback\n",
        "\n",
        "**How much time did you work on this assignment and how often did you\n",
        "meet?**"
      ]
    },
    {
      "cell_type": "markdown",
      "metadata": {
        "id": "wGwthWIwMbNd",
        "colab_type": "text"
      },
      "source": [
        "We spent togheter 40 hours to complete this assignment. We talked often during breaks at the university and had 3 phone calls at the evening or at the weekend."
      ]
    },
    {
      "cell_type": "markdown",
      "metadata": {
        "id": "jxB6EPA9M0lp",
        "colab_type": "text"
      },
      "source": [
        " **Did you use Google Colab or Anaconda?**\n",
        " \n",
        " First, we started with anaconda, but later on we switched to Google Colab to use the huge google ressources"
      ]
    },
    {
      "cell_type": "markdown",
      "metadata": {
        "id": "qxAAvYqENEOc",
        "colab_type": "text"
      },
      "source": [
        "**What was your favourite excercise? Why?**\n",
        "\n",
        "Our favourite excercise was D but also E.\n",
        "\n",
        "WHY D? Because it  had gaves us an better understanding of the usage of both algorithms with the MNIST datast. \n",
        "\n",
        "WHY E? It was very interesting why those two algorithm work so inefficient at grayscale images. We had a lot of discussion.."
      ]
    },
    {
      "cell_type": "code",
      "metadata": {
        "id": "LClmAIMvMZPC",
        "colab_type": "code",
        "colab": {}
      },
      "source": [
        ""
      ],
      "execution_count": 0,
      "outputs": []
    }
  ]
}
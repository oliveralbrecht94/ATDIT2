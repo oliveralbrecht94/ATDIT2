{
 "cells": [
  {
   "cell_type": "markdown",
   "metadata": {},
   "source": [
    "# H Feedback\n",
    "\n",
    "#### How much time did you work on this assignment and how often did you meet?\n",
    "We spent togheter 40 hours to complete this assignment. We talked often during breaks at the university and had 3 phone calls at the evening or at the weekend\n",
    "\n",
    "#### Did you use Google Colab or Anaconda?\n",
    "First, we started with anaconda, but later on we switched to Google Colab to use the huge google ressources\n",
    "\n",
    "#### What was your favourite excercise? Why?\n",
    "Our favourite excercise was D but also E.\n",
    "WHY D? Because it had gaves us an better understanding of the usage of both algorithms with the MNIST datast.\n",
    "WHY E? It was very interesting why those two algorithm work so inefficient at grayscale images. We had a lot of discussion.\n",
    "\n",
    "#### What excercise did you like least? Why?\n",
    "Probably exercise F or G. It was not that easy to transfer the mathematical theory of the classes into practical Python Programming. \n",
    "Moreover the instructions of task G were not 100 % clear. We had some exchange with other groups about it, but nobody was completely sure about which answers you expect. "
   ]
  }
 ],
 "metadata": {
  "kernelspec": {
   "display_name": "Python 3",
   "language": "python",
   "name": "python3"
  },
  "language_info": {
   "codemirror_mode": {
    "name": "ipython",
    "version": 3
   },
   "file_extension": ".py",
   "mimetype": "text/x-python",
   "name": "python",
   "nbconvert_exporter": "python",
   "pygments_lexer": "ipython3",
   "version": "3.7.3"
  }
 },
 "nbformat": 4,
 "nbformat_minor": 2
}

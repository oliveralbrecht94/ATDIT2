{
  "nbformat": 4,
  "nbformat_minor": 0,
  "metadata": {
    "colab": {
      "name": "Untitled6.ipynb",
      "provenance": [],
      "collapsed_sections": [],
      "include_colab_link": true
    },
    "kernelspec": {
      "name": "python3",
      "display_name": "Python 3"
    }
  },
  "cells": [
    {
      "cell_type": "markdown",
      "metadata": {
        "id": "view-in-github",
        "colab_type": "text"
      },
      "source": [
        "<a href=\"https://colab.research.google.com/github/oliveralbrecht94/ATDIT2/blob/master/Task%20B.ipynb\" target=\"_parent\"><img src=\"https://colab.research.google.com/assets/colab-badge.svg\" alt=\"Open In Colab\"/></a>"
      ]
    },
    {
      "cell_type": "markdown",
      "metadata": {
        "id": "eForJzE6B1V6",
        "colab_type": "text"
      },
      "source": [
        "# **Import of needed classes**"
      ]
    },
    {
      "cell_type": "code",
      "metadata": {
        "id": "mftkLnUtB0NA",
        "colab_type": "code",
        "colab": {}
      },
      "source": [
        "import tensorflow as tf\n",
        "import numpy as np\n",
        "import matplotlib.pyplot as plt\n",
        "import seaborn as sns\n",
        "from sklearn.manifold import TSNE\n",
        "from scipy import stats\n",
        "import scipy.spatial.distance\n"
      ],
      "execution_count": 0,
      "outputs": []
    },
    {
      "cell_type": "markdown",
      "metadata": {
        "id": "b-57RfS6BkIz",
        "colab_type": "text"
      },
      "source": [
        "# Load MNIST DATASET"
      ]
    },
    {
      "cell_type": "code",
      "metadata": {
        "id": "-dCEtR2t4_6O",
        "colab_type": "code",
        "colab": {}
      },
      "source": [
        "# load MNIST in mnistdataset\n",
        "mnistdataset = tf.keras.datasets.mnist.load_data()[0]\n",
        "# load first dimension (digits/images) in digitsand second dimension (labels) in labels\n",
        "digits, labels = mnistdataset [0], mnistdataset [1]"
      ],
      "execution_count": 0,
      "outputs": []
    },
    {
      "cell_type": "code",
      "metadata": {
        "id": "HdrVbMqL5X69",
        "colab_type": "code",
        "colab": {}
      },
      "source": [
        "# load MNIST in testdataset\n",
        "testdataset = tf.keras.datasets.mnist.load_data()[1]\n",
        "# load first dimension (digits) in test_digits and second dimension (labels) in test_labels\n",
        "test_digits, test_labels = testdataset[0], testdataset[1]"
      ],
      "execution_count": 0,
      "outputs": []
    },
    {
      "cell_type": "markdown",
      "metadata": {
        "id": "37fwXBxlHqZG",
        "colab_type": "text"
      },
      "source": [
        "# Preparing Dataset"
      ]
    },
    {
      "cell_type": "code",
      "metadata": {
        "id": "SV8U_Oik5cbD",
        "colab_type": "code",
        "colab": {}
      },
      "source": [
        "# save amount of digits (from digits) in n_digits\n",
        "n_digits = digits.shape[0] \n",
        "# save amount of digitis (from test_digits) in n_test\n",
        "n_test = test_digits.shape[0] "
      ],
      "execution_count": 0,
      "outputs": []
    },
    {
      "cell_type": "code",
      "metadata": {
        "id": "EPyzjP4H5lEo",
        "colab_type": "code",
        "colab": {}
      },
      "source": [
        "# calculation of full dimension of each image 28*28\n",
        "amount_pixels = digits.shape[1] * digits.shape[2]"
      ],
      "execution_count": 0,
      "outputs": []
    },
    {
      "cell_type": "code",
      "metadata": {
        "id": "D2A1JTV85r8W",
        "colab_type": "code",
        "colab": {}
      },
      "source": [
        "# Transform to 1D vector from each matrix with the pixels of an image in order to calculate distances.\n",
        "digits = digits.reshape([n_digits, amount_pixels])\n",
        "test_digits = test_digits.reshape([n_test, amount_pixels])"
      ],
      "execution_count": 0,
      "outputs": []
    },
    {
      "cell_type": "code",
      "metadata": {
        "id": "xnh98oNS5w06",
        "colab_type": "code",
        "outputId": "26baf7c8-82e0-44e5-e87c-ee984606b4b2",
        "colab": {
          "base_uri": "https://localhost:8080/",
          "height": 34
        }
      },
      "source": [
        "# see the result\n",
        "digits.shape"
      ],
      "execution_count": 17,
      "outputs": [
        {
          "output_type": "execute_result",
          "data": {
            "text/plain": [
              "(60000, 784)"
            ]
          },
          "metadata": {
            "tags": []
          },
          "execution_count": 17
        }
      ]
    },
    {
      "cell_type": "code",
      "metadata": {
        "id": "oejd_2TB59X5",
        "colab_type": "code",
        "colab": {}
      },
      "source": [
        "# setting an index of 50.0000 between 0 and n_digits (60.000) \n",
        "index = np.random.randint(n_digits, size = 50000) \n",
        "# set up of samples \n",
        "digits_sample = digits[index]\n",
        "labels_sample = labels[index]"
      ],
      "execution_count": 0,
      "outputs": []
    },
    {
      "cell_type": "code",
      "metadata": {
        "id": "C9sOgbdq6Jcl",
        "colab_type": "code",
        "colab": {}
      },
      "source": [
        "# how much data should be consider? Size = 1000 -> 1000 numbers of the vector // it is faster!\n",
        "size_test_sample = 1000 \n",
        "index = np.random.randint(n_test, size = size_test_sample)\n",
        "test_digits_sample = test_digits[index]\n",
        "test_labels_sample = test_labels[index]"
      ],
      "execution_count": 0,
      "outputs": []
    },
    {
      "cell_type": "markdown",
      "metadata": {
        "id": "q0B3WxeJHpe-",
        "colab_type": "text"
      },
      "source": [
        "# Calculating Distances"
      ]
    },
    {
      "cell_type": "code",
      "metadata": {
        "id": "LWY7xq1g6OI5",
        "colab_type": "code",
        "colab": {}
      },
      "source": [
        "# setting up the k value \n",
        "# k = 2 \n",
        "k = 4\n",
        "# k = 8 \n",
        "# calculating the distance between each vector in dependency of k and save it in an arra\n",
        "distances = scipy.spatial.distance.cdist(digits_sample, test_digits_sample, metric='euclid')\n",
        "# calculates the next k points around the vector\n",
        "index_nearest = np.argpartition(distances, k, axis = 0)[:k] \n"
      ],
      "execution_count": 0,
      "outputs": []
    },
    {
      "cell_type": "code",
      "metadata": {
        "id": "b1UknziP6wag",
        "colab_type": "code",
        "outputId": "2d7161b6-fef5-4632-cb08-755e40cacdda",
        "colab": {
          "base_uri": "https://localhost:8080/",
          "height": 87
        }
      },
      "source": [
        "# saves the neighbors of the vector in dependency of k\n",
        "knn_neighbors = labels_sample[index_nearest] \n",
        "# show the neighbors\n",
        "print(knn_neighbors)"
      ],
      "execution_count": 21,
      "outputs": [
        {
          "output_type": "stream",
          "text": [
            "[[5 2 3 ... 7 9 9]\n",
            " [5 2 3 ... 7 9 9]\n",
            " [6 2 3 ... 7 9 9]\n",
            " [6 2 5 ... 7 9 9]]\n"
          ],
          "name": "stdout"
        }
      ]
    },
    {
      "cell_type": "code",
      "metadata": {
        "id": "bu-2GRm86383",
        "colab_type": "code",
        "outputId": "3aab0716-279d-4001-e81f-328b0821c5ce",
        "colab": {
          "base_uri": "https://localhost:8080/",
          "height": 826
        }
      },
      "source": [
        "# is looking for the most frequent value in the array/vector\n",
        "knn_result = stats.mode(knn_neighbors)[0]\n",
        "knn_result = knn_result[0]\n",
        "# shows the most frequent value\n",
        "knn_result"
      ],
      "execution_count": 22,
      "outputs": [
        {
          "output_type": "execute_result",
          "data": {
            "text/plain": [
              "array([5, 2, 3, 5, 5, 9, 3, 5, 0, 4, 1, 7, 6, 6, 1, 0, 2, 0, 3, 9, 4, 7,\n",
              "       2, 2, 0, 3, 3, 8, 0, 3, 6, 3, 0, 6, 8, 3, 9, 0, 1, 6, 4, 2, 9, 9,\n",
              "       7, 2, 0, 1, 9, 6, 1, 0, 1, 8, 2, 0, 1, 2, 0, 3, 4, 3, 2, 2, 4, 1,\n",
              "       7, 3, 5, 7, 3, 5, 8, 8, 8, 7, 8, 1, 2, 1, 0, 4, 7, 9, 9, 6, 3, 1,\n",
              "       0, 8, 0, 6, 8, 2, 7, 4, 3, 9, 0, 3, 8, 6, 0, 7, 7, 0, 3, 4, 0, 7,\n",
              "       5, 1, 8, 1, 6, 5, 0, 8, 2, 9, 7, 1, 2, 7, 0, 7, 5, 7, 2, 7, 4, 0,\n",
              "       3, 5, 2, 1, 7, 4, 0, 2, 2, 9, 4, 4, 1, 7, 2, 3, 4, 1, 6, 6, 2, 3,\n",
              "       7, 1, 5, 5, 5, 3, 1, 3, 2, 7, 3, 7, 8, 1, 3, 1, 2, 2, 2, 4, 7, 4,\n",
              "       9, 0, 9, 7, 3, 5, 9, 2, 2, 3, 0, 5, 6, 2, 5, 6, 0, 6, 0, 2, 5, 1,\n",
              "       9, 7, 6, 3, 8, 2, 1, 1, 3, 4, 9, 8, 2, 7, 5, 0, 9, 4, 3, 2, 1, 4,\n",
              "       7, 6, 0, 5, 7, 8, 3, 3, 2, 2, 3, 0, 9, 6, 1, 6, 4, 4, 6, 3, 2, 9,\n",
              "       2, 8, 6, 7, 7, 5, 2, 3, 7, 9, 2, 8, 9, 0, 7, 3, 6, 9, 9, 9, 2, 6,\n",
              "       5, 9, 7, 4, 2, 2, 4, 5, 1, 8, 3, 4, 6, 8, 1, 5, 4, 0, 3, 3, 5, 1,\n",
              "       9, 1, 0, 9, 4, 3, 4, 8, 1, 2, 0, 5, 2, 5, 7, 2, 0, 6, 3, 8, 1, 6,\n",
              "       9, 0, 7, 7, 0, 0, 2, 9, 6, 3, 4, 3, 5, 6, 0, 5, 0, 4, 1, 6, 8, 8,\n",
              "       9, 9, 1, 1, 6, 4, 4, 4, 9, 1, 9, 6, 1, 4, 8, 9, 1, 3, 6, 6, 0, 3,\n",
              "       7, 6, 0, 8, 7, 0, 0, 3, 9, 3, 5, 9, 9, 4, 4, 8, 4, 0, 1, 9, 5, 2,\n",
              "       3, 2, 3, 7, 8, 1, 6, 5, 1, 0, 3, 4, 0, 0, 1, 2, 8, 7, 8, 0, 2, 1,\n",
              "       7, 0, 6, 4, 8, 0, 0, 3, 1, 5, 0, 7, 6, 8, 6, 7, 3, 5, 1, 1, 6, 0,\n",
              "       4, 1, 1, 9, 1, 9, 9, 9, 6, 2, 8, 6, 0, 9, 8, 4, 8, 4, 4, 3, 0, 6,\n",
              "       2, 2, 8, 0, 1, 7, 2, 3, 1, 5, 5, 2, 2, 8, 4, 7, 9, 2, 9, 2, 7, 3,\n",
              "       2, 5, 6, 1, 1, 4, 0, 0, 1, 6, 4, 7, 5, 1, 3, 9, 1, 9, 2, 6, 3, 1,\n",
              "       5, 4, 1, 9, 5, 7, 2, 4, 0, 1, 3, 4, 6, 2, 1, 2, 1, 3, 5, 7, 3, 8,\n",
              "       3, 3, 5, 4, 2, 6, 1, 8, 0, 9, 1, 3, 9, 4, 7, 9, 2, 7, 9, 1, 8, 7,\n",
              "       7, 4, 8, 2, 0, 6, 0, 3, 3, 0, 6, 7, 7, 5, 9, 1, 5, 1, 7, 8, 9, 8,\n",
              "       0, 5, 7, 6, 1, 7, 7, 9, 2, 2, 2, 7, 8, 5, 2, 1, 5, 3, 0, 3, 9, 2,\n",
              "       5, 3, 6, 4, 4, 1, 2, 1, 6, 3, 5, 6, 3, 1, 6, 6, 5, 6, 5, 5, 6, 4,\n",
              "       4, 0, 8, 6, 2, 8, 4, 7, 3, 2, 7, 7, 4, 1, 8, 1, 0, 1, 4, 1, 6, 2,\n",
              "       4, 2, 8, 5, 1, 0, 7, 6, 2, 6, 4, 7, 6, 6, 6, 0, 3, 3, 0, 8, 1, 8,\n",
              "       9, 4, 2, 6, 1, 8, 4, 8, 4, 9, 7, 1, 3, 4, 7, 6, 5, 5, 1, 3, 9, 0,\n",
              "       3, 0, 7, 6, 4, 9, 5, 7, 0, 5, 6, 8, 6, 2, 1, 4, 4, 9, 1, 6, 5, 8,\n",
              "       9, 2, 8, 1, 3, 6, 7, 7, 5, 4, 6, 6, 8, 8, 4, 4, 3, 1, 3, 0, 1, 4,\n",
              "       3, 9, 6, 1, 1, 5, 7, 1, 2, 2, 1, 7, 2, 3, 3, 5, 1, 4, 2, 2, 5, 0,\n",
              "       2, 2, 1, 7, 9, 7, 4, 7, 1, 2, 9, 0, 4, 5, 7, 0, 2, 2, 3, 6, 7, 6,\n",
              "       4, 6, 3, 3, 8, 5, 2, 1, 1, 1, 0, 8, 3, 0, 8, 9, 6, 5, 2, 0, 8, 7,\n",
              "       3, 2, 4, 6, 6, 9, 4, 5, 1, 7, 0, 9, 6, 6, 5, 0, 5, 8, 3, 9, 4, 0,\n",
              "       3, 3, 0, 3, 0, 3, 0, 4, 6, 9, 4, 5, 9, 7, 5, 5, 9, 2, 1, 9, 9, 6,\n",
              "       5, 2, 7, 6, 0, 2, 7, 3, 1, 8, 0, 8, 0, 3, 1, 0, 3, 2, 3, 1, 7, 4,\n",
              "       9, 6, 7, 3, 1, 0, 9, 6, 9, 2, 0, 3, 2, 1, 1, 0, 4, 1, 5, 9, 9, 8,\n",
              "       3, 1, 9, 3, 1, 1, 5, 5, 0, 2, 9, 9, 0, 1, 0, 1, 1, 5, 0, 9, 2, 9,\n",
              "       4, 6, 9, 8, 1, 3, 7, 6, 8, 0, 1, 6, 2, 7, 1, 7, 3, 5, 5, 5, 9, 5,\n",
              "       3, 5, 0, 0, 5, 2, 7, 7, 9, 8, 1, 1, 0, 7, 2, 6, 1, 9, 3, 6, 9, 3,\n",
              "       8, 8, 4, 7, 4, 7, 8, 7, 8, 7, 2, 0, 7, 1, 0, 7, 7, 1, 0, 5, 8, 0,\n",
              "       9, 7, 9, 2, 2, 1, 8, 7, 0, 1, 4, 7, 7, 8, 8, 1, 6, 2, 7, 1, 7, 9,\n",
              "       4, 5, 0, 0, 3, 3, 8, 3, 1, 4, 7, 2, 2, 8, 2, 7, 2, 5, 6, 4, 3, 4,\n",
              "       7, 3, 9, 6, 7, 7, 8, 7, 9, 9], dtype=uint8)"
            ]
          },
          "metadata": {
            "tags": []
          },
          "execution_count": 22
        }
      ]
    },
    {
      "cell_type": "markdown",
      "metadata": {
        "id": "EXXgmcmQIDXe",
        "colab_type": "text"
      },
      "source": [
        "# Get the errorrate"
      ]
    },
    {
      "cell_type": "code",
      "metadata": {
        "id": "gRtQeJn169OH",
        "colab_type": "code",
        "colab": {}
      },
      "source": [
        "errors = 0\n",
        "# compares the two arrays and is looking for matches of the values? Right = true / Wrong = false\n",
        "error_rate_matrix = (test_labels_sample == knn_result)\n",
        "for b in error_rate_matrix:\n",
        "    if b == False:\n",
        "        errors += 1"
      ],
      "execution_count": 0,
      "outputs": []
    },
    {
      "cell_type": "code",
      "metadata": {
        "id": "NDqBaMYc6-N9",
        "colab_type": "code",
        "outputId": "3bec0882-929f-4456-cb27-a18411e0b76c",
        "colab": {
          "base_uri": "https://localhost:8080/",
          "height": 34
        }
      },
      "source": [
        "# Calculation of the error rate\n",
        "_rate = (errors / size_test_sample) * 100. \n",
        "print(\"Error rate is: \" +str(_rate) + \" %\")"
      ],
      "execution_count": 24,
      "outputs": [
        {
          "output_type": "stream",
          "text": [
            "Error rate is: 3.8 %\n"
          ],
          "name": "stdout"
        }
      ]
    },
    {
      "cell_type": "code",
      "metadata": {
        "id": "LJOWPmNV7XJn",
        "colab_type": "code",
        "colab": {}
      },
      "source": [
        ""
      ],
      "execution_count": 0,
      "outputs": []
    }
  ]
}
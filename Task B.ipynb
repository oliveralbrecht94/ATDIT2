{
  "nbformat": 4,
  "nbformat_minor": 0,
  "metadata": {
    "colab": {
      "name": "Untitled6.ipynb",
      "provenance": [],
      "collapsed_sections": [],
      "include_colab_link": true
    },
    "kernelspec": {
      "name": "python3",
      "display_name": "Python 3"
    }
  },
  "cells": [
    {
      "cell_type": "markdown",
      "metadata": {
        "id": "view-in-github",
        "colab_type": "text"
      },
      "source": [
        "<a href=\"https://colab.research.google.com/github/oliveralbrecht94/ATDIT2/blob/master/Task%20B.ipynb\" target=\"_parent\"><img src=\"https://colab.research.google.com/assets/colab-badge.svg\" alt=\"Open In Colab\"/></a>"
      ]
    },
    {
      "cell_type": "markdown",
      "metadata": {
        "id": "eForJzE6B1V6",
        "colab_type": "text"
      },
      "source": [
        "# **Import of needed classes**"
      ]
    },
    {
      "cell_type": "code",
      "metadata": {
        "id": "mftkLnUtB0NA",
        "colab_type": "code",
        "colab": {}
      },
      "source": [
        "import tensorflow as tf\n",
        "import numpy as np\n",
        "import matplotlib.pyplot as plt\n",
        "import seaborn as sns\n",
        "from sklearn.manifold import TSNE\n",
        "from scipy import stats\n",
        "import scipy.spatial.distance\n"
      ],
      "execution_count": 0,
      "outputs": []
    },
    {
      "cell_type": "markdown",
      "metadata": {
        "id": "b-57RfS6BkIz",
        "colab_type": "text"
      },
      "source": [
        "# Load MNIST DATASET"
      ]
    },
    {
      "cell_type": "code",
      "metadata": {
        "id": "-dCEtR2t4_6O",
        "colab_type": "code",
        "colab": {}
      },
      "source": [
        "# load MNIST in mnistdataset\n",
        "mnistdataset = tf.keras.datasets.mnist.load_data()[0]\n",
        "# load first dimension (digits/images) in digitsand second dimension (labels) in labels\n",
        "digits, labels = mnistdataset [0], mnistdataset [1]"
      ],
      "execution_count": 0,
      "outputs": []
    },
    {
      "cell_type": "code",
      "metadata": {
        "id": "HdrVbMqL5X69",
        "colab_type": "code",
        "colab": {}
      },
      "source": [
        "# load MNIST in testdataset\n",
        "testdataset = tf.keras.datasets.mnist.load_data()[1]\n",
        "# load first dimension (digits) in test_digits and second dimension (labels) in test_labels\n",
        "test_digits, test_labels = testdataset[0], testdataset[1]"
      ],
      "execution_count": 0,
      "outputs": []
    },
    {
      "cell_type": "markdown",
      "metadata": {
        "id": "37fwXBxlHqZG",
        "colab_type": "text"
      },
      "source": [
        "# Preparing Dataset"
      ]
    },
    {
      "cell_type": "code",
      "metadata": {
        "id": "SV8U_Oik5cbD",
        "colab_type": "code",
        "colab": {}
      },
      "source": [
        "# save amount of digits (from digits) in n_digits\n",
        "n_digits = digits.shape[0] \n",
        "# save amount of digitis (from test_digits) in n_test\n",
        "n_test = test_digits.shape[0] "
      ],
      "execution_count": 0,
      "outputs": []
    },
    {
      "cell_type": "code",
      "metadata": {
        "id": "EPyzjP4H5lEo",
        "colab_type": "code",
        "colab": {}
      },
      "source": [
        "# calculation of full dimension of each image 28*28\n",
        "amount_pixels = digits.shape[1] * digits.shape[2]"
      ],
      "execution_count": 0,
      "outputs": []
    },
    {
      "cell_type": "code",
      "metadata": {
        "id": "D2A1JTV85r8W",
        "colab_type": "code",
        "colab": {}
      },
      "source": [
        "# Transform to 1D vector from each matrix with the pixels of an image in order to calculate distances.\n",
        "digits = digits.reshape([n_digits, amount_pixels])\n",
        "test_digits = test_digits.reshape([n_test, amount_pixels])"
      ],
      "execution_count": 0,
      "outputs": []
    },
    {
      "cell_type": "code",
      "metadata": {
        "id": "xnh98oNS5w06",
        "colab_type": "code",
        "colab": {
          "base_uri": "https://localhost:8080/",
          "height": 34
        },
        "outputId": "eed04550-0bf2-4e5f-fffe-2c2018c7afb0"
      },
      "source": [
        "# see the result\n",
        "digits.shape"
      ],
      "execution_count": 111,
      "outputs": [
        {
          "output_type": "execute_result",
          "data": {
            "text/plain": [
              "(60000, 784)"
            ]
          },
          "metadata": {
            "tags": []
          },
          "execution_count": 111
        }
      ]
    },
    {
      "cell_type": "code",
      "metadata": {
        "id": "oejd_2TB59X5",
        "colab_type": "code",
        "colab": {}
      },
      "source": [
        "# setting an index of 50.0000 between 0 and n_digits (60.000) \n",
        "index = np.random.randint(n_digits, size = 50000) \n",
        "# set up of samples \n",
        "digits_sample = digits[index]\n",
        "labels_sample = labels[index]"
      ],
      "execution_count": 0,
      "outputs": []
    },
    {
      "cell_type": "code",
      "metadata": {
        "id": "C9sOgbdq6Jcl",
        "colab_type": "code",
        "colab": {}
      },
      "source": [
        "# how much data should be consider? Size = 10 -> 10 numbers of the vector\n",
        "size_test_sample = 10 \n",
        "index = np.random.randint(n_test, size = size_test_sample)\n",
        "test_digits_sample = test_digits[index]\n",
        "test_labels_sample = test_labels[index]"
      ],
      "execution_count": 0,
      "outputs": []
    },
    {
      "cell_type": "markdown",
      "metadata": {
        "id": "q0B3WxeJHpe-",
        "colab_type": "text"
      },
      "source": [
        "# Calculating Distances"
      ]
    },
    {
      "cell_type": "code",
      "metadata": {
        "id": "LWY7xq1g6OI5",
        "colab_type": "code",
        "colab": {}
      },
      "source": [
        "# setting up the k value \n",
        "# k = 2 \n",
        "k = 4\n",
        "# k = 8 \n",
        "# calculating the distance between each vector in dependency of k and save it in an arra\n",
        "distances = scipy.spatial.distance.cdist(digits_sample, test_digits_sample, metric='euclid')\n",
        "# calculates the next k points around the vector\n",
        "index_nearest = np.argpartition(distances, k, axis = 0)[:k] \n"
      ],
      "execution_count": 0,
      "outputs": []
    },
    {
      "cell_type": "code",
      "metadata": {
        "id": "b1UknziP6wag",
        "colab_type": "code",
        "colab": {
          "base_uri": "https://localhost:8080/",
          "height": 84
        },
        "outputId": "5d660318-22c4-410b-c540-eaf958102eaa"
      },
      "source": [
        "# saves the neighbors of the vector in dependency of k\n",
        "knn_neighbors = labels_sample[index_nearest] \n",
        "# show the neighbors\n",
        "print(knn_neighbors)"
      ],
      "execution_count": 115,
      "outputs": [
        {
          "output_type": "stream",
          "text": [
            "[[2 4 0 6 6 9 0 5 5 0]\n",
            " [2 4 0 6 5 9 0 5 5 0]\n",
            " [2 4 0 6 6 9 0 5 5 0]\n",
            " [2 4 0 6 5 9 0 5 5 0]]\n"
          ],
          "name": "stdout"
        }
      ]
    },
    {
      "cell_type": "code",
      "metadata": {
        "id": "bu-2GRm86383",
        "colab_type": "code",
        "colab": {
          "base_uri": "https://localhost:8080/",
          "height": 34
        },
        "outputId": "9e0ac184-5911-4caa-d5c5-e33ffebeffd8"
      },
      "source": [
        "# is looking for the most frequent value in the array/vector\n",
        "knn_result = stats.mode(knn_neighbors)[0]\n",
        "knn_result = knn_result[0]\n",
        "# shows the most frequent value\n",
        "knn_result"
      ],
      "execution_count": 116,
      "outputs": [
        {
          "output_type": "execute_result",
          "data": {
            "text/plain": [
              "array([2, 4, 0, 6, 5, 9, 0, 5, 5, 0], dtype=uint8)"
            ]
          },
          "metadata": {
            "tags": []
          },
          "execution_count": 116
        }
      ]
    },
    {
      "cell_type": "markdown",
      "metadata": {
        "id": "EXXgmcmQIDXe",
        "colab_type": "text"
      },
      "source": [
        "# Get the errorrate"
      ]
    },
    {
      "cell_type": "code",
      "metadata": {
        "id": "gRtQeJn169OH",
        "colab_type": "code",
        "colab": {}
      },
      "source": [
        "errors = 0\n",
        "# compares the two arrays and is looking for matches of the values? Right = true / Wrong = false\n",
        "error_rate_matrix = (test_labels_sample == knn_result)\n",
        "for b in error_rate_matrix:\n",
        "    if b == False:\n",
        "        errors += 1"
      ],
      "execution_count": 0,
      "outputs": []
    },
    {
      "cell_type": "code",
      "metadata": {
        "id": "NDqBaMYc6-N9",
        "colab_type": "code",
        "colab": {
          "base_uri": "https://localhost:8080/",
          "height": 34
        },
        "outputId": "7e1c09d7-64e1-4e9f-9ce2-71d8d57bea4b"
      },
      "source": [
        "# Calculation of the error rate\n",
        "_rate = (errors / size_test_sample) * 100. \n",
        "print(\"Error rate is: \" +str(_rate) + \" %\")"
      ],
      "execution_count": 124,
      "outputs": [
        {
          "output_type": "stream",
          "text": [
            "Error rate is: 10.0 %\n"
          ],
          "name": "stdout"
        }
      ]
    },
    {
      "cell_type": "code",
      "metadata": {
        "id": "LJOWPmNV7XJn",
        "colab_type": "code",
        "colab": {}
      },
      "source": [
        ""
      ],
      "execution_count": 0,
      "outputs": []
    }
  ]
}
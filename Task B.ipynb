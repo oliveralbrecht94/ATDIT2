{
  "nbformat": 4,
  "nbformat_minor": 0,
  "metadata": {
    "colab": {
      "name": "Untitled6.ipynb",
      "provenance": [],
      "collapsed_sections": [],
      "include_colab_link": true
    },
    "kernelspec": {
      "name": "python3",
      "display_name": "Python 3"
    }
  },
  "cells": [
    {
      "cell_type": "markdown",
      "metadata": {
        "id": "view-in-github",
        "colab_type": "text"
      },
      "source": [
        "<a href=\"https://colab.research.google.com/github/oliveralbrecht94/ATDIT2/blob/master/Task%20B.ipynb\" target=\"_parent\"><img src=\"https://colab.research.google.com/assets/colab-badge.svg\" alt=\"Open In Colab\"/></a>"
      ]
    },
    {
      "cell_type": "markdown",
      "metadata": {
        "id": "eForJzE6B1V6",
        "colab_type": "text"
      },
      "source": [
        "# **Import of needed classes**"
      ]
    },
    {
      "cell_type": "code",
      "metadata": {
        "id": "mftkLnUtB0NA",
        "colab_type": "code",
        "colab": {}
      },
      "source": [
        "import tensorflow as tf\n",
        "import numpy as np\n",
        "import matplotlib.pyplot as plt\n",
        "import seaborn as sns\n",
        "from sklearn.manifold import TSNE\n",
        "from scipy import stats\n",
        "import scipy.spatial.distance\n"
      ],
      "execution_count": 0,
      "outputs": []
    },
    {
      "cell_type": "markdown",
      "metadata": {
        "id": "b-57RfS6BkIz",
        "colab_type": "text"
      },
      "source": [
        "# Load MNIST DATASET"
      ]
    },
    {
      "cell_type": "code",
      "metadata": {
        "id": "-dCEtR2t4_6O",
        "colab_type": "code",
        "colab": {}
      },
      "source": [
        "# load MNIST in mnistdataset\n",
        "mnistdataset = tf.keras.datasets.mnist.load_data()[0]\n",
        "# load first dimension (digits/images) in digitsand second dimension (labels) in labels\n",
        "digits, labels = mnistdataset [0], mnistdataset [1]"
      ],
      "execution_count": 0,
      "outputs": []
    },
    {
      "cell_type": "code",
      "metadata": {
        "id": "HdrVbMqL5X69",
        "colab_type": "code",
        "colab": {}
      },
      "source": [
        "# load MNIST in testdataset\n",
        "testdataset = tf.keras.datasets.mnist.load_data()[1]\n",
        "# load first dimension (digits) in test_digits and second dimension (labels) in test_labels\n",
        "test_digits, test_labels = testdataset[0], testdataset[1]"
      ],
      "execution_count": 0,
      "outputs": []
    },
    {
      "cell_type": "markdown",
      "metadata": {
        "id": "37fwXBxlHqZG",
        "colab_type": "text"
      },
      "source": [
        "# Preparing Dataset"
      ]
    },
    {
      "cell_type": "code",
      "metadata": {
        "id": "SV8U_Oik5cbD",
        "colab_type": "code",
        "colab": {}
      },
      "source": [
        "# save amount of digits (from digits) in n_digits\n",
        "n_digits = digits.shape[0] \n",
        "# save amount of digitis (from test_digits) in n_test\n",
        "n_test = test_digits.shape[0] "
      ],
      "execution_count": 0,
      "outputs": []
    },
    {
      "cell_type": "code",
      "metadata": {
        "id": "EPyzjP4H5lEo",
        "colab_type": "code",
        "colab": {}
      },
      "source": [
        "# calculation of full dimension of each image 28*28\n",
        "amount_pixels = digits.shape[1] * digits.shape[2]"
      ],
      "execution_count": 0,
      "outputs": []
    },
    {
      "cell_type": "code",
      "metadata": {
        "id": "D2A1JTV85r8W",
        "colab_type": "code",
        "colab": {}
      },
      "source": [
        "# Transform to 1D vector from each matrix with the pixels of an image in order to calculate distances.\n",
        "digits = digits.reshape([n_digits, amount_pixels])\n",
        "test_digits = test_digits.reshape([n_test, amount_pixels])"
      ],
      "execution_count": 0,
      "outputs": []
    },
    {
      "cell_type": "code",
      "metadata": {
        "id": "xnh98oNS5w06",
        "colab_type": "code",
        "outputId": "c4432008-63fe-4b86-ecad-491c9dfdcbf1",
        "colab": {
          "base_uri": "https://localhost:8080/",
          "height": 35
        }
      },
      "source": [
        "# see the result\n",
        "digits.shape"
      ],
      "execution_count": 91,
      "outputs": [
        {
          "output_type": "execute_result",
          "data": {
            "text/plain": [
              "(60000, 784)"
            ]
          },
          "metadata": {
            "tags": []
          },
          "execution_count": 91
        }
      ]
    },
    {
      "cell_type": "code",
      "metadata": {
        "id": "oejd_2TB59X5",
        "colab_type": "code",
        "colab": {}
      },
      "source": [
        "# setting an index of 50.0000 between 0 and n_digits (60.000) \n",
        "index = np.random.randint(n_digits, size = 50000) \n",
        "# set up of samples \n",
        "digits_sample = digits[index]\n",
        "labels_sample = labels[index]"
      ],
      "execution_count": 0,
      "outputs": []
    },
    {
      "cell_type": "code",
      "metadata": {
        "id": "C9sOgbdq6Jcl",
        "colab_type": "code",
        "colab": {}
      },
      "source": [
        "# how much data should be consider? Size = 1000 -> 1000 numbers of the vector // it is faster!\n",
        "size_test_sample = 1000 \n",
        "index = np.random.randint(n_test, size = size_test_sample)\n",
        "test_digits_sample = test_digits[index]\n",
        "test_labels_sample = test_labels[index]"
      ],
      "execution_count": 0,
      "outputs": []
    },
    {
      "cell_type": "markdown",
      "metadata": {
        "id": "q0B3WxeJHpe-",
        "colab_type": "text"
      },
      "source": [
        "# Calculating Distances"
      ]
    },
    {
      "cell_type": "code",
      "metadata": {
        "id": "LWY7xq1g6OI5",
        "colab_type": "code",
        "colab": {}
      },
      "source": [
        "# setting up the k value \n",
        "# k = 2 \n",
        "k = 4\n",
        "# k = 8 \n",
        "# calculating the distance between each vector in dependency of k and save it in an arra\n",
        "distances = scipy.spatial.distance.cdist(digits_sample, test_digits_sample, metric='euclid')\n",
        "# calculates the next k points around the vector\n",
        "index_nearest = np.argpartition(distances, k, axis = 0)[:k] \n"
      ],
      "execution_count": 0,
      "outputs": []
    },
    {
      "cell_type": "code",
      "metadata": {
        "id": "b1UknziP6wag",
        "colab_type": "code",
        "outputId": "df778c26-531f-4fa4-80ab-c76820bfc86d",
        "colab": {
          "base_uri": "https://localhost:8080/",
          "height": 89
        }
      },
      "source": [
        "# saves the neighbors of the vector in dependency of k\n",
        "knn_neighbors = labels_sample[index_nearest] \n",
        "# show the neighbors\n",
        "print(knn_neighbors)"
      ],
      "execution_count": 95,
      "outputs": [
        {
          "output_type": "stream",
          "text": [
            "[[7 6 6 ... 7 2 2]\n",
            " [7 6 6 ... 7 2 2]\n",
            " [7 6 6 ... 7 2 2]\n",
            " [7 6 6 ... 7 2 2]]\n"
          ],
          "name": "stdout"
        }
      ]
    },
    {
      "cell_type": "code",
      "metadata": {
        "id": "bu-2GRm86383",
        "colab_type": "code",
        "outputId": "a98456fd-5843-438b-e214-b2be3a21de77",
        "colab": {
          "base_uri": "https://localhost:8080/",
          "height": 845
        }
      },
      "source": [
        "# is looking for the most frequent value in the array/vector\n",
        "knn_result = stats.mode(knn_neighbors)[0]\n",
        "knn_result = knn_result[0]\n",
        "# shows the most frequent value\n",
        "knn_result"
      ],
      "execution_count": 96,
      "outputs": [
        {
          "output_type": "execute_result",
          "data": {
            "text/plain": [
              "array([7, 6, 6, 5, 2, 3, 8, 4, 0, 9, 5, 1, 2, 8, 7, 2, 7, 9, 9, 8, 1, 3,\n",
              "       9, 9, 0, 5, 0, 8, 1, 0, 2, 5, 4, 0, 8, 4, 5, 7, 6, 8, 4, 3, 7, 7,\n",
              "       0, 8, 3, 4, 0, 3, 5, 6, 5, 6, 1, 3, 0, 6, 1, 7, 9, 0, 8, 6, 8, 7,\n",
              "       2, 4, 4, 3, 2, 0, 6, 1, 0, 2, 7, 2, 1, 6, 0, 0, 6, 7, 4, 4, 1, 3,\n",
              "       7, 8, 3, 1, 7, 6, 7, 3, 0, 7, 0, 7, 5, 9, 2, 0, 4, 0, 4, 0, 4, 0,\n",
              "       4, 9, 7, 4, 1, 0, 4, 2, 4, 7, 6, 2, 9, 8, 7, 7, 1, 2, 3, 4, 5, 0,\n",
              "       7, 3, 1, 2, 5, 7, 0, 4, 2, 6, 7, 3, 6, 8, 8, 8, 7, 4, 4, 8, 2, 3,\n",
              "       8, 8, 1, 7, 1, 0, 1, 7, 2, 3, 1, 7, 9, 3, 9, 4, 5, 0, 0, 1, 0, 5,\n",
              "       3, 7, 1, 6, 9, 3, 8, 7, 6, 1, 0, 1, 2, 6, 0, 5, 6, 9, 9, 6, 8, 8,\n",
              "       4, 0, 5, 5, 5, 3, 7, 7, 7, 7, 2, 7, 2, 6, 2, 7, 8, 6, 1, 4, 1, 3,\n",
              "       5, 0, 8, 5, 0, 6, 1, 3, 8, 0, 7, 5, 3, 1, 0, 3, 5, 6, 3, 6, 2, 6,\n",
              "       1, 7, 6, 7, 4, 3, 0, 7, 4, 0, 6, 9, 7, 4, 9, 7, 7, 3, 7, 4, 0, 7,\n",
              "       2, 6, 0, 4, 5, 5, 1, 3, 1, 1, 2, 9, 8, 6, 5, 1, 5, 9, 2, 6, 3, 2,\n",
              "       0, 0, 2, 5, 6, 2, 0, 0, 1, 9, 5, 2, 0, 9, 4, 9, 7, 1, 4, 7, 9, 3,\n",
              "       8, 7, 4, 5, 8, 4, 8, 4, 5, 8, 8, 1, 9, 3, 9, 4, 0, 9, 2, 2, 7, 7,\n",
              "       1, 1, 8, 8, 7, 5, 4, 3, 4, 0, 9, 1, 7, 5, 0, 9, 5, 3, 6, 6, 2, 0,\n",
              "       6, 8, 4, 0, 8, 6, 9, 2, 1, 4, 6, 0, 8, 5, 3, 1, 0, 8, 7, 7, 2, 9,\n",
              "       8, 1, 2, 8, 1, 8, 2, 3, 7, 5, 1, 0, 9, 3, 7, 4, 8, 6, 8, 1, 6, 3,\n",
              "       0, 0, 8, 0, 9, 0, 0, 0, 3, 1, 5, 1, 1, 1, 4, 5, 0, 3, 6, 4, 5, 8,\n",
              "       1, 8, 3, 5, 7, 1, 1, 4, 6, 6, 3, 6, 7, 6, 9, 1, 0, 9, 3, 1, 7, 7,\n",
              "       4, 1, 2, 6, 8, 2, 9, 5, 6, 1, 8, 5, 2, 7, 1, 5, 6, 8, 8, 6, 9, 1,\n",
              "       4, 5, 8, 6, 8, 5, 8, 7, 7, 4, 4, 1, 0, 9, 6, 7, 3, 1, 6, 3, 5, 5,\n",
              "       5, 0, 6, 7, 6, 1, 1, 7, 2, 2, 6, 1, 6, 0, 4, 3, 4, 0, 4, 4, 6, 9,\n",
              "       1, 0, 0, 0, 7, 9, 7, 5, 6, 7, 5, 5, 5, 6, 6, 8, 1, 9, 8, 8, 2, 9,\n",
              "       2, 0, 4, 0, 0, 7, 0, 0, 7, 3, 0, 6, 5, 2, 2, 1, 5, 3, 5, 1, 7, 4,\n",
              "       3, 8, 1, 2, 0, 2, 1, 1, 9, 9, 6, 2, 1, 3, 4, 3, 4, 2, 9, 7, 4, 6,\n",
              "       4, 5, 8, 7, 1, 7, 4, 8, 7, 6, 1, 6, 0, 0, 1, 0, 1, 3, 3, 4, 7, 2,\n",
              "       8, 9, 2, 8, 1, 0, 0, 5, 8, 9, 1, 8, 1, 7, 3, 7, 8, 6, 7, 0, 3, 8,\n",
              "       7, 9, 8, 5, 6, 7, 2, 7, 3, 9, 3, 1, 5, 9, 7, 2, 5, 9, 9, 0, 1, 4,\n",
              "       0, 2, 4, 5, 2, 0, 8, 8, 0, 7, 7, 0, 7, 9, 9, 7, 7, 1, 7, 8, 2, 4,\n",
              "       5, 5, 3, 5, 3, 0, 6, 1, 4, 0, 5, 1, 8, 9, 3, 3, 3, 8, 6, 2, 7, 4,\n",
              "       0, 3, 5, 3, 5, 2, 2, 1, 0, 1, 4, 7, 1, 9, 1, 1, 2, 2, 5, 3, 9, 1,\n",
              "       6, 6, 0, 3, 4, 3, 9, 0, 4, 2, 9, 6, 6, 4, 9, 5, 1, 8, 5, 9, 0, 7,\n",
              "       0, 8, 3, 0, 4, 4, 5, 5, 7, 1, 7, 1, 2, 9, 5, 3, 0, 3, 6, 8, 7, 2,\n",
              "       3, 1, 1, 9, 6, 4, 7, 8, 9, 1, 0, 0, 9, 0, 1, 7, 3, 7, 7, 9, 9, 6,\n",
              "       7, 6, 8, 2, 7, 9, 6, 9, 7, 5, 1, 0, 8, 7, 4, 3, 8, 3, 3, 6, 4, 4,\n",
              "       6, 6, 2, 7, 6, 4, 6, 4, 6, 9, 6, 7, 5, 3, 6, 6, 0, 1, 6, 0, 6, 1,\n",
              "       4, 9, 1, 9, 3, 6, 3, 6, 0, 7, 3, 7, 4, 2, 7, 1, 7, 6, 4, 4, 6, 3,\n",
              "       5, 5, 7, 5, 6, 0, 7, 2, 1, 7, 1, 1, 2, 2, 9, 1, 8, 5, 5, 0, 9, 4,\n",
              "       1, 4, 9, 3, 5, 8, 2, 1, 8, 7, 3, 1, 3, 0, 5, 7, 7, 2, 2, 9, 7, 8,\n",
              "       6, 7, 8, 0, 3, 0, 3, 5, 1, 2, 8, 1, 7, 3, 2, 2, 0, 7, 2, 5, 8, 9,\n",
              "       3, 2, 2, 3, 4, 5, 2, 6, 1, 5, 1, 3, 2, 2, 5, 6, 7, 7, 0, 1, 1, 2,\n",
              "       3, 8, 6, 4, 2, 1, 1, 5, 0, 9, 7, 9, 4, 8, 5, 6, 0, 5, 8, 2, 2, 2,\n",
              "       9, 0, 6, 2, 0, 3, 2, 1, 1, 2, 1, 4, 7, 0, 1, 9, 5, 2, 5, 7, 9, 7,\n",
              "       4, 3, 7, 3, 5, 3, 2, 3, 4, 9, 1, 8, 1, 8, 3, 2, 2, 8, 6, 8, 8, 5,\n",
              "       5, 7, 6, 4, 2, 3, 1, 7, 2, 2], dtype=uint8)"
            ]
          },
          "metadata": {
            "tags": []
          },
          "execution_count": 96
        }
      ]
    },
    {
      "cell_type": "markdown",
      "metadata": {
        "id": "EXXgmcmQIDXe",
        "colab_type": "text"
      },
      "source": [
        "# Get the global errorrate"
      ]
    },
    {
      "cell_type": "code",
      "metadata": {
        "id": "gRtQeJn169OH",
        "colab_type": "code",
        "colab": {}
      },
      "source": [
        "errors = 0\n",
        "# compares the two arrays and is looking for matches of the values? Right = true / Wrong = false\n",
        "error_rate_matrix = (test_labels_sample == knn_result)\n",
        "for b in error_rate_matrix:\n",
        "    if b == False:\n",
        "        errors += 1\n",
        "\n"
      ],
      "execution_count": 0,
      "outputs": []
    },
    {
      "cell_type": "code",
      "metadata": {
        "id": "DaC5QnXrBu9x",
        "colab_type": "code",
        "colab": {
          "base_uri": "https://localhost:8080/",
          "height": 53
        },
        "outputId": "d88c7791-bcb8-4942-9a10-2c291f8240de"
      },
      "source": [
        "np.unique(test_labels_sample, return_counts=True)"
      ],
      "execution_count": 98,
      "outputs": [
        {
          "output_type": "execute_result",
          "data": {
            "text/plain": [
              "(array([0, 1, 2, 3, 4, 5, 6, 7, 8, 9], dtype=uint8),\n",
              " array([109, 117,  96,  94,  86,  91, 101, 123,  98,  85]))"
            ]
          },
          "metadata": {
            "tags": []
          },
          "execution_count": 98
        }
      ]
    },
    {
      "cell_type": "code",
      "metadata": {
        "id": "NDqBaMYc6-N9",
        "colab_type": "code",
        "outputId": "722d9cf3-9a97-440a-86e3-3899bb314515",
        "colab": {
          "base_uri": "https://localhost:8080/",
          "height": 35
        }
      },
      "source": [
        "# Calculation of the error rate\n",
        "_rate = (errors / size_test_sample) * 100. \n",
        "print(\"Global error rate is: \" +str(_rate) + \" %\")"
      ],
      "execution_count": 99,
      "outputs": [
        {
          "output_type": "stream",
          "text": [
            "Global error rate is: 3.6999999999999997 %\n"
          ],
          "name": "stdout"
        }
      ]
    },
    {
      "cell_type": "markdown",
      "metadata": {
        "id": "R8AVrR0-GteR",
        "colab_type": "text"
      },
      "source": [
        "# Get the individual errorrate"
      ]
    },
    {
      "cell_type": "code",
      "metadata": {
        "id": "LJOWPmNV7XJn",
        "colab_type": "code",
        "colab": {}
      },
      "source": [
        "indi_error ={0:0,1:0,2:0,3:0,4:0,5:0,6:0,7:0,8:0,9:0}\n",
        "total = {0:0,1:0,2:0,3:0,4:0,5:0,6:0,7:0,8:0,9:0}\n",
        "for i in range(len(test_labels_sample)):\n",
        "  if test_labels_sample[i]!= knn_result[i]:\n",
        "    # speicher das die zahl falsch war\n",
        "    indi_error[test_labels_sample[i]] +=1\n",
        "    total[test_labels_sample[i]] +=1\n",
        "  else:\n",
        "    # speicher das die zahl richtig war\n",
        "    total[test_labels_sample[i]] +=1"
      ],
      "execution_count": 0,
      "outputs": []
    },
    {
      "cell_type": "code",
      "metadata": {
        "id": "h3A_2PvDDpPF",
        "colab_type": "code",
        "colab": {
          "base_uri": "https://localhost:8080/",
          "height": 35
        },
        "outputId": "a1980290-0d32-4b84-ca1f-871e4dda770f"
      },
      "source": [
        "total"
      ],
      "execution_count": 101,
      "outputs": [
        {
          "output_type": "execute_result",
          "data": {
            "text/plain": [
              "{0: 109, 1: 117, 2: 96, 3: 94, 4: 86, 5: 91, 6: 101, 7: 123, 8: 98, 9: 85}"
            ]
          },
          "metadata": {
            "tags": []
          },
          "execution_count": 101
        }
      ]
    },
    {
      "cell_type": "code",
      "metadata": {
        "id": "kpx_rN6uDqGb",
        "colab_type": "code",
        "colab": {
          "base_uri": "https://localhost:8080/",
          "height": 35
        },
        "outputId": "b68f1203-5881-486b-c8e1-403c3332e122"
      },
      "source": [
        "indi_error"
      ],
      "execution_count": 102,
      "outputs": [
        {
          "output_type": "execute_result",
          "data": {
            "text/plain": [
              "{0: 0, 1: 0, 2: 3, 3: 3, 4: 3, 5: 4, 6: 2, 7: 3, 8: 10, 9: 9}"
            ]
          },
          "metadata": {
            "tags": []
          },
          "execution_count": 102
        }
      ]
    },
    {
      "cell_type": "code",
      "metadata": {
        "id": "iLoN9aXkFuxC",
        "colab_type": "code",
        "colab": {
          "base_uri": "https://localhost:8080/",
          "height": 197
        },
        "outputId": "5126ba3d-6ebb-4c7f-d394-2c18e7b76428"
      },
      "source": [
        "errorrate = {}\n",
        "for j in range(0,10):\n",
        "  errorrate[j] = (indi_error[j]/total[j]) * 100\n",
        "  print(errorrate[j])\n"
      ],
      "execution_count": 105,
      "outputs": [
        {
          "output_type": "stream",
          "text": [
            "0.0\n",
            "0.0\n",
            "3.125\n",
            "3.1914893617021276\n",
            "3.488372093023256\n",
            "4.395604395604396\n",
            "1.9801980198019802\n",
            "2.4390243902439024\n",
            "10.204081632653061\n",
            "10.588235294117647\n"
          ],
          "name": "stdout"
        }
      ]
    },
    {
      "cell_type": "code",
      "metadata": {
        "id": "Lex66bz9EnaF",
        "colab_type": "code",
        "colab": {
          "base_uri": "https://localhost:8080/",
          "height": 197
        },
        "outputId": "ff1d3aa0-54f3-441a-eadd-5e4f2bb1b69e"
      },
      "source": [
        "for i in range(len(errorrate)):\n",
        "  print(\"Error rate for number \"+ str(i) +\" is \"+ str(errorrate[i]))"
      ],
      "execution_count": 106,
      "outputs": [
        {
          "output_type": "stream",
          "text": [
            "Error rate for number 0 is 0.0\n",
            "Error rate for number 1 is 0.0\n",
            "Error rate for number 2 is 3.125\n",
            "Error rate for number 3 is 3.1914893617021276\n",
            "Error rate for number 4 is 3.488372093023256\n",
            "Error rate for number 5 is 4.395604395604396\n",
            "Error rate for number 6 is 1.9801980198019802\n",
            "Error rate for number 7 is 2.4390243902439024\n",
            "Error rate for number 8 is 10.204081632653061\n",
            "Error rate for number 9 is 10.588235294117647\n"
          ],
          "name": "stdout"
        }
      ]
    },
    {
      "cell_type": "code",
      "metadata": {
        "id": "zgzImCjME9m4",
        "colab_type": "code",
        "colab": {}
      },
      "source": [
        ""
      ],
      "execution_count": 0,
      "outputs": []
    }
  ]
}
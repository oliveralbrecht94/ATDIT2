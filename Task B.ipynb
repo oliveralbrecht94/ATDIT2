{
  "nbformat": 4,
  "nbformat_minor": 0,
  "metadata": {
    "colab": {
      "name": "Untitled6.ipynb",
      "provenance": [],
      "collapsed_sections": [],
      "include_colab_link": true
    },
    "kernelspec": {
      "name": "python3",
      "display_name": "Python 3"
    }
  },
  "cells": [
    {
      "cell_type": "markdown",
      "metadata": {
        "id": "view-in-github",
        "colab_type": "text"
      },
      "source": [
        "<a href=\"https://colab.research.google.com/github/oliveralbrecht94/ATDIT2/blob/master/Task%20B.ipynb\" target=\"_parent\"><img src=\"https://colab.research.google.com/assets/colab-badge.svg\" alt=\"Open In Colab\"/></a>"
      ]
    },
    {
      "cell_type": "markdown",
      "metadata": {
        "id": "eForJzE6B1V6",
        "colab_type": "text"
      },
      "source": [
        "# **Import of needed classes**"
      ]
    },
    {
      "cell_type": "code",
      "metadata": {
        "id": "mftkLnUtB0NA",
        "colab_type": "code",
        "colab": {}
      },
      "source": [
        "import tensorflow as tf\n",
        "import numpy as np\n",
        "import matplotlib.pyplot as plt\n",
        "import seaborn as sns\n",
        "from sklearn.manifold import TSNE\n",
        "from scipy import stats\n",
        "import scipy.spatial.distance\n"
      ],
      "execution_count": 0,
      "outputs": []
    },
    {
      "cell_type": "markdown",
      "metadata": {
        "id": "b-57RfS6BkIz",
        "colab_type": "text"
      },
      "source": [
        "# Load MNIST DATASET"
      ]
    },
    {
      "cell_type": "code",
      "metadata": {
        "id": "-dCEtR2t4_6O",
        "colab_type": "code",
        "colab": {}
      },
      "source": [
        "# load MNIST in mnistdataset\n",
        "mnistdataset = tf.keras.datasets.mnist.load_data()[0]\n",
        "# load first dimension (digits/images) in digitsand second dimension (labels) in labels\n",
        "digits, labels = mnistdataset [0], mnistdataset [1]"
      ],
      "execution_count": 0,
      "outputs": []
    },
    {
      "cell_type": "code",
      "metadata": {
        "id": "HdrVbMqL5X69",
        "colab_type": "code",
        "colab": {}
      },
      "source": [
        "# load MNIST in testdataset\n",
        "testdataset = tf.keras.datasets.mnist.load_data()[1]\n",
        "# load first dimension (digits) in test_digits and second dimension (labels) in test_labels\n",
        "test_digits, test_labels = testdataset[0], testdataset[1]"
      ],
      "execution_count": 0,
      "outputs": []
    },
    {
      "cell_type": "markdown",
      "metadata": {
        "id": "37fwXBxlHqZG",
        "colab_type": "text"
      },
      "source": [
        "# Preparing Dataset"
      ]
    },
    {
      "cell_type": "code",
      "metadata": {
        "id": "SV8U_Oik5cbD",
        "colab_type": "code",
        "colab": {}
      },
      "source": [
        "# save amount of digits (from digits) in n_digits\n",
        "n_digits = digits.shape[0] \n",
        "# save amount of digitis (from test_digits) in n_test\n",
        "n_test = test_digits.shape[0] "
      ],
      "execution_count": 0,
      "outputs": []
    },
    {
      "cell_type": "code",
      "metadata": {
        "id": "EPyzjP4H5lEo",
        "colab_type": "code",
        "colab": {}
      },
      "source": [
        "# calculation of full dimension of each image 28*28\n",
        "amount_pixels = digits.shape[1] * digits.shape[2]"
      ],
      "execution_count": 0,
      "outputs": []
    },
    {
      "cell_type": "code",
      "metadata": {
        "id": "D2A1JTV85r8W",
        "colab_type": "code",
        "colab": {}
      },
      "source": [
        "# Transform to 1D vector from each matrix with the pixels of an image in order to calculate distances.\n",
        "digits = digits.reshape([n_digits, amount_pixels])\n",
        "test_digits = test_digits.reshape([n_test, amount_pixels])"
      ],
      "execution_count": 0,
      "outputs": []
    },
    {
      "cell_type": "code",
      "metadata": {
        "id": "xnh98oNS5w06",
        "colab_type": "code",
        "outputId": "065ed1c4-4119-4bc2-f7c3-831ac1ad9c94",
        "colab": {
          "base_uri": "https://localhost:8080/",
          "height": 34
        }
      },
      "source": [
        "# see the result\n",
        "digits.shape"
      ],
      "execution_count": 51,
      "outputs": [
        {
          "output_type": "execute_result",
          "data": {
            "text/plain": [
              "(60000, 784)"
            ]
          },
          "metadata": {
            "tags": []
          },
          "execution_count": 51
        }
      ]
    },
    {
      "cell_type": "code",
      "metadata": {
        "id": "oejd_2TB59X5",
        "colab_type": "code",
        "colab": {}
      },
      "source": [
        "# setting an index of 50.0000 between 0 and n_digits (60.000) \n",
        "index = np.random.randint(n_digits, size = 50000) \n",
        "# set up of samples \n",
        "digits_sample = digits[index]\n",
        "labels_sample = labels[index]"
      ],
      "execution_count": 0,
      "outputs": []
    },
    {
      "cell_type": "code",
      "metadata": {
        "id": "C9sOgbdq6Jcl",
        "colab_type": "code",
        "colab": {}
      },
      "source": [
        "# how much data should be consider? Size = 3000 -> 3000 numbers of the vector // it is faster!\n",
        "size_test_sample = 3000 \n",
        "index = np.random.randint(n_test, size = size_test_sample)\n",
        "test_digits_sample = test_digits[index]\n",
        "test_labels_sample = test_labels[index]"
      ],
      "execution_count": 0,
      "outputs": []
    },
    {
      "cell_type": "markdown",
      "metadata": {
        "id": "q0B3WxeJHpe-",
        "colab_type": "text"
      },
      "source": [
        "# Calculating Distances"
      ]
    },
    {
      "cell_type": "code",
      "metadata": {
        "id": "LWY7xq1g6OI5",
        "colab_type": "code",
        "colab": {}
      },
      "source": [
        "# setting up the k value \n",
        "# k = 2 \n",
        "#k = 4\n",
        " k = 8 \n",
        "# calculating the distance between each vector in dependency of k and save it in an arra\n",
        "distances = scipy.spatial.distance.cdist(digits_sample, test_digits_sample, metric='euclid')\n",
        "# calculates the next k points around the vector\n",
        "index_nearest = np.argpartition(distances, k, axis = 0)[:k] \n"
      ],
      "execution_count": 0,
      "outputs": []
    },
    {
      "cell_type": "code",
      "metadata": {
        "id": "b1UknziP6wag",
        "colab_type": "code",
        "outputId": "47451cd0-f730-41a5-cc38-4c6fa72f3d59",
        "colab": {
          "base_uri": "https://localhost:8080/",
          "height": 139
        }
      },
      "source": [
        "# saves the neighbors of the vector in dependency of k\n",
        "knn_neighbors = labels_sample[index_nearest] \n",
        "# show the neighbors\n",
        "#print(knn_neighbors)"
      ],
      "execution_count": 66,
      "outputs": [
        {
          "output_type": "stream",
          "text": [
            "[[9 8 6 ... 2 1 0]\n",
            " [4 8 6 ... 2 1 0]\n",
            " [4 8 6 ... 2 1 0]\n",
            " ...\n",
            " [4 8 6 ... 2 1 0]\n",
            " [4 8 6 ... 2 1 0]\n",
            " [4 8 6 ... 2 1 0]]\n"
          ],
          "name": "stdout"
        }
      ]
    },
    {
      "cell_type": "code",
      "metadata": {
        "id": "bu-2GRm86383",
        "colab_type": "code",
        "outputId": "0aecb0c4-1900-4263-805c-2846e6260276",
        "colab": {
          "base_uri": "https://localhost:8080/",
          "height": 34
        }
      },
      "source": [
        "# is looking for the most frequent value in the array/vector\n",
        "knn_result = stats.mode(knn_neighbors)[0]\n",
        "knn_result = knn_result[0]\n",
        "# shows the most frequent value\n",
        "knn_result"
      ],
      "execution_count": 67,
      "outputs": [
        {
          "output_type": "execute_result",
          "data": {
            "text/plain": [
              "array([4, 8, 6, ..., 2, 1, 0], dtype=uint8)"
            ]
          },
          "metadata": {
            "tags": []
          },
          "execution_count": 67
        }
      ]
    },
    {
      "cell_type": "markdown",
      "metadata": {
        "id": "EXXgmcmQIDXe",
        "colab_type": "text"
      },
      "source": [
        "# Get the global errorrate"
      ]
    },
    {
      "cell_type": "code",
      "metadata": {
        "id": "gRtQeJn169OH",
        "colab_type": "code",
        "colab": {}
      },
      "source": [
        "errors = 0\n",
        "# compares the two arrays and is looking for matches of the values? Right = true / Wrong = false\n",
        "error_rate_matrix = (test_labels_sample == knn_result)\n",
        "for b in error_rate_matrix:\n",
        "    if b == False:\n",
        "        errors += 1\n",
        "\n"
      ],
      "execution_count": 0,
      "outputs": []
    },
    {
      "cell_type": "code",
      "metadata": {
        "id": "DaC5QnXrBu9x",
        "colab_type": "code",
        "outputId": "0dadb440-8b81-4b6f-e203-d8c2f5e70500",
        "colab": {
          "base_uri": "https://localhost:8080/",
          "height": 52
        }
      },
      "source": [
        "np.unique(test_labels_sample, return_counts=True)"
      ],
      "execution_count": 69,
      "outputs": [
        {
          "output_type": "execute_result",
          "data": {
            "text/plain": [
              "(array([0, 1, 2, 3, 4, 5, 6, 7, 8, 9], dtype=uint8),\n",
              " array([295, 339, 282, 322, 309, 262, 309, 296, 266, 320]))"
            ]
          },
          "metadata": {
            "tags": []
          },
          "execution_count": 69
        }
      ]
    },
    {
      "cell_type": "code",
      "metadata": {
        "id": "NDqBaMYc6-N9",
        "colab_type": "code",
        "outputId": "7c44d974-fda5-4ab8-ca7e-e0a837316f56",
        "colab": {
          "base_uri": "https://localhost:8080/",
          "height": 34
        }
      },
      "source": [
        "# Calculation of the error rate\n",
        "_rate = (errors / size_test_sample) * 100. \n",
        "print(\"Global error rate is: \" +str(_rate) + \" %\")"
      ],
      "execution_count": 70,
      "outputs": [
        {
          "output_type": "stream",
          "text": [
            "Global error rate is: 4.133333333333333 %\n"
          ],
          "name": "stdout"
        }
      ]
    },
    {
      "cell_type": "markdown",
      "metadata": {
        "id": "_GzFErOqOS0I",
        "colab_type": "text"
      },
      "source": [
        "*Global error rate* for **k = 2** -> 3.9 %\n",
        "\n",
        "\n",
        "*Global error rate* for **k = 4** -> 3.5000000000000004%\n",
        "\n",
        "*Global error rate* for **k = 8** -> 4.133333333333333 %\n",
        "\n"
      ]
    },
    {
      "cell_type": "markdown",
      "metadata": {
        "id": "R8AVrR0-GteR",
        "colab_type": "text"
      },
      "source": [
        "# Get the individual errorrate"
      ]
    },
    {
      "cell_type": "code",
      "metadata": {
        "id": "LJOWPmNV7XJn",
        "colab_type": "code",
        "colab": {}
      },
      "source": [
        "indi_error ={0:0,1:0,2:0,3:0,4:0,5:0,6:0,7:0,8:0,9:0}\n",
        "total = {0:0,1:0,2:0,3:0,4:0,5:0,6:0,7:0,8:0,9:0}\n",
        "for i in range(len(test_labels_sample)):\n",
        "  if test_labels_sample[i]!= knn_result[i]:\n",
        "    # speicher das die zahl falsch war\n",
        "    indi_error[test_labels_sample[i]] +=1\n",
        "    total[test_labels_sample[i]] +=1\n",
        "  else:\n",
        "    # speicher das die zahl richtig war\n",
        "    total[test_labels_sample[i]] +=1"
      ],
      "execution_count": 0,
      "outputs": []
    },
    {
      "cell_type": "code",
      "metadata": {
        "id": "iLoN9aXkFuxC",
        "colab_type": "code",
        "colab": {}
      },
      "source": [
        "errorrate = {}\n",
        "for j in range(0,10):\n",
        "  errorrate[j] = (indi_error[j]/total[j]) * 100\n",
        "  #print(errorrate[j])\n"
      ],
      "execution_count": 0,
      "outputs": []
    },
    {
      "cell_type": "code",
      "metadata": {
        "id": "Lex66bz9EnaF",
        "colab_type": "code",
        "outputId": "a34ec7e1-df0b-405c-da6a-4f58f560b0f4",
        "colab": {
          "base_uri": "https://localhost:8080/",
          "height": 191
        }
      },
      "source": [
        "for i in range(len(errorrate)):\n",
        "  #print(\"Error rate for number \"+ str(i) +\" is \"+ str(errorrate[i]))"
      ],
      "execution_count": 75,
      "outputs": [
        {
          "output_type": "stream",
          "text": [
            "Error rate for number 0 is 1.3559322033898304\n",
            "Error rate for number 1 is 0.2949852507374631\n",
            "Error rate for number 2 is 6.73758865248227\n",
            "Error rate for number 3 is 4.658385093167702\n",
            "Error rate for number 4 is 3.559870550161812\n",
            "Error rate for number 5 is 4.198473282442748\n",
            "Error rate for number 6 is 1.9417475728155338\n",
            "Error rate for number 7 is 3.7162162162162162\n",
            "Error rate for number 8 is 9.774436090225564\n",
            "Error rate for number 9 is 6.25\n"
          ],
          "name": "stdout"
        }
      ]
    },
    {
      "cell_type": "markdown",
      "metadata": {
        "id": "QMNJvMzELr-m",
        "colab_type": "text"
      },
      "source": [
        "each error rate for **k = 2**:\n",
        "\n",
        "* Error rate for number 0 is 1.3559322033898304\n",
        "* Error rate for number 1 is 0.0\n",
        "* Error rate for number 2 is 4.609929078014184\n",
        "* Error rate for number 3 is 4.037267080745342\n",
        "* Error rate for number 4 is 3.559870550161812\n",
        "* Error rate for number 5 is 2.6717557251908395\n",
        "* Error rate for number 6 is 1.2944983818770228\n",
        "* Error rate for number 7 is 4.391891891891892\n",
        "* Error rate for number 8 is 10.526315789473683\n",
        "* Error rate for number 9 is 7.5"
      ]
    },
    {
      "cell_type": "markdown",
      "metadata": {
        "id": "cyGeEy1FK8Vt",
        "colab_type": "text"
      },
      "source": [
        "\n",
        "each error rate for **k = 4**:\n",
        "\n",
        "\n",
        "* Error rate for number 0 is 0.3731343283582089\n",
        "* Error rate for number 1 is 0.5555555555555556\n",
        "* Error rate for number 2 is 4.398826979472141\n",
        "* Error rate for number 3 is 4.693140794223827\n",
        "* Error rate for number 4 is 3.296703296703297\n",
        "* Error rate for number 5 is 6.177606177606178\n",
        "* Error rate for number 6 is 2.083333333333333\n",
        "* Error rate for number 7 is 3.303303303303303\n",
        "* Error rate for number 8 is 7.000000000000001\n",
        "* Error rate for number 9 is 3.6544850498338874\n",
        "\n",
        "\n",
        "\n",
        "\n"
      ]
    },
    {
      "cell_type": "markdown",
      "metadata": {
        "id": "7WEGO2XiN8Qy",
        "colab_type": "text"
      },
      "source": [
        "each error rate for **k = 8**:\n",
        "* Error rate for number 0 is 1.3559322033898304\n",
        "* Error rate for number 1 is 0.2949852507374631\n",
        "* Error rate for number 2 is 6.73758865248227\n",
        "* Error rate for number 3 is 4.658385093167702\n",
        "* Error rate for number 4 is 3.559870550161812\n",
        "* Error rate for number 5 is 4.198473282442748\n",
        "* Error rate for number 6 is 1.9417475728155338\n",
        "* Error rate for number 7 is 3.7162162162162162\n",
        "* Error rate for number 8 is 9.774436090225564\n",
        "*Error rate for number 9 is 6.25"
      ]
    },
    {
      "cell_type": "markdown",
      "metadata": {
        "id": "KDuNI8hpOrIK",
        "colab_type": "text"
      },
      "source": [
        "# The choice of k\n",
        "\n",
        "As we can see, the error rate at k = 4 is lowest while k = 8 and k = 2 are worse. \n",
        "\n",
        "At k = 4 the best predictions are made.\n",
        "\n",
        "Choosing the right value of k is a process called parameter tuning, and is important for better accuracy. A lower value of k means that noise will have a bigger impacton the result and a higher k make it more expensive. But a higher value of k has lesser chance of error.\n",
        "\n",
        "We found out, that this approach could be possible:\n",
        " k= sqrt(n) -> where n the number of data points is"
      ]
    },
    {
      "cell_type": "code",
      "metadata": {
        "id": "K95f4mKLQJmL",
        "colab_type": "code",
        "colab": {}
      },
      "source": [
        ""
      ],
      "execution_count": 0,
      "outputs": []
    }
  ]
}
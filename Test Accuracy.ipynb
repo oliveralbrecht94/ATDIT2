{
  "nbformat": 4,
  "nbformat_minor": 0,
  "metadata": {
    "colab": {
      "name": "Copy of Untitled3.ipynb",
      "provenance": [],
      "collapsed_sections": [],
      "include_colab_link": true
    },
    "kernelspec": {
      "name": "python3",
      "display_name": "Python 3"
    }
  },
  "cells": [
    {
      "cell_type": "markdown",
      "metadata": {
        "id": "view-in-github",
        "colab_type": "text"
      },
      "source": [
        "<a href=\"https://colab.research.google.com/github/oliveralbrecht94/ATDIT2/blob/master/Test%20Accuracy.ipynb\" target=\"_parent\"><img src=\"https://colab.research.google.com/assets/colab-badge.svg\" alt=\"Open In Colab\"/></a>"
      ]
    },
    {
      "cell_type": "code",
      "metadata": {
        "id": "wourZPCQwtiW",
        "colab_type": "code",
        "colab": {}
      },
      "source": [
        "#import all needed classes\n",
        "\n",
        "import tensorflow as tf\n",
        "import numpy as np\n",
        "from sklearn.neighbors import KNeighborsClassifier\n",
        "from sklearn.metrics import classification_report\n",
        "import matplotlib.pyplot as plt\n",
        "from sklearn.metrics import f1_score\n",
        "import pandas as pd"
      ],
      "execution_count": 0,
      "outputs": []
    },
    {
      "cell_type": "code",
      "metadata": {
        "id": "zpAtcCuuxper",
        "colab_type": "code",
        "colab": {}
      },
      "source": [
        "# laden der Trainingsdaten\n",
        "train = tf.keras.datasets.mnist.load_data()[0]\n",
        "X_train, Y_train = train[0], train[1]\n",
        "# laden der Testsdaten\n",
        "test = tf.keras.datasets.mnist.load_data()[1]\n",
        "X_test, Y_test = test[0], test[1]\n",
        "\n",
        "# Vektorgröße wird kopiert\n",
        "n_train = X_train.shape[0]\n",
        "n_test = X_test.shape[0]\n",
        "\n",
        "m = X_train.shape[1]**2"
      ],
      "execution_count": 0,
      "outputs": []
    },
    {
      "cell_type": "code",
      "metadata": {
        "id": "k922WoY759Wi",
        "colab_type": "code",
        "outputId": "8d425d7d-faae-4df8-fa90-9553298f7441",
        "colab": {
          "base_uri": "https://localhost:8080/",
          "height": 34
        }
      },
      "source": [
        "X_test.shape"
      ],
      "execution_count": 0,
      "outputs": [
        {
          "output_type": "execute_result",
          "data": {
            "text/plain": [
              "(10000, 28, 28)"
            ]
          },
          "metadata": {
            "tags": []
          },
          "execution_count": 21
        }
      ]
    },
    {
      "cell_type": "code",
      "metadata": {
        "id": "Pi2Ww88u5-Tg",
        "colab_type": "code",
        "colab": {}
      },
      "source": [
        "X_train = X_train.reshape([n_train, m])\n",
        "X_test = X_test.reshape([n_test, m])"
      ],
      "execution_count": 0,
      "outputs": []
    },
    {
      "cell_type": "code",
      "metadata": {
        "id": "DvXeaP045_gG",
        "colab_type": "code",
        "outputId": "f8c36fd2-8940-4dc8-d0b2-f0e23dbf81ac",
        "colab": {
          "base_uri": "https://localhost:8080/",
          "height": 34
        }
      },
      "source": [
        "X_train.shape"
      ],
      "execution_count": 0,
      "outputs": [
        {
          "output_type": "execute_result",
          "data": {
            "text/plain": [
              "(60000, 784)"
            ]
          },
          "metadata": {
            "tags": []
          },
          "execution_count": 23
        }
      ]
    },
    {
      "cell_type": "code",
      "metadata": {
        "id": "dwyBJfNJ6pZh",
        "colab_type": "code",
        "colab": {}
      },
      "source": [
        "# creating the KNN models with k = 2,4,8\n",
        "k = 2\n",
        "# k = 4\n",
        "# k = 8\n",
        "knn_k = KNeighborsClassifier(n_neighbors=k)"
      ],
      "execution_count": 0,
      "outputs": []
    },
    {
      "cell_type": "code",
      "metadata": {
        "id": "0YHI6ML17Hfo",
        "colab_type": "code",
        "outputId": "9eee5d37-2db9-4913-ee14-eb97f11a68f1",
        "colab": {
          "base_uri": "https://localhost:8080/",
          "height": 67
        }
      },
      "source": [
        "#Fit the model using x_train_flat as training data and y as y_train\n",
        "knn_k.fit(X_train, Y_train)"
      ],
      "execution_count": 0,
      "outputs": [
        {
          "output_type": "execute_result",
          "data": {
            "text/plain": [
              "KNeighborsClassifier(algorithm='auto', leaf_size=30, metric='minkowski',\n",
              "                     metric_params=None, n_jobs=None, n_neighbors=2, p=2,\n",
              "                     weights='uniform')"
            ]
          },
          "metadata": {
            "tags": []
          },
          "execution_count": 25
        }
      ]
    },
    {
      "cell_type": "code",
      "metadata": {
        "id": "6zv50Exa7SZu",
        "colab_type": "code",
        "colab": {}
      },
      "source": [
        "knn_k_predictions = knn_k.predict(X_test)"
      ],
      "execution_count": 0,
      "outputs": []
    },
    {
      "cell_type": "code",
      "metadata": {
        "id": "H49i5zGt-02V",
        "colab_type": "code",
        "colab": {}
      },
      "source": [
        "report = classification_report(Y_test, knn_k_predictions)"
      ],
      "execution_count": 0,
      "outputs": []
    },
    {
      "cell_type": "code",
      "metadata": {
        "id": "8j5LPFJ1AH5u",
        "colab_type": "code",
        "outputId": "fc084c40-94a9-4dc0-f696-718e54cb8d41",
        "colab": {
          "base_uri": "https://localhost:8080/",
          "height": 756
        }
      },
      "source": [
        "accuracy = 0\n",
        "\n",
        "# loop over (sample, reconstructed label)\n",
        "for sample, label in zip(X_test, Y_test):\n",
        "  # determine true label\n",
        "  if sample[0] < 1 and sample[1] < 1:\n",
        "    true_label = 0\n",
        "  elif sample[0] > 1 and sample[1] > 1:\n",
        "    true_label = 1\n",
        "  elif sample[0] < 1 and sample[1] > 1:\n",
        "    true_label = 2\n",
        "  else:\n",
        "    true_label = 3\n",
        "\n",
        "  if true_label == label: accuracy += 1\n",
        "\n",
        "accuracy /= len(X_test)\n",
        "\n",
        "print(sample, label, accuracy)"
      ],
      "execution_count": 0,
      "outputs": [
        {
          "output_type": "stream",
          "text": [
            "[  0   0   0   0   0   0   0   0   0   0   0   0   0   0   0   0   0   0\n",
            "   0   0   0   0   0   0   0   0   0   0   0   0   0   0   0   0   0   0\n",
            "   0   0   0   0   0   0   0   0   0   0   0   0   0   0   0   0   0   0\n",
            "   0   0   0   0   0   0   0   0   0   0   0   0   0   0   0   0   0   0\n",
            "   0   8 117 254 220  89   0   0   0   0   0   0   0   0   0   0   0   0\n",
            "   0   0   0   0   0   0   0   0   0  13  95 212 253 253 253 157   0   0\n",
            "   0   0   0   0   0   0   0   0   0   0   0   0   0   0   0   0   0  16\n",
            "  95 209 253 253 253 245 125  18   0   0   0   0   0   0   0   0   0   0\n",
            "   0   0   0   0   0   0   0  40  96 206 253 254 253 253 198  64   0   0\n",
            "   0   0   0   0   0   0   0   0   0   0   0   0   0   0   0  44 182 240\n",
            " 253 253 253 254 253 198  24   0   0   0   0   0   0   0   0   0   0   0\n",
            "   0   0   0   0   0   0   0  15  60  60 168 253 253 254 200  23   0   0\n",
            "   0   0   0   0   0   0   0   0   0   0   0   0   0   0   0   0   0   0\n",
            "   0  70 247 253 253 245  21   0   0   0   0   0   0   0   0   0   0   0\n",
            "   0   0   0   0   0   0   0   0   0   0  75 207 253 253 207  92   0   0\n",
            "   0   0   0   0   0   0   0   0   0   0   0   0   0   0   0   0   0   0\n",
            "   0  79 219 253 253 253 138   0   0   0   0   0   0   0   0   0   0   0\n",
            "   0   0   0   0   0   0   0   0   0   0 105 250 253 253 253  34   1   0\n",
            "   0   0   0   0   0   0   0   0   0   0   0   0   0   0   0   0   0   0\n",
            "   0  95 254 254 254 254  94   0   0   0   0   0   3  13  13  13   8   0\n",
            "   0   0   0   0   0   0   0   0   0   0   0 107 253 253 253 204  15   0\n",
            "   0   0   0  21 166 253 253 253 212  25   0   0   0   0   0   0   0   0\n",
            "   0   0  33 217 253 253 132  64   0   0  18  43 157 171 253 253 253 253\n",
            " 253 160   2   0   0   0   0   0   0   0   0   3 166 253 253 242  49  17\n",
            "  49 158 210 254 253 253 253 253 253 253 253 253  11   0   0   0   0   0\n",
            "   0   0   0  10 227 253 253 207  15 172 253 253 253 254 247 201 253 210\n",
            " 210 253 253 175   4   0   0   0   0   0   0   0   0  10 228 253 253 224\n",
            "  87 242 253 253 184  60  54   9  60  35 182 253 253  52   0   0   0   0\n",
            "   0   0   0   0   0  13 253 253 253 253 231 253 253 253  93  86  86  86\n",
            " 109 217 253 253 134   5   0   0   0   0   0   0   0   0   0   2 115 253\n",
            " 253 253 253 253 253 253 253 254 253 253 253 253 253 134   5   0   0   0\n",
            "   0   0   0   0   0   0   0   0   3 166 253 253 253 253 253 253 253 254\n",
            " 253 253 253 175  52   5   0   0   0   0   0   0   0   0   0   0   0   0\n",
            "   0   7  35 132 225 253 253 253 195 132 132 132 110   4   0   0   0   0\n",
            "   0   0   0   0   0   0   0   0   0   0   0   0   0   0   0   0   0   0\n",
            "   0   0   0   0   0   0   0   0   0   0   0   0   0   0   0   0   0   0\n",
            "   0   0   0   0   0   0   0   0   0   0   0   0   0   0   0   0   0   0\n",
            "   0   0   0   0   0   0   0   0   0   0   0   0   0   0   0   0   0   0\n",
            "   0   0   0   0   0   0   0   0   0   0   0   0   0   0   0   0   0   0\n",
            "   0   0   0   0   0   0   0   0   0   0   0   0   0   0   0   0   0   0\n",
            "   0   0   0   0   0   0   0   0   0   0   0   0   0   0   0   0   0   0\n",
            "   0   0   0   0   0   0   0   0   0   0   0   0   0   0   0   0   0   0\n",
            "   0   0   0   0   0   0   0   0   0   0   0   0   0   0   0   0   0   0\n",
            "   0   0   0   0   0   0   0   0   0   0] 6 0.098\n"
          ],
          "name": "stdout"
        }
      ]
    },
    {
      "cell_type": "code",
      "metadata": {
        "id": "9y-ikScaBQHw",
        "colab_type": "code",
        "colab": {}
      },
      "source": [
        ""
      ],
      "execution_count": 0,
      "outputs": []
    }
  ]
}
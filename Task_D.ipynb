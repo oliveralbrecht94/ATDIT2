{
  "nbformat": 4,
  "nbformat_minor": 0,
  "metadata": {
    "colab": {
      "name": "Task D.ipynb",
      "provenance": [],
      "collapsed_sections": [],
      "include_colab_link": true
    },
    "kernelspec": {
      "name": "python3",
      "display_name": "Python 3"
    }
  },
  "cells": [
    {
      "cell_type": "markdown",
      "metadata": {
        "id": "view-in-github",
        "colab_type": "text"
      },
      "source": [
        "<a href=\"https://colab.research.google.com/github/oliveralbrecht94/ATDIT2/blob/master/Task_D.ipynb\" target=\"_parent\"><img src=\"https://colab.research.google.com/assets/colab-badge.svg\" alt=\"Open In Colab\"/></a>"
      ]
    },
    {
      "cell_type": "code",
      "metadata": {
        "id": "YIilpglB_vL6",
        "colab_type": "code",
        "colab": {}
      },
      "source": [
        ""
      ],
      "execution_count": 0,
      "outputs": []
    },
    {
      "cell_type": "markdown",
      "metadata": {
        "id": "-4mJQlG1_0pb",
        "colab_type": "text"
      },
      "source": [
        "# D MNIST understanding\n"
      ]
    },
    {
      "cell_type": "markdown",
      "metadata": {
        "id": "JM1R_I49ADKc",
        "colab_type": "text"
      },
      "source": [
        "Partly it is to be distinguished generally for each heavily handwritten numbers from each other. Therefore it is also clear that errors creep in with both algorithms. In the following we show the most difficult cases"
      ]
    },
    {
      "cell_type": "code",
      "metadata": {
        "id": "XCyPBbKbAfid",
        "colab_type": "code",
        "colab": {}
      },
      "source": [
        "import tensorflow as tf\n",
        "import matplotlib.pyplot as plt\n",
        "dataset = tf.keras.datasets.mnist.load_data()[0]\n",
        "digits, labels = dataset[0], dataset[1]\n",
        "\n",
        "plt.set_cmap('gray')\n",
        "%matplotlib inline"
      ],
      "execution_count": 0,
      "outputs": []
    },
    {
      "cell_type": "code",
      "metadata": {
        "id": "dleGn7pnAfvu",
        "colab_type": "code",
        "outputId": "2115063f-ca16-4c90-e801-2b1ad18d8b0d",
        "colab": {
          "base_uri": "https://localhost:8080/",
          "height": 286
        }
      },
      "source": [
        "\n",
        "_ = plt.imshow(digits[23824])\n",
        "print(labels[23824])"
      ],
      "execution_count": 0,
      "outputs": [
        {
          "output_type": "stream",
          "text": [
            "5\n"
          ],
          "name": "stdout"
        },
        {
          "output_type": "display_data",
          "data": {
            "image/png": "[encoded data removed]",
            "text/plain": [
              "<Figure size 432x288 with 1 Axes>"
            ]
          },
          "metadata": {
            "tags": []
          }
        }
      ]
    },
    {
      "cell_type": "code",
      "metadata": {
        "id": "aZTL5o7bAVqD",
        "colab_type": "code",
        "outputId": "57d11bba-c1e8-4db8-96a6-a6695c95931d",
        "colab": {
          "base_uri": "https://localhost:8080/",
          "height": 286
        }
      },
      "source": [
        "_ = plt.imshow(digits[1850])\n",
        "print(labels[1850])"
      ],
      "execution_count": 0,
      "outputs": [
        {
          "output_type": "stream",
          "text": [
            "9\n"
          ],
          "name": "stdout"
        },
        {
          "output_type": "display_data",
          "data": {
            "image/png": "[encoded data removed]",
            "text/plain": [
              "<Figure size 432x288 with 1 Axes>"
            ]
          },
          "metadata": {
            "tags": []
          }
        }
      ]
    },
    {
      "cell_type": "code",
      "metadata": {
        "id": "rDkQHNHtBSyy",
        "colab_type": "code",
        "outputId": "f4e3edf7-2d41-4fcb-e3c1-888e5512dd93",
        "colab": {
          "base_uri": "https://localhost:8080/",
          "height": 286
        }
      },
      "source": [
        "_ = plt.imshow(digits[3062])\n",
        "print(labels[3062])"
      ],
      "execution_count": 0,
      "outputs": [
        {
          "output_type": "stream",
          "text": [
            "5\n"
          ],
          "name": "stdout"
        },
        {
          "output_type": "display_data",
          "data": {
            "image/png": "[encoded data removed]",
            "text/plain": [
              "<Figure size 432x288 with 1 Axes>"
            ]
          },
          "metadata": {
            "tags": []
          }
        }
      ]
    },
    {
      "cell_type": "markdown",
      "metadata": {
        "id": "wfe3hc9kDH4q",
        "colab_type": "text"
      },
      "source": [
        "The number 5 is extremely difficult to recognize, which is also explained by the KNN or KMEANS algorithm. The 5 has a very big similarity with the 9 (see picture 3 -looks like a 9). A \"real 5\" could be also a 9 (see picture no.3). Depending on the handwriting it is very difficult even for humans to arrange these. \n",
        "\n",
        "The two algorithms teach us exactly this result. For example in KMEANS the assignment of the 5  is the worst. With 100 and 1000 repetitions the 5 is completely missing in the cluster assignment. Knn shows also, that there are some numbers (e.g. 8,9,5) are very difficult to predict. They have the highest error rate!\n",
        "\n",
        "All other numbers can be assigned relatively well despite different spellings. This is because they have little similarity with other numbers, even in the most diverse forms. The proportion of white or black dots is similar. Just 0, 2 and 6 are predestined for this because they are quite diffrent to the other numbers. 1 and 7 are very special because in the world two spellings of 1 and 7 are common and many people write 7 with/without a stroke and some write the 1 as a line.. In summary 5, 9, 8 are very difficult to predict.8 is sometimes quite similiar to 0 because they have nearly the same amount of black and white dots. 1,3,4,7 are, depending on their form, simpler but also more difficult and 2,6 and 0 are easy to predict because the proportion of white and black dots is more or less the same as no other number.\n",
        "\n",
        "\n",
        "\n"
      ]
    },
    {
      "cell_type": "markdown",
      "metadata": {
        "id": "0emD8cFWGOTB",
        "colab_type": "text"
      },
      "source": [
        "See some examples for 1 and 7. For us, they look quite similiar. "
      ]
    },
    {
      "cell_type": "code",
      "metadata": {
        "id": "MfFDsMX2GRih",
        "colab_type": "code",
        "outputId": "f4d5d1c2-ebc4-44fc-efa5-7a53c63b5637",
        "colab": {
          "base_uri": "https://localhost:8080/",
          "height": 286
        }
      },
      "source": [
        "_ = plt.imshow(digits[13244])\n",
        "print(labels[13244])"
      ],
      "execution_count": 0,
      "outputs": [
        {
          "output_type": "stream",
          "text": [
            "7\n"
          ],
          "name": "stdout"
        },
        {
          "output_type": "display_data",
          "data": {
            "image/png": "[encoded data removed]",
            "text/plain": [
              "<Figure size 432x288 with 1 Axes>"
            ]
          },
          "metadata": {
            "tags": []
          }
        }
      ]
    },
    {
      "cell_type": "code",
      "metadata": {
        "id": "MuJZdxJtGTXi",
        "colab_type": "code",
        "outputId": "9d798745-9827-4d07-c351-01b7e570d095",
        "colab": {
          "base_uri": "https://localhost:8080/",
          "height": 286
        }
      },
      "source": [
        "_ = plt.imshow(digits[15])\n",
        "print(labels[15])"
      ],
      "execution_count": 0,
      "outputs": [
        {
          "output_type": "stream",
          "text": [
            "7\n"
          ],
          "name": "stdout"
        },
        {
          "output_type": "display_data",
          "data": {
            "image/png": "[encoded data removed]",
            "text/plain": [
              "<Figure size 432x288 with 1 Axes>"
            ]
          },
          "metadata": {
            "tags": []
          }
        }
      ]
    },
    {
      "cell_type": "code",
      "metadata": {
        "id": "4899UqNLGqBW",
        "colab_type": "code",
        "outputId": "0639e7b9-0903-4145-82d5-cdccb3b039c1",
        "colab": {
          "base_uri": "https://localhost:8080/",
          "height": 286
        }
      },
      "source": [
        "_ = plt.imshow(digits[212])\n",
        "print(labels[212])"
      ],
      "execution_count": 116,
      "outputs": [
        {
          "output_type": "stream",
          "text": [
            "7\n"
          ],
          "name": "stdout"
        },
        {
          "output_type": "display_data",
          "data": {
            "image/png": "[encoded data removed]",
            "text/plain": [
              "<Figure size 432x288 with 1 Axes>"
            ]
          },
          "metadata": {
            "tags": []
          }
        }
      ]
    },
    {
      "cell_type": "code",
      "metadata": {
        "id": "OXwf2eH6GeHO",
        "colab_type": "code",
        "outputId": "3c4b1177-ba08-4e2b-e483-453319ea95e4",
        "colab": {
          "base_uri": "https://localhost:8080/",
          "height": 286
        }
      },
      "source": [
        "_ = plt.imshow(digits[158])\n",
        "print(labels[158])"
      ],
      "execution_count": 0,
      "outputs": [
        {
          "output_type": "stream",
          "text": [
            "7\n"
          ],
          "name": "stdout"
        },
        {
          "output_type": "display_data",
          "data": {
            "image/png": "[encoded data removed]",
            "text/plain": [
              "<Figure size 432x288 with 1 Axes>"
            ]
          },
          "metadata": {
            "tags": []
          }
        }
      ]
    },
    {
      "cell_type": "code",
      "metadata": {
        "id": "O5QpNlj9GYPL",
        "colab_type": "code",
        "outputId": "804ca8c0-d5c9-485d-8f7d-92b71c76d4bd",
        "colab": {
          "base_uri": "https://localhost:8080/",
          "height": 286
        }
      },
      "source": [
        "_ = plt.imshow(digits[14])\n",
        "print(labels[14])"
      ],
      "execution_count": 0,
      "outputs": [
        {
          "output_type": "stream",
          "text": [
            "1\n"
          ],
          "name": "stdout"
        },
        {
          "output_type": "display_data",
          "data": {
            "image/png": "[encoded data removed]",
            "text/plain": [
              "<Figure size 432x288 with 1 Axes>"
            ]
          },
          "metadata": {
            "tags": []
          }
        }
      ]
    },
    {
      "cell_type": "markdown",
      "metadata": {
        "id": "RFMm7DmWCnvO",
        "colab_type": "text"
      },
      "source": [
        "\n",
        "\n",
        "See some examples for 2, 6 and 0. They are quite diffrent in comparison to the other numbers, so they are quite good to predict."
      ]
    },
    {
      "cell_type": "code",
      "metadata": {
        "id": "55PN-Wx1DVpE",
        "colab_type": "code",
        "outputId": "86412727-b41b-43cf-cabf-317b8a1b776b",
        "colab": {
          "base_uri": "https://localhost:8080/",
          "height": 286
        }
      },
      "source": [
        "\n",
        "_ = plt.imshow(digits[274])\n",
        "print(labels[274])"
      ],
      "execution_count": 0,
      "outputs": [
        {
          "output_type": "stream",
          "text": [
            "6\n"
          ],
          "name": "stdout"
        },
        {
          "output_type": "display_data",
          "data": {
            "image/png": "[encoded data removed]",
            "text/plain": [
              "<Figure size 432x288 with 1 Axes>"
            ]
          },
          "metadata": {
            "tags": []
          }
        }
      ]
    },
    {
      "cell_type": "code",
      "metadata": {
        "id": "32FCebp8LgbQ",
        "colab_type": "code",
        "outputId": "b0f60baa-0202-4c2c-bbcb-d5cb7e0e3e20",
        "colab": {
          "base_uri": "https://localhost:8080/",
          "height": 286
        }
      },
      "source": [
        "\n",
        "_ = plt.imshow(digits[13])\n",
        "print(labels[13])"
      ],
      "execution_count": 0,
      "outputs": [
        {
          "output_type": "stream",
          "text": [
            "6\n"
          ],
          "name": "stdout"
        },
        {
          "output_type": "display_data",
          "data": {
            "image/png": "[encoded data removed]",
            "text/plain": [
              "<Figure size 432x288 with 1 Axes>"
            ]
          },
          "metadata": {
            "tags": []
          }
        }
      ]
    },
    {
      "cell_type": "code",
      "metadata": {
        "id": "rcaYBRZ9CfWj",
        "colab_type": "code",
        "outputId": "4ba11e90-da86-43ab-bb33-24302d39bee9",
        "colab": {
          "base_uri": "https://localhost:8080/",
          "height": 286
        }
      },
      "source": [
        "\n",
        "_ = plt.imshow(digits[13121])\n",
        "print(labels[13121])"
      ],
      "execution_count": 0,
      "outputs": [
        {
          "output_type": "stream",
          "text": [
            "2\n"
          ],
          "name": "stdout"
        },
        {
          "output_type": "display_data",
          "data": {
            "image/png": "[encoded data removed]",
            "text/plain": [
              "<Figure size 432x288 with 1 Axes>"
            ]
          },
          "metadata": {
            "tags": []
          }
        }
      ]
    },
    {
      "cell_type": "code",
      "metadata": {
        "id": "EX1aXUgUCiik",
        "colab_type": "code",
        "outputId": "b0f6b422-c404-45a2-8d89-344d8df26599",
        "colab": {
          "base_uri": "https://localhost:8080/",
          "height": 286
        }
      },
      "source": [
        "\n",
        "_ = plt.imshow(digits[13244])\n",
        "print(labels[13244])"
      ],
      "execution_count": 0,
      "outputs": [
        {
          "output_type": "stream",
          "text": [
            "7\n"
          ],
          "name": "stdout"
        },
        {
          "output_type": "display_data",
          "data": {
            "image/png": "[encoded data removed]",
            "text/plain": [
              "<Figure size 432x288 with 1 Axes>"
            ]
          },
          "metadata": {
            "tags": []
          }
        }
      ]
    },
    {
      "cell_type": "code",
      "metadata": {
        "id": "hLX8zJpoGGMf",
        "colab_type": "code",
        "colab": {}
      },
      "source": [
        ""
      ],
      "execution_count": 0,
      "outputs": []
    }
  ]
}
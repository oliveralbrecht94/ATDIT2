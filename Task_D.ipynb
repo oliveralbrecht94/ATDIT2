{
  "nbformat": 4,
  "nbformat_minor": 0,
  "metadata": {
    "colab": {
      "name": "Task D.ipynb",
      "provenance": [],
      "collapsed_sections": [],
      "include_colab_link": true
    },
    "kernelspec": {
      "name": "python3",
      "display_name": "Python 3"
    }
  },
  "cells": [
    {
      "cell_type": "markdown",
      "metadata": {
        "id": "view-in-github",
        "colab_type": "text"
      },
      "source": [
        "<a href=\"https://colab.research.google.com/github/oliveralbrecht94/ATDIT2/blob/master/Task_D.ipynb\" target=\"_parent\"><img src=\"https://colab.research.google.com/assets/colab-badge.svg\" alt=\"Open In Colab\"/></a>"
      ]
    },
    {
      "cell_type": "code",
      "metadata": {
        "id": "YIilpglB_vL6",
        "colab_type": "code",
        "colab": {}
      },
      "source": [
        ""
      ],
      "execution_count": 0,
      "outputs": []
    },
    {
      "cell_type": "markdown",
      "metadata": {
        "id": "-4mJQlG1_0pb",
        "colab_type": "text"
      },
      "source": [
        "# D MNIST understanding\n"
      ]
    },
    {
      "cell_type": "markdown",
      "metadata": {
        "id": "JM1R_I49ADKc",
        "colab_type": "text"
      },
      "source": [
        "Partly it is to be distinguished generally for each heavily handwritten numbers from each other. Therefore it is also clear that errors creep in with both algorithms. In the following we show the most difficult cases"
      ]
    },
    {
      "cell_type": "code",
      "metadata": {
        "id": "XCyPBbKbAfid",
        "colab_type": "code",
        "colab": {}
      },
      "source": [
        "import tensorflow as tf\n",
        "import matplotlib.pyplot as plt\n",
        "dataset = tf.keras.datasets.mnist.load_data()[0]\n",
        "digits, labels = dataset[0], dataset[1]"
      ],
      "execution_count": 0,
      "outputs": []
    },
    {
      "cell_type": "code",
      "metadata": {
        "id": "dleGn7pnAfvu",
        "colab_type": "code",
        "colab": {
          "base_uri": "https://localhost:8080/",
          "height": 286
        },
        "outputId": "d683fa57-4c22-4707-a7a8-6076a3e69017"
      },
      "source": [
        "\n",
        "_ = plt.imshow(digits[80])\n",
        "print(labels[80])"
      ],
      "execution_count": 79,
      "outputs": [
        {
          "output_type": "stream",
          "text": [
            "9\n"
          ],
          "name": "stdout"
        },
        {
          "output_type": "display_data",
          "data": {
            "image/png": "[encoded data removed]",
            "text/plain": [
              "<Figure size 432x288 with 1 Axes>"
            ]
          },
          "metadata": {
            "tags": []
          }
        }
      ]
    },
    {
      "cell_type": "code",
      "metadata": {
        "id": "aZTL5o7bAVqD",
        "colab_type": "code",
        "colab": {
          "base_uri": "https://localhost:8080/",
          "height": 286
        },
        "outputId": "1faaa0cb-414b-4e45-ee58-4a1bf5f993d0"
      },
      "source": [
        "_ = plt.imshow(digits[71])\n",
        "print(labels[71])"
      ],
      "execution_count": 45,
      "outputs": [
        {
          "output_type": "stream",
          "text": [
            "7\n"
          ],
          "name": "stdout"
        },
        {
          "output_type": "display_data",
          "data": {
            "image/png": "[encoded data removed]",
            "text/plain": [
              "<Figure size 432x288 with 1 Axes>"
            ]
          },
          "metadata": {
            "tags": []
          }
        }
      ]
    },
    {
      "cell_type": "code",
      "metadata": {
        "id": "rDkQHNHtBSyy",
        "colab_type": "code",
        "colab": {
          "base_uri": "https://localhost:8080/",
          "height": 286
        },
        "outputId": "5a612c31-ee5d-4d8d-b670-3e78ff469527"
      },
      "source": [
        "_ = plt.imshow(digits[3062])\n",
        "print(labels[3062])"
      ],
      "execution_count": 65,
      "outputs": [
        {
          "output_type": "stream",
          "text": [
            "5\n"
          ],
          "name": "stdout"
        },
        {
          "output_type": "display_data",
          "data": {
            "image/png": "[encoded data removed]",
            "text/plain": [
              "<Figure size 432x288 with 1 Axes>"
            ]
          },
          "metadata": {
            "tags": []
          }
        }
      ]
    },
    {
      "cell_type": "markdown",
      "metadata": {
        "id": "wfe3hc9kDH4q",
        "colab_type": "text"
      },
      "source": [
        "The number 9 is extremely difficult to recognize, which is also explained by the KNN or KMEANS algorithm. The 9 has a very big similarity with the 4, with the 1 or with the 5. Depending on the handwriting it is very difficult even for humans to arrange these. \n",
        "\n",
        "The two algorithms teach us exactly this result, because the assignment of the 9 is always the worst. With 10 repetitions the 9 is completely missing with the cluster assignment and with 100 repetitions the 5 is not assigned, because the 5 is also difficult to assign! \n",
        "\n",
        "All other numbers can be assigned relatively well despite different spellings. This is because they have little similarity with other numbers, even in the most diverse forms. Just 0, 2 and 6 are predestined for this. 1 and 7 are exceptions because in the world two spellings of 1 are common and many people write 7 without a stroke. In summary 5 and 9 are very difficult to predict. 1,3,8,4,7 are, depending on their form, simpler but also more difficult and 2,6 and 0 are easy to predict on the basis of the explanation (see above).\n",
        "\n",
        "See some examples for 6 and 2:\n",
        "\n",
        "\n"
      ]
    },
    {
      "cell_type": "code",
      "metadata": {
        "id": "55PN-Wx1DVpE",
        "colab_type": "code",
        "colab": {}
      },
      "source": [
        ""
      ],
      "execution_count": 0,
      "outputs": []
    }
  ]
}